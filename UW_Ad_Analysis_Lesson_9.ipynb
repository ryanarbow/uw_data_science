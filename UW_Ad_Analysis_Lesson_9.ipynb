{
 "cells": [
  {
   "cell_type": "code",
   "execution_count": 1,
   "metadata": {},
   "outputs": [],
   "source": [
    "import numpy as np\n",
    "from sklearn.metrics import *\n",
    "import matplotlib.pyplot as plt\n",
    "from sklearn.linear_model import LogisticRegression\n",
    "from sklearn.naive_bayes import GaussianNB\n",
    "from sklearn.neighbors import KNeighborsClassifier \n",
    "from sklearn.svm import SVC\n",
    "from sklearn.tree import DecisionTreeClassifier\n",
    "from sklearn.ensemble import RandomForestClassifier "
   ]
  },
  {
   "cell_type": "markdown",
   "metadata": {},
   "source": [
    "### Split dataset - training/test"
   ]
  },
  {
   "cell_type": "code",
   "execution_count": 2,
   "metadata": {},
   "outputs": [],
   "source": [
    "def split_dataset(data, r): # split a dataset\n",
    "\tN = len(data)\n",
    "\tX = []\n",
    "\tY = []\n",
    "\t\n",
    "\tif r >= 1: \n",
    "\t\tprint (\"Parameter r needs to be smaller than 1!\")\n",
    "\t\treturn\n",
    "\telif r <= 0:\n",
    "\t\tprint (\"Parameter r needs to be larger than 0!\")\n",
    "\t\treturn\n",
    "\n",
    "\tn = int(round(N*r)) # number of elements in testing sample\n",
    "\tnt = N - n # number of elements in training sample\n",
    "\tind = -np.ones(n,int) # indexes for testing sample\n",
    "\tR = np.random.randint(N) # some random index from the whole dataset\n",
    "\t\n",
    "\tfor i in range(n):\n",
    "\t\twhile R in ind: R = np.random.randint(N) # ensure that the random index hasn't been used before\n",
    "\t\tind[i] = R\n",
    "\n",
    "\tind_ = list(set(range(N)).difference(ind)) # remaining indexes\t\n",
    "\tX = data[ind_,:-1] # training features\n",
    "\tXX = data[ind,:-1] # testing features\n",
    "\tY = data[ind_,-1] # training targets\n",
    "\tYY = data[ind,-1] # testing targests\n",
    "\treturn X, XX, Y, YY"
   ]
  },
  {
   "cell_type": "code",
   "execution_count": 3,
   "metadata": {},
   "outputs": [],
   "source": [
    "r = 0.2 # ratio of test data over all data (this can be changed to any number between 0.0 and 1.0 (not inclusive)\n",
    "dataset = np.genfromtxt('InternetAd_Dataset.csv', delimiter=\",\", skip_header=1)\n",
    "X, XX, Y, YY = split_dataset(dataset, r)"
   ]
  },
  {
   "cell_type": "markdown",
   "metadata": {},
   "source": [
    "### Train model"
   ]
  },
  {
   "cell_type": "code",
   "execution_count": 4,
   "metadata": {},
   "outputs": [],
   "source": [
    "\"\"\" CLASSIFICATION MODELS \"\"\"\n",
    "# Logistic regression classifier\n",
    "C_parameter = 50. / len(X) # parameter for regularization of the model\n",
    "class_parameter = 'ovr' # parameter for dealing with multiple classes\n",
    "penalty_parameter = 'l1' # parameter for the optimizer (solver) in the function\n",
    "solver_parameter = 'saga' # optimization system used\n",
    "tolerance_parameter = 0.1 # termination parameter"
   ]
  },
  {
   "cell_type": "code",
   "execution_count": 5,
   "metadata": {},
   "outputs": [
    {
     "name": "stdout",
     "output_type": "stream",
     "text": [
      "coefficients:\n",
      "[[0.        0.8789862 0.        ... 0.        0.        0.       ]]\n",
      "intercept:\n",
      "[-2.34622463]\n",
      "predictions for test set:\n",
      "[0. 0. 1. 0. 0. 0. 0. 0. 0. 0. 0. 1. 0. 0. 0. 1. 0. 0. 1. 0. 0. 0. 1. 0.\n",
      " 0. 0. 0. 1. 0. 0. 0. 0. 0. 1. 0. 0. 0. 0. 0. 0. 0. 0. 1. 0. 1. 0. 0. 0.\n",
      " 0. 0. 0. 0. 0. 0. 0. 0. 0. 0. 0. 1. 0. 0. 0. 0. 0. 0. 1. 0. 0. 0. 0. 0.\n",
      " 0. 0. 0. 0. 0. 0. 0. 0. 0. 0. 0. 0. 0. 0. 0. 0. 0. 0. 0. 0. 0. 0. 0. 0.\n",
      " 0. 0. 0. 0. 0. 0. 1. 0. 0. 0. 1. 0. 0. 0. 0. 0. 0. 0. 0. 1. 0. 1. 0. 0.\n",
      " 0. 0. 0. 0. 0. 0. 0. 0. 0. 0. 0. 1. 0. 0. 0. 0. 0. 0. 0. 0. 0. 0. 0. 0.\n",
      " 0. 0. 0. 0. 0. 0. 0. 1. 0. 0. 0. 0. 0. 0. 0. 1. 0. 0. 0. 0. 0. 0. 1. 0.\n",
      " 0. 0. 0. 0. 0. 0. 0. 0. 0. 0. 0. 0. 0. 0. 1. 0. 0. 0. 0. 0. 0. 0. 0. 0.\n",
      " 0. 0. 0. 0. 0. 0. 0. 0. 0. 0. 0. 0. 0. 0. 0. 0. 1. 0. 0. 0. 0. 0. 1. 0.\n",
      " 0. 0. 0. 0. 0. 0. 0. 0. 0. 0. 1. 1. 0. 0. 0. 0. 0. 0. 0. 0. 1. 0. 0. 1.\n",
      " 0. 0. 1. 0. 0. 0. 0. 0. 1. 0. 0. 0. 0. 0. 0. 0. 0. 0. 0. 0. 0. 0. 0. 0.\n",
      " 0. 1. 0. 0. 0. 0. 0. 0. 0. 0. 0. 0. 1. 0. 0. 1. 0. 0. 0. 1. 0. 0. 0. 0.\n",
      " 1. 0. 0. 1. 0. 0. 0. 0. 0. 0. 1. 0. 0. 0. 0. 0. 0. 1. 0. 0. 0. 0. 0. 0.\n",
      " 1. 0. 0. 0. 0. 0. 0. 0. 1. 0. 1. 0. 0. 1. 0. 0. 0. 0. 0. 0. 0. 0. 0. 1.\n",
      " 0. 0. 0. 0. 0. 0. 1. 0. 0. 0. 0. 0. 0. 0. 0. 0. 0. 0. 0. 0. 0. 0. 1. 0.\n",
      " 0. 0. 1. 0. 0. 0. 0. 0. 1. 0. 1. 0. 0. 0. 1. 0. 0. 0. 0. 0. 0. 0. 0. 0.\n",
      " 0. 0. 0. 0. 1. 0. 0. 0. 0. 0. 0. 1. 0. 0. 1. 0. 0. 0. 0. 0. 0. 0. 0. 0.\n",
      " 0. 0. 0. 0. 0. 0. 0. 0. 0. 0. 0. 0. 0. 0. 1. 0. 0. 0. 0. 0. 0. 0. 0. 0.\n",
      " 0. 1. 0. 0. 0. 0. 0. 0. 0. 0. 1. 0. 0. 0. 0. 0. 0. 0. 0. 0. 0. 0. 0. 0.\n",
      " 0. 0. 0. 0. 0. 0. 0. 1. 0. 0. 0. 0. 0. 0. 0. 0. 0. 0. 0. 0. 0. 0. 0. 0.\n",
      " 0. 0. 0. 1. 0. 0. 0. 1. 0. 1. 0. 0. 0. 0. 0. 0. 0. 0. 0. 0. 0. 0. 0. 0.\n",
      " 0. 0. 0. 0. 0. 0. 0. 0. 0. 0. 0. 0. 0. 0. 0. 0. 0. 0. 0. 0. 1. 0. 0. 0.\n",
      " 0. 1. 0. 0. 0. 0. 0. 1. 0. 0. 0. 0. 0. 1. 0. 0. 1. 0. 0. 0. 0. 0. 0. 0.\n",
      " 0. 0. 0. 0. 0. 0. 0. 0. 0. 0. 1. 0. 0. 0. 0. 0. 0. 0. 0. 0. 0. 0. 1. 0.\n",
      " 0. 0. 0. 0. 0. 0. 1. 0. 0. 0. 0. 0. 0. 0. 0. 1. 0. 0. 0. 0. 0. 1. 0. 0.\n",
      " 0. 0. 0. 0. 0. 0. 0. 0. 0. 0. 0. 0. 0. 0. 0. 0. 0. 0. 0. 0. 0. 0. 0. 0.\n",
      " 0. 0. 0. 0. 0. 0. 1. 0. 0. 0. 0. 0. 0. 0. 0. 0. 0. 0. 0. 0. 0. 0. 0. 0.\n",
      " 0. 0. 1. 0. 0. 0. 0. 0.]\n",
      "actual class values:\n",
      "[0. 0. 1. 0. 0. 0. 0. 0. 0. 0. 0. 1. 0. 0. 0. 1. 0. 0. 1. 0. 0. 0. 1. 0.\n",
      " 0. 0. 0. 1. 0. 0. 0. 0. 0. 1. 0. 0. 0. 0. 0. 0. 0. 0. 0. 0. 1. 0. 0. 1.\n",
      " 0. 0. 0. 0. 0. 0. 0. 1. 0. 0. 0. 1. 0. 0. 0. 1. 0. 1. 1. 0. 0. 0. 0. 0.\n",
      " 0. 0. 0. 0. 0. 0. 0. 0. 1. 0. 0. 0. 1. 0. 0. 1. 0. 1. 0. 0. 0. 0. 1. 0.\n",
      " 0. 0. 0. 0. 0. 0. 1. 0. 0. 0. 0. 0. 0. 0. 0. 1. 0. 0. 0. 1. 0. 1. 0. 0.\n",
      " 0. 0. 0. 0. 0. 0. 0. 0. 0. 0. 0. 0. 0. 0. 0. 0. 0. 0. 0. 0. 0. 0. 0. 0.\n",
      " 0. 0. 0. 0. 0. 0. 0. 0. 0. 0. 0. 0. 0. 0. 0. 1. 0. 0. 0. 0. 0. 0. 1. 0.\n",
      " 0. 0. 0. 0. 0. 0. 0. 0. 0. 0. 0. 0. 0. 0. 0. 0. 0. 0. 0. 0. 0. 0. 0. 0.\n",
      " 0. 0. 0. 0. 0. 0. 0. 0. 0. 0. 0. 0. 1. 0. 0. 1. 1. 0. 0. 0. 0. 0. 1. 0.\n",
      " 0. 0. 0. 0. 0. 1. 0. 0. 0. 0. 1. 1. 0. 0. 0. 0. 0. 0. 0. 0. 1. 0. 0. 1.\n",
      " 0. 0. 1. 0. 0. 0. 0. 0. 1. 0. 0. 0. 0. 0. 0. 0. 0. 0. 0. 0. 0. 0. 0. 0.\n",
      " 0. 1. 0. 0. 0. 0. 0. 1. 0. 0. 0. 0. 1. 0. 0. 1. 0. 0. 0. 1. 0. 0. 1. 1.\n",
      " 1. 0. 1. 1. 0. 0. 0. 0. 0. 0. 1. 0. 0. 0. 0. 1. 0. 1. 0. 1. 0. 0. 0. 0.\n",
      " 1. 0. 0. 0. 0. 0. 0. 1. 1. 0. 1. 0. 0. 0. 0. 0. 0. 0. 0. 0. 0. 0. 1. 0.\n",
      " 0. 0. 0. 0. 0. 0. 1. 0. 0. 0. 1. 0. 0. 0. 0. 0. 0. 0. 1. 0. 0. 0. 1. 0.\n",
      " 0. 0. 0. 0. 0. 0. 0. 0. 1. 1. 1. 0. 0. 1. 1. 0. 0. 0. 0. 1. 0. 0. 1. 0.\n",
      " 0. 0. 1. 0. 1. 0. 0. 0. 0. 1. 0. 1. 0. 0. 1. 0. 1. 0. 1. 0. 0. 0. 1. 0.\n",
      " 0. 0. 0. 0. 0. 0. 0. 0. 0. 0. 1. 0. 0. 0. 1. 0. 0. 0. 0. 0. 0. 0. 0. 0.\n",
      " 0. 1. 0. 0. 0. 0. 0. 0. 0. 0. 1. 0. 1. 0. 0. 0. 0. 0. 0. 0. 0. 0. 0. 0.\n",
      " 0. 0. 0. 0. 1. 0. 0. 1. 0. 0. 0. 0. 0. 0. 1. 0. 0. 0. 0. 1. 0. 0. 0. 0.\n",
      " 1. 0. 1. 1. 0. 0. 1. 1. 0. 1. 0. 0. 0. 0. 0. 0. 0. 0. 0. 1. 0. 0. 0. 0.\n",
      " 0. 0. 0. 0. 0. 0. 0. 1. 0. 0. 0. 0. 0. 0. 0. 0. 0. 0. 1. 0. 1. 0. 0. 0.\n",
      " 0. 1. 0. 0. 0. 0. 0. 1. 0. 0. 0. 0. 0. 1. 0. 0. 1. 0. 0. 0. 1. 0. 0. 0.\n",
      " 0. 0. 0. 0. 0. 0. 0. 0. 0. 0. 1. 0. 0. 0. 0. 0. 0. 0. 0. 1. 0. 0. 1. 0.\n",
      " 0. 0. 0. 0. 0. 1. 1. 0. 0. 0. 0. 0. 0. 0. 0. 0. 0. 0. 0. 0. 0. 1. 0. 0.\n",
      " 0. 0. 0. 0. 0. 0. 0. 0. 0. 0. 0. 0. 0. 0. 0. 0. 0. 0. 1. 0. 0. 0. 0. 0.\n",
      " 0. 0. 0. 0. 0. 0. 1. 0. 0. 0. 0. 0. 0. 0. 0. 0. 0. 0. 0. 1. 0. 0. 0. 0.\n",
      " 0. 0. 1. 0. 0. 0. 0. 0.]\n"
     ]
    }
   ],
   "source": [
    "#Training the LR Model\n",
    "clf = LogisticRegression(C=C_parameter, multi_class=class_parameter, penalty=penalty_parameter, solver=solver_parameter, tol=tolerance_parameter)\n",
    "clf.fit(X, Y) \n",
    "print ('coefficients:')\n",
    "print (clf.coef_) # each row of this matrix corresponds to each one of the classes of the dataset\n",
    "print ('intercept:')\n",
    "print (clf.intercept_) # each element of this vector corresponds to each one of the classes of the dataset\n",
    "\n",
    "# Apply the Model\n",
    "print ('predictions for test set:')\n",
    "print (clf.predict(XX))\n",
    "print ('actual class values:')\n",
    "print (YY)"
   ]
  },
  {
   "cell_type": "markdown",
   "metadata": {},
   "source": [
    "### Assess model"
   ]
  },
  {
   "cell_type": "code",
   "execution_count": 6,
   "metadata": {},
   "outputs": [],
   "source": [
    "Y = (clf.predict(XX))\n",
    "T = (YY)"
   ]
  },
  {
   "cell_type": "code",
   "execution_count": 7,
   "metadata": {},
   "outputs": [
    {
     "name": "stdout",
     "output_type": "stream",
     "text": [
      "\n",
      "\n",
      "Confusion matrix:\n",
      " [[539   9]\n",
      " [ 48  60]]\n",
      "\n",
      "TP, TN, FP, FN: 60 , 539 , 9 , 48\n",
      "\n",
      "Accuracy rate: 0.913109756097561\n",
      "\n",
      "Error rate: 0.08689024390243905\n",
      "\n",
      "Precision: 0.87\n",
      "\n",
      "Recall: 0.56\n",
      "\n",
      "F1 score: 0.68\n"
     ]
    }
   ],
   "source": [
    "# Confusion Matrix\n",
    "CM = confusion_matrix(T, Y)\n",
    "print (\"\\n\\nConfusion matrix:\\n\", CM)\n",
    "tn, fp, fn, tp = CM.ravel()\n",
    "print (\"\\nTP, TN, FP, FN:\", tp, \",\", tn, \",\", fp, \",\", fn)\n",
    "AR = accuracy_score(T, Y)\n",
    "print (\"\\nAccuracy rate:\", AR)\n",
    "ER = 1.0 - AR\n",
    "print (\"\\nError rate:\", ER)\n",
    "P = precision_score(T, Y)\n",
    "print (\"\\nPrecision:\", np.round(P, 2))\n",
    "R = recall_score(T, Y)\n",
    "print (\"\\nRecall:\", np.round(R, 2))\n",
    "F1 = f1_score(T, Y)\n",
    "print (\"\\nF1 score:\", np.round(F1, 2))"
   ]
  },
  {
   "cell_type": "code",
   "execution_count": 8,
   "metadata": {},
   "outputs": [],
   "source": [
    "# ROC analysis\n",
    "LW = 1.5 # line width for plots\n",
    "LL = \"lower right\" # legend location\n",
    "LC = 'green' # Line Color"
   ]
  },
  {
   "cell_type": "code",
   "execution_count": 9,
   "metadata": {},
   "outputs": [
    {
     "name": "stdout",
     "output_type": "stream",
     "text": [
      "\n",
      "TP rates: [0.01 0.02 0.06 0.11 0.14 0.19 0.25 0.27 0.29 0.3  0.3  0.3  0.32 0.36\n",
      " 0.37 0.37 0.42 0.45 0.51 0.51 0.54 0.56 0.56 0.58 0.61 0.61 0.63 0.63\n",
      " 0.64 0.65 0.65 0.66 0.66 0.67 0.7  0.7  0.73 0.73 0.73 0.73 0.73 0.75\n",
      " 0.76 0.76 0.77 0.77 0.79 0.79 0.8  0.8  0.8  0.8  0.8  0.81 0.81 0.81\n",
      " 0.82 0.82 0.83 0.83 0.83 0.83 0.83 0.83 0.83 0.83 0.83 0.83 0.83 0.83\n",
      " 0.83 0.83 0.83 0.83 0.83 0.83 0.83 0.84 0.84 0.84 0.85 0.85 0.85 0.85\n",
      " 0.85 0.85 0.85 0.85 0.85 0.85 0.85 0.87 0.88 0.88 0.88 0.88 0.88 0.88\n",
      " 0.88 0.88 0.88 0.88 0.91 0.93 0.93 0.93 0.93 0.93 0.93 0.93 0.96 0.96\n",
      " 0.96 0.96 0.96 0.96 0.96 0.96 0.96 0.97 0.97 0.97 0.97 0.97 0.97 0.97\n",
      " 0.98 0.98 0.98 0.98 0.98 0.98 0.99 0.99 0.99 0.99 0.99 0.99 0.99 0.99\n",
      " 0.99 0.99 0.99 0.99 1.   1.   1.   1.   1.   1.   1.   1.   1.   1.\n",
      " 1.   1.   1.   1.   1.   1.   1.   1.   1.   1.   1.   1.  ]\n",
      "\n",
      "FP rates: [0.   0.   0.   0.   0.   0.   0.   0.   0.   0.   0.01 0.01 0.01 0.01\n",
      " 0.01 0.01 0.01 0.01 0.01 0.02 0.02 0.02 0.02 0.02 0.02 0.02 0.02 0.02\n",
      " 0.02 0.02 0.02 0.02 0.03 0.03 0.03 0.03 0.03 0.03 0.04 0.04 0.04 0.04\n",
      " 0.04 0.04 0.04 0.05 0.05 0.05 0.05 0.05 0.06 0.06 0.06 0.06 0.07 0.07\n",
      " 0.07 0.08 0.08 0.09 0.09 0.1  0.1  0.11 0.12 0.14 0.14 0.15 0.15 0.16\n",
      " 0.17 0.17 0.18 0.18 0.19 0.2  0.2  0.2  0.21 0.21 0.22 0.22 0.23 0.23\n",
      " 0.24 0.24 0.26 0.26 0.26 0.26 0.27 0.27 0.27 0.28 0.29 0.3  0.3  0.3\n",
      " 0.31 0.31 0.32 0.32 0.33 0.34 0.34 0.35 0.36 0.36 0.38 0.38 0.65 0.65\n",
      " 0.66 0.66 0.67 0.67 0.68 0.68 0.69 0.72 0.73 0.74 0.74 0.75 0.76 0.77\n",
      " 0.79 0.8  0.8  0.81 0.81 0.82 0.82 0.82 0.82 0.83 0.83 0.83 0.84 0.85\n",
      " 0.86 0.87 0.87 0.88 0.88 0.89 0.89 0.89 0.9  0.9  0.91 0.91 0.92 0.92\n",
      " 0.93 0.94 0.94 0.95 0.95 0.96 0.96 0.97 0.97 0.98 0.99 1.  ]\n",
      "\n",
      "Probability thresholds: [0.95 0.95 0.95 0.86 0.86 0.82 0.81 0.8  0.79 0.78 0.77 0.76 0.59 0.59\n",
      " 0.59 0.58 0.57 0.55 0.55 0.54 0.52 0.52 0.5  0.49 0.46 0.44 0.44 0.42\n",
      " 0.42 0.42 0.41 0.4  0.36 0.31 0.31 0.29 0.28 0.28 0.28 0.25 0.25 0.23\n",
      " 0.23 0.23 0.22 0.21 0.21 0.2  0.19 0.19 0.19 0.18 0.18 0.18 0.18 0.16\n",
      " 0.16 0.16 0.16 0.15 0.14 0.14 0.13 0.13 0.13 0.13 0.13 0.13 0.13 0.12\n",
      " 0.11 0.11 0.11 0.11 0.1  0.1  0.1  0.1  0.1  0.09 0.09 0.09 0.09 0.09\n",
      " 0.09 0.09 0.09 0.08 0.08 0.08 0.08 0.08 0.08 0.08 0.08 0.08 0.08 0.08\n",
      " 0.08 0.08 0.08 0.07 0.07 0.07 0.07 0.07 0.07 0.07 0.07 0.07 0.07 0.07\n",
      " 0.07 0.07 0.07 0.07 0.07 0.07 0.06 0.06 0.06 0.06 0.06 0.06 0.06 0.06\n",
      " 0.06 0.06 0.06 0.06 0.06 0.06 0.06 0.06 0.06 0.05 0.05 0.05 0.05 0.05\n",
      " 0.05 0.05 0.05 0.05 0.05 0.04 0.04 0.04 0.04 0.04 0.04 0.04 0.04 0.04\n",
      " 0.04 0.04 0.04 0.04 0.04 0.04 0.04 0.04 0.04 0.03 0.03 0.03]\n"
     ]
    }
   ],
   "source": [
    "preds = clf.predict_proba(XX)[:,1]\n",
    "fpr, tpr, th = roc_curve(T, preds) # False Positive Rate, True Posisive Rate, probability thresholds\n",
    "AUC = auc(fpr, tpr)\n",
    "print (\"\\nTP rates:\", np.round(tpr, 2))\n",
    "print (\"\\nFP rates:\", np.round(fpr, 2))\n",
    "print (\"\\nProbability thresholds:\", np.round(th, 2))"
   ]
  },
  {
   "cell_type": "code",
   "execution_count": 10,
   "metadata": {},
   "outputs": [
    {
     "data": {
      "image/png": "[encoded data removed]",
      "text/plain": [
       "<matplotlib.figure.Figure at 0x1a122a19e8>"
      ]
     },
     "metadata": {},
     "output_type": "display_data"
    }
   ],
   "source": [
    "plt.figure()\n",
    "plt.title('Receiver Operating Characteristic curve example')\n",
    "plt.xlim([0.0, 1.0])\n",
    "plt.ylim([0.0, 1.05])\n",
    "plt.xlabel('FALSE Positive Rate')\n",
    "plt.ylabel('TRUE Positive Rate')\n",
    "plt.plot(fpr, tpr, color=LC,lw=LW, label='ROC curve (area = %0.2f)' % AUC)\n",
    "plt.plot([0, 1], [0, 1], color='navy', lw=LW, linestyle='--') # reference line for random classifier\n",
    "plt.legend(loc=LL)\n",
    "plt.show()"
   ]
  },
  {
   "cell_type": "code",
   "execution_count": 11,
   "metadata": {},
   "outputs": [
    {
     "name": "stdout",
     "output_type": "stream",
     "text": [
      "\n",
      "AUC score (using auc function): 0.91\n",
      "\n",
      "AUC score (using roc_auc_score function): 0.91 \n",
      "\n"
     ]
    }
   ],
   "source": [
    "print (\"\\nAUC score (using auc function):\", np.round(AUC, 2))\n",
    "print (\"\\nAUC score (using roc_auc_score function):\", np.round(roc_auc_score(T, preds), 2), \"\\n\")"
   ]
  },
  {
   "cell_type": "code",
   "execution_count": null,
   "metadata": {},
   "outputs": [],
   "source": []
  }
 ],
 "metadata": {
  "kernelspec": {
   "display_name": "Python 3",
   "language": "python",
   "name": "python3"
  },
  "language_info": {
   "codemirror_mode": {
    "name": "ipython",
    "version": 3
   },
   "file_extension": ".py",
   "mimetype": "text/x-python",
   "name": "python",
   "nbconvert_exporter": "python",
   "pygments_lexer": "ipython3",
   "version": "3.6.4"
  }
 },
 "nbformat": 4,
 "nbformat_minor": 2
}
