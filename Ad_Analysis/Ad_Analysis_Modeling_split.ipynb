{
 "cells": [
  {
   "cell_type": "markdown",
   "metadata": {},
   "source": [
    "Phases of data modeling - Test, train, deploy\n",
    "Classification model - where variable predicted (target) is categorical\n",
    "ad/nonad = binary classification\n",
    "classification model = \"classifier\"\n",
    "Data involved in classification models:\n",
    "inputs = features used in form of dataframe/matrix\n",
    "labels - column in dataframe\n",
    "entities after running classifier = predictive classes, and corresponding confidence\n",
    "parameters"
   ]
  },
  {
   "cell_type": "code",
   "execution_count": 1,
   "metadata": {},
   "outputs": [],
   "source": [
    "import numpy as np\n",
    "import pandas as pd\n",
    "import matplotlib.pyplot as plt\n",
    "from pandas.tools.plotting import scatter_matrix\n",
    "from sklearn.preprocessing import *\n",
    "from sklearn.metrics import *"
   ]
  },
  {
   "cell_type": "markdown",
   "metadata": {},
   "source": [
    "### Data Modeling"
   ]
  },
  {
   "cell_type": "markdown",
   "metadata": {},
   "source": [
    "Now that we have our feature set we're going to create a binary classification model to make our ad/nonad prediction. \n",
    "\n",
    "First, we'll split the dataset into train and test sets. The split allows us to avoid overfitting the model. We'll follow the standard a 80% train /20% test data split.\n",
    "\n",
    "Next, we'll use the data to train and test three classifiers: Logistic Regression, Naive Bayes, and K Nearest Neighbor.\n",
    "\n",
    "Lastly, we'll evaluate these models using Confusion matrix and ROC curve "
   ]
  },
  {
   "cell_type": "markdown",
   "metadata": {},
   "source": [
    "### Train/Test\n",
    "\n",
    "To start, we will use pandas to import the feature set we previously created"
   ]
  },
  {
   "cell_type": "code",
   "execution_count": 2,
   "metadata": {},
   "outputs": [],
   "source": [
    "#Read csv into a pandas dataframe\n",
    "ad_df = pd.read_csv('InternetAd_Dataset.csv')"
   ]
  },
  {
   "cell_type": "markdown",
   "metadata": {},
   "source": [
    "Then we will split the data into 1) labels - what we want to predict (in this case, ads) and 2) inputs (features) - the data used to predict the labels. "
   ]
  },
  {
   "cell_type": "code",
   "execution_count": 3,
   "metadata": {},
   "outputs": [],
   "source": [
    "#Assign 'ad' column to y\n",
    "y = ad_df.ad\n",
    "\n",
    "#Create feature set which excludes the 'ad'\n",
    "X = ad_df.drop('ad', axis=1)"
   ]
  },
  {
   "cell_type": "markdown",
   "metadata": {},
   "source": [
    "To easily split the dataset into a training set and testing set, we'll import the train_test_split() function from sklearn."
   ]
  },
  {
   "cell_type": "code",
   "execution_count": 4,
   "metadata": {},
   "outputs": [],
   "source": [
    "from sklearn.model_selection import train_test_split"
   ]
  },
  {
   "cell_type": "markdown",
   "metadata": {},
   "source": [
    "For the train_test_split() function, we will pass the variables X and y that we obtained previously, along with test_size=0.20 which is used to indicate that the test data should be 20% of the total data and rest 80% should be train data."
   ]
  },
  {
   "cell_type": "code",
   "execution_count": 5,
   "metadata": {},
   "outputs": [],
   "source": [
    "X, XX, Y, YY = train_test_split(X, y, test_size=0.2)\n",
    "#print(X_train)\n",
    "#print(X_train.head())\n",
    "# print(X_train.shape)\n",
    "# print(X_test)\n",
    "# print(X_test.head())\n",
    "# print(X_test.shape)"
   ]
  },
  {
   "cell_type": "code",
   "execution_count": 6,
   "metadata": {},
   "outputs": [],
   "source": [
    "import numpy as np\n",
    "from sklearn.linear_model import LogisticRegression\n",
    "from sklearn.naive_bayes import GaussianNB\n",
    "from sklearn.neighbors import KNeighborsClassifier "
   ]
  },
  {
   "cell_type": "code",
   "execution_count": 7,
   "metadata": {},
   "outputs": [
    {
     "data": {
      "text/plain": [
       "' CLASSIFICATION MODELS '"
      ]
     },
     "execution_count": 7,
     "metadata": {},
     "output_type": "execute_result"
    }
   ],
   "source": [
    "\"\"\" CLASSIFICATION MODELS \"\"\"\n",
    "# Logistic regression classifier\n",
    "# print ('\\n\\n\\nLogistic regression classifier\\n')\n",
    "# C_parameter = 50. / len(X) # parameter for regularization of the model\n",
    "# class_parameter = 'ovr' # parameter for dealing with multiple classes\n",
    "# penalty_parameter = 'l1' # parameter for the optimizer (solver) in the function\n",
    "# solver_parameter = 'saga' # optimization system used\n",
    "# tolerance_parameter = 0.1 # termination parameter"
   ]
  },
  {
   "cell_type": "code",
   "execution_count": 8,
   "metadata": {},
   "outputs": [
    {
     "name": "stdout",
     "output_type": "stream",
     "text": [
      "coefficients:\n",
      "[[-0.22535907  1.00496787 -0.14021396 ...  0.07703329 -0.18354796\n",
      "  -0.09214434]]\n",
      "intercept:\n",
      "[-2.95986493]\n"
     ]
    }
   ],
   "source": [
    "#Training the Model\n",
    "clf = LogisticRegression()#C=C_parameter, multi_class=class_parameter, penalty=penalty_parameter, solver=solver_parameter, tol=tolerance_parameter)\n",
    "clf.fit(X, Y) \n",
    "print ('coefficients:')\n",
    "print (clf.coef_) # each row of this matrix corresponds to each one of the classes of the dataset\n",
    "print ('intercept:')\n",
    "print (clf.intercept_) # each element of this vector corresponds to each one of the classes of the dataset\n",
    "\n",
    "#coefficient = importance\n",
    "# Apply the Model\n",
    "# print ('predictions for test set:')\n",
    "# print (clf.predict(XX))\n",
    "# print ('actual class values:')\n",
    "# print (YY)"
   ]
  },
  {
   "cell_type": "code",
   "execution_count": 9,
   "metadata": {},
   "outputs": [
    {
     "name": "stdout",
     "output_type": "stream",
     "text": [
      "\n",
      "\n",
      "Naive Bayes classifier\n",
      "\n"
     ]
    },
    {
     "data": {
      "text/plain": [
       "GaussianNB(priors=None)"
      ]
     },
     "execution_count": 9,
     "metadata": {},
     "output_type": "execute_result"
    }
   ],
   "source": [
    "# Naive Bayes classifier\n",
    "print ('\\n\\nNaive Bayes classifier\\n')\n",
    "nbc = GaussianNB() # default parameters are fine\n",
    "nbc.fit(X, Y)\n",
    "# print (\"predictions for test set:\")\n",
    "# print (nbc.predict(XX))\n",
    "# print ('actual class values:')\n",
    "# print (YY)"
   ]
  },
  {
   "cell_type": "code",
   "execution_count": 10,
   "metadata": {},
   "outputs": [
    {
     "name": "stdout",
     "output_type": "stream",
     "text": [
      "\n",
      "\n",
      "K nearest neighbors classifier\n",
      "\n"
     ]
    },
    {
     "data": {
      "text/plain": [
       "KNeighborsClassifier(algorithm='auto', leaf_size=30, metric='euclidean',\n",
       "           metric_params=None, n_jobs=1, n_neighbors=5, p=2,\n",
       "           weights='uniform')"
      ]
     },
     "execution_count": 10,
     "metadata": {},
     "output_type": "execute_result"
    }
   ],
   "source": [
    "# k Nearest Neighbors classifier\n",
    "print ('\\n\\nK nearest neighbors classifier\\n')\n",
    "k = 5 # number of neighbors\n",
    "distance_metric = 'euclidean'\n",
    "knn = KNeighborsClassifier(n_neighbors=k, metric=distance_metric)\n",
    "knn.fit(X, Y)\n",
    "# print (\"predictions for test set:\")\n",
    "# print (knn.predict(XX))\n",
    "# print ('actual class values:')\n",
    "# print (YY)"
   ]
  },
  {
   "cell_type": "markdown",
   "metadata": {},
   "source": [
    "# Assess model"
   ]
  },
  {
   "cell_type": "markdown",
   "metadata": {},
   "source": [
    "Classification statistics - analyze the results of a classifier\n",
    "which model is more accurate?\n",
    "\n",
    "Now that we have our classifiers we need to determine how effective a classification model is by.... In order to do that we can use two main methods: 1) Confusion Matrix and 2) ROC analysis (ROC curve)"
   ]
  },
  {
   "cell_type": "markdown",
   "metadata": {},
   "source": [
    "### Confusion Matrix"
   ]
  },
  {
   "cell_type": "markdown",
   "metadata": {},
   "source": [
    "For each of the classifiers above, we'll create a confusion matrix, which helps us organize a classifier's predictions in terms of how they relate with the two classes. Each class will either be - correct (positive) or incorrect (negative). \n",
    "\n",
    "With this we'll be able to create a matrix which includes - True Positive (TP) - data points labeled as positive that are actually positive, False Positive (FP) - data points labeled as positive that are actually negative, True Negative (TN) - data points labeled as negative that are actually negative, and False Negative (FN) - data points labeled as negative that are actually positive."
   ]
  },
  {
   "cell_type": "markdown",
   "metadata": {},
   "source": [
    "For each classifier, we'll use the confusion_matrix() function the test labels (XX) and test inputs (YY)"
   ]
  },
  {
   "cell_type": "code",
   "execution_count": 11,
   "metadata": {},
   "outputs": [],
   "source": [
    "Y = (clf.predict(XX))\n",
    "T = (YY)"
   ]
  },
  {
   "cell_type": "code",
   "execution_count": 12,
   "metadata": {},
   "outputs": [
    {
     "name": "stdout",
     "output_type": "stream",
     "text": [
      "\n",
      "\n",
      "Confusion matrix:\n",
      " [[551   1]\n",
      " [ 22  82]]\n",
      "\n",
      "TP, TN, FP, FN: 82 , 551 , 1 , 22\n",
      "\n",
      "Accuracy rate: 0.9649390243902439\n",
      "\n",
      "Error rate: 0.03506097560975607\n",
      "\n",
      "Precision: 0.99\n",
      "\n",
      "Recall: 0.79\n",
      "\n",
      "F1 score: 0.88\n"
     ]
    }
   ],
   "source": [
    "#Confusion Matrix\n",
    "CM = confusion_matrix(T, Y)\n",
    "print (\"\\n\\nConfusion matrix:\\n\", CM)\n",
    "tn, fp, fn, tp = CM.ravel()\n",
    "print (\"\\nTP, TN, FP, FN:\", tp, \",\", tn, \",\", fp, \",\", fn)\n",
    "AR = accuracy_score(T, Y)\n",
    "print (\"\\nAccuracy rate:\", AR)\n",
    "ER = 1.0 - AR\n",
    "print (\"\\nError rate:\", ER)\n",
    "P = precision_score(T, Y)\n",
    "print (\"\\nPrecision:\", np.round(P, 2))\n",
    "R = recall_score(T, Y)\n",
    "print (\"\\nRecall:\", np.round(R, 2))\n",
    "F1 = f1_score(T, Y)\n",
    "print (\"\\nF1 score:\", np.round(F1, 2))"
   ]
  },
  {
   "cell_type": "code",
   "execution_count": 13,
   "metadata": {},
   "outputs": [],
   "source": [
    "Y = (nbc.predict(XX))\n",
    "T = (YY)"
   ]
  },
  {
   "cell_type": "code",
   "execution_count": 14,
   "metadata": {},
   "outputs": [
    {
     "name": "stdout",
     "output_type": "stream",
     "text": [
      "\n",
      "\n",
      "Confusion matrix:\n",
      " [[432 120]\n",
      " [ 18  86]]\n",
      "\n",
      "TP, TN, FP, FN: 86 , 432 , 120 , 18\n",
      "\n",
      "Accuracy rate: 0.7896341463414634\n",
      "\n",
      "Error rate: 0.21036585365853655\n",
      "\n",
      "Precision: 0.42\n",
      "\n",
      "Recall: 0.83\n",
      "\n",
      "F1 score: 0.55\n"
     ]
    }
   ],
   "source": [
    "# Confusion Matrix\n",
    "CM = confusion_matrix(T, Y)\n",
    "print (\"\\n\\nConfusion matrix:\\n\", CM)\n",
    "tn, fp, fn, tp = CM.ravel()\n",
    "print (\"\\nTP, TN, FP, FN:\", tp, \",\", tn, \",\", fp, \",\", fn)\n",
    "AR = accuracy_score(T, Y)\n",
    "print (\"\\nAccuracy rate:\", AR)\n",
    "ER = 1.0 - AR\n",
    "print (\"\\nError rate:\", ER)\n",
    "P = precision_score(T, Y)\n",
    "print (\"\\nPrecision:\", np.round(P, 2))\n",
    "R = recall_score(T, Y)\n",
    "print (\"\\nRecall:\", np.round(R, 2))\n",
    "F1 = f1_score(T, Y)\n",
    "print (\"\\nF1 score:\", np.round(F1, 2))"
   ]
  },
  {
   "cell_type": "code",
   "execution_count": 15,
   "metadata": {},
   "outputs": [],
   "source": [
    "Y = (knn.predict(XX))\n",
    "T = (YY)"
   ]
  },
  {
   "cell_type": "code",
   "execution_count": 16,
   "metadata": {},
   "outputs": [
    {
     "name": "stdout",
     "output_type": "stream",
     "text": [
      "\n",
      "\n",
      "Confusion matrix:\n",
      " [[548   4]\n",
      " [ 21  83]]\n",
      "\n",
      "TP, TN, FP, FN: 83 , 548 , 4 , 21\n",
      "\n",
      "Accuracy rate: 0.961890243902439\n",
      "\n",
      "Error rate: 0.038109756097560954\n",
      "\n",
      "Precision: 0.95\n",
      "\n",
      "Recall: 0.8\n",
      "\n",
      "F1 score: 0.87\n"
     ]
    }
   ],
   "source": [
    "# Confusion Matrix\n",
    "CM = confusion_matrix(T, Y)\n",
    "print (\"\\n\\nConfusion matrix:\\n\", CM)\n",
    "tn, fp, fn, tp = CM.ravel()\n",
    "print (\"\\nTP, TN, FP, FN:\", tp, \",\", tn, \",\", fp, \",\", fn)\n",
    "AR = accuracy_score(T, Y)\n",
    "print (\"\\nAccuracy rate:\", AR)\n",
    "ER = 1.0 - AR\n",
    "print (\"\\nError rate:\", ER)\n",
    "P = precision_score(T, Y)\n",
    "print (\"\\nPrecision:\", np.round(P, 2))\n",
    "R = recall_score(T, Y)\n",
    "print (\"\\nRecall:\", np.round(R, 2))\n",
    "F1 = f1_score(T, Y)\n",
    "print (\"\\nF1 score:\", np.round(F1, 2))"
   ]
  },
  {
   "cell_type": "markdown",
   "metadata": {},
   "source": [
    "### ROC Analysis\n",
    "We can compare the performance of a classifier against each other to see which performs better using ROC curves"
   ]
  },
  {
   "cell_type": "code",
   "execution_count": 17,
   "metadata": {},
   "outputs": [],
   "source": [
    "# ROC analysis\n",
    "LW = 1.5 # line width for plots\n",
    "LL = \"lower right\" # legend location\n",
    "LC = 'green' # Line Color"
   ]
  },
  {
   "cell_type": "code",
   "execution_count": 29,
   "metadata": {},
   "outputs": [],
   "source": [
    "preds = clf.predict_proba(XX)[:,1]\n",
    "cfpr, ctpr, cth = roc_curve(T, preds) # False Positive Rate, True Posisive Rate, probability thresholds\n",
    "cAUC = auc(cfpr, ctpr)"
   ]
  },
  {
   "cell_type": "code",
   "execution_count": 30,
   "metadata": {},
   "outputs": [],
   "source": [
    "preds = nbc.predict_proba(XX)[:,1]\n",
    "nfpr, ntpr, nth = roc_curve(T, preds) # False Positive Rate, True Posisive Rate, probability thresholds\n",
    "nAUC = auc(nfpr, ntpr)\n",
    "# print (\"\\nTP rates:\", np.round(tpr, 2))\n",
    "# print (\"\\nFP rates:\", np.round(fpr, 2))\n",
    "# print (\"\\nProbability thresholds:\", np.round(th, 2))"
   ]
  },
  {
   "cell_type": "code",
   "execution_count": 31,
   "metadata": {},
   "outputs": [],
   "source": [
    "preds = knn.predict_proba(XX)[:,1]\n",
    "kfpr, ktpr, kth = roc_curve(T, preds) # False Positive Rate, True Posisive Rate, probability thresholds\n",
    "kAUC = auc(kfpr, ktpr)"
   ]
  },
  {
   "cell_type": "code",
   "execution_count": 38,
   "metadata": {},
   "outputs": [
    {
     "data": {
      "image/png": "[encoded data removed]",
      "text/plain": [
       "<matplotlib.figure.Figure at 0x1a26e64a58>"
      ]
     },
     "metadata": {},
     "output_type": "display_data"
    }
   ],
   "source": [
    "plt.figure()\n",
    "plt.plot(cfpr, ctpr, color='darkred',lw=LW, label='Logistic Regression (area = %0.2f)' % cAUC)\n",
    "plt.plot(kfpr, ktpr, color='green',lw=LW, label='K-nearest Neighbours (area = %0.2f)' % kAUC)\n",
    "plt.plot(nfpr, ntpr, color='darkorange',lw=LW, label='Naive Bayes (area = %0.2f)' % nAUC)\n",
    "plt.plot([0, 1], [0, 1], color='navy', lw=LW, linestyle='--') # reference line for random classifier\n",
    "plt.xlim([0.0, 1.0])\n",
    "plt.ylim([0.0, 1.05])\n",
    "plt.xlabel('FALSE Positive Rate')\n",
    "plt.ylabel('TRUE Positive Rate')\n",
    "plt.title('Receiver Operating Characteristic curve example')\n",
    "plt.legend(loc=LL)\n",
    "plt.show()"
   ]
  },
  {
   "cell_type": "code",
   "execution_count": null,
   "metadata": {},
   "outputs": [],
   "source": []
  }
 ],
 "metadata": {
  "kernelspec": {
   "display_name": "Python 3",
   "language": "python",
   "name": "python3"
  },
  "language_info": {
   "codemirror_mode": {
    "name": "ipython",
    "version": 3
   },
   "file_extension": ".py",
   "mimetype": "text/x-python",
   "name": "python",
   "nbconvert_exporter": "python",
   "pygments_lexer": "ipython3",
   "version": "3.6.5"
  }
 },
 "nbformat": 4,
 "nbformat_minor": 2
}
