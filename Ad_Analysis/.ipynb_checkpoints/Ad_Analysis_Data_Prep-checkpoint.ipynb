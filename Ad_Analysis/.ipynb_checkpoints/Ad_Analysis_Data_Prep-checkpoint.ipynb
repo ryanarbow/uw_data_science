{
 "cells": [
  {
   "cell_type": "markdown",
   "metadata": {},
   "source": [
    "The task is to predict whether an image is an advertisement (\"ad\") or not (\"nonad\")."
   ]
  },
  {
   "cell_type": "code",
   "execution_count": 1,
   "metadata": {},
   "outputs": [],
   "source": [
    "import numpy as np\n",
    "import pandas as pd\n",
    "import matplotlib.pyplot as plt\n",
    "from pandas.tools.plotting import scatter_matrix\n",
    "import requests\n",
    "from bs4 import BeautifulSoup\n",
    "from sklearn.preprocessing import *"
   ]
  },
  {
   "cell_type": "code",
   "execution_count": 2,
   "metadata": {},
   "outputs": [],
   "source": [
    "%matplotlib inline"
   ]
  },
  {
   "cell_type": "markdown",
   "metadata": {},
   "source": [
    "### Access data ###"
   ]
  },
  {
   "cell_type": "markdown",
   "metadata": {},
   "source": [
    "To get started we need to access the Internet Advertisements Data Set from the UCL ML repo here: https://archive.ics.uci.edu/ml/datasets/Internet+Advertisements\n",
    "\n",
    "The internet advertisement data folder contains two files:'ad.data', which contains attributes and class data as well as 'ad.names', which contains header names for the attributes. \n",
    "\n",
    "These two data sets need to be combined in order to give us a complete data set in which to build the predictive model."
   ]
  },
  {
   "cell_type": "markdown",
   "metadata": {},
   "source": [
    "First, we take the 'ad.data' data set from the url and and load it into a pandas dataframe."
   ]
  },
  {
   "cell_type": "code",
   "execution_count": 3,
   "metadata": {},
   "outputs": [],
   "source": [
    "#assign url as string where we will pull data from\n",
    "url = \"https://archive.ics.uci.edu/ml/machine-learning-databases/internet_ads/ad.data\"\n",
    "\n",
    "#pull down the csv file into a pandas dataframe\n",
    "ad_df = pd.read_csv(url, header=None, dtype=None, low_memory=False)"
   ]
  },
  {
   "cell_type": "markdown",
   "metadata": {},
   "source": [
    "To get a quick view of the data we'll use .head() function to preview the first 5 rows of data."
   ]
  },
  {
   "cell_type": "code",
   "execution_count": 4,
   "metadata": {},
   "outputs": [
    {
     "data": {
      "text/html": [
       "<div>\n",
       "<style scoped>\n",
       "    .dataframe tbody tr th:only-of-type {\n",
       "        vertical-align: middle;\n",
       "    }\n",
       "\n",
       "    .dataframe tbody tr th {\n",
       "        vertical-align: top;\n",
       "    }\n",
       "\n",
       "    .dataframe thead th {\n",
       "        text-align: right;\n",
       "    }\n",
       "</style>\n",
       "<table border=\"1\" class=\"dataframe\">\n",
       "  <thead>\n",
       "    <tr style=\"text-align: right;\">\n",
       "      <th></th>\n",
       "      <th>0</th>\n",
       "      <th>1</th>\n",
       "      <th>2</th>\n",
       "      <th>3</th>\n",
       "      <th>4</th>\n",
       "      <th>5</th>\n",
       "      <th>6</th>\n",
       "      <th>7</th>\n",
       "      <th>8</th>\n",
       "      <th>9</th>\n",
       "      <th>...</th>\n",
       "      <th>1549</th>\n",
       "      <th>1550</th>\n",
       "      <th>1551</th>\n",
       "      <th>1552</th>\n",
       "      <th>1553</th>\n",
       "      <th>1554</th>\n",
       "      <th>1555</th>\n",
       "      <th>1556</th>\n",
       "      <th>1557</th>\n",
       "      <th>1558</th>\n",
       "    </tr>\n",
       "  </thead>\n",
       "  <tbody>\n",
       "    <tr>\n",
       "      <th>0</th>\n",
       "      <td>125</td>\n",
       "      <td>125</td>\n",
       "      <td>1.0</td>\n",
       "      <td>1</td>\n",
       "      <td>0</td>\n",
       "      <td>0</td>\n",
       "      <td>0</td>\n",
       "      <td>0</td>\n",
       "      <td>0</td>\n",
       "      <td>0</td>\n",
       "      <td>...</td>\n",
       "      <td>0</td>\n",
       "      <td>0</td>\n",
       "      <td>0</td>\n",
       "      <td>0</td>\n",
       "      <td>0</td>\n",
       "      <td>0</td>\n",
       "      <td>0</td>\n",
       "      <td>0</td>\n",
       "      <td>0</td>\n",
       "      <td>ad.</td>\n",
       "    </tr>\n",
       "    <tr>\n",
       "      <th>1</th>\n",
       "      <td>57</td>\n",
       "      <td>468</td>\n",
       "      <td>8.2105</td>\n",
       "      <td>1</td>\n",
       "      <td>0</td>\n",
       "      <td>0</td>\n",
       "      <td>0</td>\n",
       "      <td>0</td>\n",
       "      <td>0</td>\n",
       "      <td>0</td>\n",
       "      <td>...</td>\n",
       "      <td>0</td>\n",
       "      <td>0</td>\n",
       "      <td>0</td>\n",
       "      <td>0</td>\n",
       "      <td>0</td>\n",
       "      <td>0</td>\n",
       "      <td>0</td>\n",
       "      <td>0</td>\n",
       "      <td>0</td>\n",
       "      <td>ad.</td>\n",
       "    </tr>\n",
       "    <tr>\n",
       "      <th>2</th>\n",
       "      <td>33</td>\n",
       "      <td>230</td>\n",
       "      <td>6.9696</td>\n",
       "      <td>1</td>\n",
       "      <td>0</td>\n",
       "      <td>0</td>\n",
       "      <td>0</td>\n",
       "      <td>0</td>\n",
       "      <td>0</td>\n",
       "      <td>0</td>\n",
       "      <td>...</td>\n",
       "      <td>0</td>\n",
       "      <td>0</td>\n",
       "      <td>0</td>\n",
       "      <td>0</td>\n",
       "      <td>0</td>\n",
       "      <td>0</td>\n",
       "      <td>0</td>\n",
       "      <td>0</td>\n",
       "      <td>0</td>\n",
       "      <td>ad.</td>\n",
       "    </tr>\n",
       "    <tr>\n",
       "      <th>3</th>\n",
       "      <td>60</td>\n",
       "      <td>468</td>\n",
       "      <td>7.8</td>\n",
       "      <td>1</td>\n",
       "      <td>0</td>\n",
       "      <td>0</td>\n",
       "      <td>0</td>\n",
       "      <td>0</td>\n",
       "      <td>0</td>\n",
       "      <td>0</td>\n",
       "      <td>...</td>\n",
       "      <td>0</td>\n",
       "      <td>0</td>\n",
       "      <td>0</td>\n",
       "      <td>0</td>\n",
       "      <td>0</td>\n",
       "      <td>0</td>\n",
       "      <td>0</td>\n",
       "      <td>0</td>\n",
       "      <td>0</td>\n",
       "      <td>ad.</td>\n",
       "    </tr>\n",
       "    <tr>\n",
       "      <th>4</th>\n",
       "      <td>60</td>\n",
       "      <td>468</td>\n",
       "      <td>7.8</td>\n",
       "      <td>1</td>\n",
       "      <td>0</td>\n",
       "      <td>0</td>\n",
       "      <td>0</td>\n",
       "      <td>0</td>\n",
       "      <td>0</td>\n",
       "      <td>0</td>\n",
       "      <td>...</td>\n",
       "      <td>0</td>\n",
       "      <td>0</td>\n",
       "      <td>0</td>\n",
       "      <td>0</td>\n",
       "      <td>0</td>\n",
       "      <td>0</td>\n",
       "      <td>0</td>\n",
       "      <td>0</td>\n",
       "      <td>0</td>\n",
       "      <td>ad.</td>\n",
       "    </tr>\n",
       "  </tbody>\n",
       "</table>\n",
       "<p>5 rows × 1559 columns</p>\n",
       "</div>"
      ],
      "text/plain": [
       "   0     1       2    3     4     5     6     7     8     9     ...   1549  \\\n",
       "0   125   125     1.0    1     0     0     0     0     0     0  ...      0   \n",
       "1    57   468  8.2105    1     0     0     0     0     0     0  ...      0   \n",
       "2    33   230  6.9696    1     0     0     0     0     0     0  ...      0   \n",
       "3    60   468     7.8    1     0     0     0     0     0     0  ...      0   \n",
       "4    60   468     7.8    1     0     0     0     0     0     0  ...      0   \n",
       "\n",
       "   1550  1551  1552  1553  1554  1555  1556  1557  1558  \n",
       "0     0     0     0     0     0     0     0     0   ad.  \n",
       "1     0     0     0     0     0     0     0     0   ad.  \n",
       "2     0     0     0     0     0     0     0     0   ad.  \n",
       "3     0     0     0     0     0     0     0     0   ad.  \n",
       "4     0     0     0     0     0     0     0     0   ad.  \n",
       "\n",
       "[5 rows x 1559 columns]"
      ]
     },
     "execution_count": 4,
     "metadata": {},
     "output_type": "execute_result"
    }
   ],
   "source": [
    "ad_df.head()"
   ]
  },
  {
   "cell_type": "markdown",
   "metadata": {},
   "source": [
    "Next, we need to add meaningful column headers. Since we set 'None' to the header argument above (header='None') the columns have default integer column names. To get column names we'll download the 'ad.names' data set.\n",
    "\n",
    "Instead of pulling the data directly into a dataframe as we did above, we will assign the url to a variable and use the request.get() function to pull and store the non-CSV data as a requests object. As a requests object we can then easily parse information from the scraped html using the BeatifulSoup package."
   ]
  },
  {
   "cell_type": "code",
   "execution_count": 5,
   "metadata": {},
   "outputs": [],
   "source": [
    "#assign url where we will pull data from for column names\n",
    "url = \"https://archive.ics.uci.edu/ml/machine-learning-databases/internet_ads/ad.names\"\n",
    "\n",
    "#use requests to get url and store information as requests object\n",
    "response = requests.get(url)\n",
    "\n",
    "# use BeautifulSoup on content object to pull out relevant content\n",
    "#lxml = type of html format we are working with\n",
    "#.text = Get all the child strings and return concatenated using the given separator\n",
    "#.split('\\n') = given separator\n",
    "soup = BeautifulSoup(response.content, \"lxml\").text.split('\\n')"
   ]
  },
  {
   "cell_type": "code",
   "execution_count": 6,
   "metadata": {},
   "outputs": [],
   "source": [
    "#print(soup)"
   ]
  },
  {
   "cell_type": "markdown",
   "metadata": {},
   "source": [
    "To easily view and clean the scraped data we'll create a single column dataframe with a name attribute \"header\"."
   ]
  },
  {
   "cell_type": "code",
   "execution_count": 7,
   "metadata": {},
   "outputs": [
    {
     "name": "stdout",
     "output_type": "stream",
     "text": [
      "                                                 header\n",
      "0     | \"w:\\c4.5\\alladA\" names file -- automatically...\n",
      "1                                                      \n",
      "2                                  ad, nonad | classes.\n",
      "3                                                      \n",
      "4                                   height: continuous.\n",
      "5                                    width: continuous.\n",
      "6                                   aratio: continuous.\n",
      "7                                           local: 0,1.\n",
      "8                         | 457 features from url terms\n",
      "9                              url*images+buttons: 0,1.\n",
      "10                             url*likesbooks.com: 0,1.\n",
      "11                              url*www.slake.com: 0,1.\n",
      "12                             url*hydrogeologist: 0,1.\n",
      "13                                        url*oso: 0,1.\n",
      "14                                      url*media: 0,1.\n",
      "15                               url*peace+images: 0,1.\n",
      "16                                  url*blipverts: 0,1.\n",
      "17                                url*tkaine+kats: 0,1.\n",
      "18                                  url*labyrinth: 0,1.\n",
      "19                      url*advertising+blipverts: 0,1.\n",
      "20                                 url*images+oso: 0,1.\n",
      "21                            url*area51+corridor: 0,1.\n",
      "22                                   url*ran+gifs: 0,1.\n",
      "23                        url*express-scripts.com: 0,1.\n",
      "24                                        url*off: 0,1.\n",
      "25                                       url*cnet: 0,1.\n",
      "26                                  url*time+1998: 0,1.\n",
      "27                                  url*josefina3: 0,1.\n",
      "28                                url*truluck.com: 0,1.\n",
      "29                               url*clawnext+gif: 0,1.\n",
      "...                                                 ...\n",
      "1538                                 alt*services: 0,1.\n",
      "1539                                    alt*about: 0,1.\n",
      "1540                                      alt*for: 0,1.\n",
      "1541                                  alt*here+to: 0,1.\n",
      "1542                                  alt*network: 0,1.\n",
      "1543                                      alt*you: 0,1.\n",
      "1544                                     alt*logo: 0,1.\n",
      "1545                                     alt*home: 0,1.\n",
      "1546                                      alt*kat: 0,1.\n",
      "1547                   | 19 features from caption terms\n",
      "1548                                  caption*and: 0,1.\n",
      "1549                            caption*home+page: 0,1.\n",
      "1550                           caption*click+here: 0,1.\n",
      "1551                                  caption*the: 0,1.\n",
      "1552                            caption*pratchett: 0,1.\n",
      "1553                             caption*here+for: 0,1.\n",
      "1554                                 caption*site: 0,1.\n",
      "1555                                 caption*page: 0,1.\n",
      "1556                                   caption*to: 0,1.\n",
      "1557                                   caption*of: 0,1.\n",
      "1558                                 caption*home: 0,1.\n",
      "1559                                   caption*my: 0,1.\n",
      "1560                                 caption*your: 0,1.\n",
      "1561                                   caption*in: 0,1.\n",
      "1562                                caption*bytes: 0,1.\n",
      "1563                                 caption*here: 0,1.\n",
      "1564                                caption*click: 0,1.\n",
      "1565                                  caption*for: 0,1.\n",
      "1566                                  caption*you: 0,1.\n",
      "1567                                                   \n",
      "\n",
      "[1568 rows x 1 columns]\n"
     ]
    }
   ],
   "source": [
    "ad_names = pd.DataFrame({'header':soup})\n",
    "print (ad_names)"
   ]
  },
  {
   "cell_type": "markdown",
   "metadata": {},
   "source": [
    "As you can see from the output above the header values have a number of issues we need to clean up, including: \n",
    "1. Feature terms - we know from the data set description we have 5 groups of feature terms - url, origurl, ancurl, alt, and caption. The data set has rows with the terms names which divide the the data set.\n",
    "2. Empty rows\n",
    "3. Binary attribute rows contain \"0\"s and \"1\"s indicating the possible attribute value.\n",
    "4. Various characters (ex. \"*\" \",\" \".\") - many of the attributes contain characters which we need to remove in order to have a clean header set. "
   ]
  },
  {
   "cell_type": "markdown",
   "metadata": {},
   "source": [
    "To clean up the header we'll create a function called \"clean_header\", which will take each row as an input and apply a series of strings methods. \n",
    "\n",
    "First, we'll remove all characters after \":\" to separate the header from the potential values listed, \"1\" or \"0\".\n",
    "\n",
    "Second, we see feature terms are identified by a vertical bar \"|\" in the data. We'll use this to identify and remove these values.\n",
    "\n",
    "Third, we'll replace characters \"*\" and \"+\" with \"_\" to improve readability. "
   ]
  },
  {
   "cell_type": "code",
   "execution_count": 8,
   "metadata": {},
   "outputs": [],
   "source": [
    "#clean up the values in the column\n",
    "def clean_header(row):\n",
    "     return str(row.split(\":\")[0].split(\"|\")[0].replace(\"*\",\"_\").replace(\"+\",\"_\").strip())      \n",
    "\n",
    "#save cleaned ad_names\n",
    "ad_names['header'] = ad_names['header'].apply(clean_header)"
   ]
  },
  {
   "cell_type": "markdown",
   "metadata": {},
   "source": [
    "To check the output of our function, I'll once again call the .head() function; however, this time I'll include (10) in order to see the first 10 rows. "
   ]
  },
  {
   "cell_type": "code",
   "execution_count": 13,
   "metadata": {},
   "outputs": [
    {
     "data": {
      "text/html": [
       "<div>\n",
       "<style scoped>\n",
       "    .dataframe tbody tr th:only-of-type {\n",
       "        vertical-align: middle;\n",
       "    }\n",
       "\n",
       "    .dataframe tbody tr th {\n",
       "        vertical-align: top;\n",
       "    }\n",
       "\n",
       "    .dataframe thead th {\n",
       "        text-align: right;\n",
       "    }\n",
       "</style>\n",
       "<table border=\"1\" class=\"dataframe\">\n",
       "  <thead>\n",
       "    <tr style=\"text-align: right;\">\n",
       "      <th></th>\n",
       "      <th>header</th>\n",
       "    </tr>\n",
       "  </thead>\n",
       "  <tbody>\n",
       "    <tr>\n",
       "      <th>0</th>\n",
       "      <td></td>\n",
       "    </tr>\n",
       "    <tr>\n",
       "      <th>1</th>\n",
       "      <td></td>\n",
       "    </tr>\n",
       "    <tr>\n",
       "      <th>2</th>\n",
       "      <td>ad, nonad</td>\n",
       "    </tr>\n",
       "    <tr>\n",
       "      <th>3</th>\n",
       "      <td></td>\n",
       "    </tr>\n",
       "    <tr>\n",
       "      <th>4</th>\n",
       "      <td>height</td>\n",
       "    </tr>\n",
       "    <tr>\n",
       "      <th>5</th>\n",
       "      <td>width</td>\n",
       "    </tr>\n",
       "    <tr>\n",
       "      <th>6</th>\n",
       "      <td>aratio</td>\n",
       "    </tr>\n",
       "    <tr>\n",
       "      <th>7</th>\n",
       "      <td>local</td>\n",
       "    </tr>\n",
       "    <tr>\n",
       "      <th>8</th>\n",
       "      <td></td>\n",
       "    </tr>\n",
       "    <tr>\n",
       "      <th>9</th>\n",
       "      <td>url_images_buttons</td>\n",
       "    </tr>\n",
       "  </tbody>\n",
       "</table>\n",
       "</div>"
      ],
      "text/plain": [
       "               header\n",
       "0                    \n",
       "1                    \n",
       "2           ad, nonad\n",
       "3                    \n",
       "4              height\n",
       "5               width\n",
       "6              aratio\n",
       "7               local\n",
       "8                    \n",
       "9  url_images_buttons"
      ]
     },
     "execution_count": 13,
     "metadata": {},
     "output_type": "execute_result"
    }
   ],
   "source": [
    "ad_names.head(10)"
   ]
  },
  {
   "cell_type": "markdown",
   "metadata": {},
   "source": [
    "Now that we've cleaned up the header values, we now need to deal with empty cells. \n",
    "\n",
    "To determine how to best handle these we'll first check to see if they contain null values to drop or are empty strings. To do this we'll use the isnull() function on header values."
   ]
  },
  {
   "cell_type": "code",
   "execution_count": 10,
   "metadata": {},
   "outputs": [
    {
     "data": {
      "text/plain": [
       "0"
      ]
     },
     "execution_count": 10,
     "metadata": {},
     "output_type": "execute_result"
    }
   ],
   "source": [
    "#check to see if empty strings?\n",
    "ad_names['header'].isnull().sum()"
   ]
  },
  {
   "cell_type": "markdown",
   "metadata": {},
   "source": [
    "Since there are zero null values, we'll convert the empty strings to NaN objects using replace() and then call dropna() on the DataFrame to delete rows with null tenants."
   ]
  },
  {
   "cell_type": "code",
   "execution_count": 11,
   "metadata": {},
   "outputs": [],
   "source": [
    "#replace nan\n",
    "ad_names['header'].replace('', np.nan, inplace=True)\n",
    "\n",
    "#drop nan\n",
    "ad_names.dropna(subset=['header'], inplace=True)\n",
    "\n",
    "#reset index\n",
    "ad_names = ad_names.reset_index(drop=True)"
   ]
  },
  {
   "cell_type": "code",
   "execution_count": 12,
   "metadata": {},
   "outputs": [
    {
     "data": {
      "text/html": [
       "<div>\n",
       "<style scoped>\n",
       "    .dataframe tbody tr th:only-of-type {\n",
       "        vertical-align: middle;\n",
       "    }\n",
       "\n",
       "    .dataframe tbody tr th {\n",
       "        vertical-align: top;\n",
       "    }\n",
       "\n",
       "    .dataframe thead th {\n",
       "        text-align: right;\n",
       "    }\n",
       "</style>\n",
       "<table border=\"1\" class=\"dataframe\">\n",
       "  <thead>\n",
       "    <tr style=\"text-align: right;\">\n",
       "      <th></th>\n",
       "      <th>header</th>\n",
       "    </tr>\n",
       "  </thead>\n",
       "  <tbody>\n",
       "    <tr>\n",
       "      <th>0</th>\n",
       "      <td>ad, nonad</td>\n",
       "    </tr>\n",
       "    <tr>\n",
       "      <th>1</th>\n",
       "      <td>height</td>\n",
       "    </tr>\n",
       "    <tr>\n",
       "      <th>2</th>\n",
       "      <td>width</td>\n",
       "    </tr>\n",
       "    <tr>\n",
       "      <th>3</th>\n",
       "      <td>aratio</td>\n",
       "    </tr>\n",
       "    <tr>\n",
       "      <th>4</th>\n",
       "      <td>local</td>\n",
       "    </tr>\n",
       "  </tbody>\n",
       "</table>\n",
       "</div>"
      ],
      "text/plain": [
       "      header\n",
       "0  ad, nonad\n",
       "1     height\n",
       "2      width\n",
       "3     aratio\n",
       "4      local"
      ]
     },
     "execution_count": 12,
     "metadata": {},
     "output_type": "execute_result"
    }
   ],
   "source": [
    "ad_names.head()"
   ]
  },
  {
   "cell_type": "markdown",
   "metadata": {},
   "source": [
    "From the 'ad.data' data set above we see that the target variable (ad, nonad) is the last column of data; however, it appears as the first value in this header list. We'll remove this and add it to the end of the header column."
   ]
  },
  {
   "cell_type": "code",
   "execution_count": 13,
   "metadata": {},
   "outputs": [],
   "source": [
    "#drop first row\n",
    "ad_names = ad_names.drop([0])\n",
    "\n",
    "#reset index\n",
    "ad_names = ad_names.reset_index(drop=True)\n",
    "\n",
    "#assign value\n",
    "ad_names.at[1558,'header'] = 'ad, nonad'"
   ]
  },
  {
   "cell_type": "markdown",
   "metadata": {},
   "source": [
    "Now that we have a complete list of column headers we need to apply them to the data set.\n",
    "\n",
    "We'll turn our single column dataframe into a list then assign the list as column names, replacing the default integers (0-1558)."
   ]
  },
  {
   "cell_type": "code",
   "execution_count": 14,
   "metadata": {},
   "outputs": [],
   "source": [
    "#create a column name list\n",
    "ad_columns = ad_names[\"header\"].tolist()\n",
    "\n",
    "#assign column names to dataframe\n",
    "ad_df.columns = ad_columns"
   ]
  },
  {
   "cell_type": "markdown",
   "metadata": {},
   "source": [
    "Now that we've combined the data set with the column headers into a single table we can begin exploring and preparing the data. "
   ]
  },
  {
   "cell_type": "markdown",
   "metadata": {},
   "source": [
    "## Exploratory Data Analysis and Data Prep"
   ]
  },
  {
   "cell_type": "markdown",
   "metadata": {},
   "source": [
    "Through iterative exploration and preparation we'll identify and replace outliers, change data types, and deal with null and missing values."
   ]
  },
  {
   "cell_type": "markdown",
   "metadata": {},
   "source": [
    "To prepare the data set we're going to first determine the data types, determine what the appropriate data type should be, and coerce them to numeric, if necessary.\n",
    "\n",
    "We won't be able to determine data types just by looking at the data. For example, see the first 5 rows below. All of the columns look numeric; however, we need to confirm they are before we can start using them for our modeling."
   ]
  },
  {
   "cell_type": "code",
   "execution_count": 15,
   "metadata": {},
   "outputs": [
    {
     "data": {
      "text/html": [
       "<div>\n",
       "<style scoped>\n",
       "    .dataframe tbody tr th:only-of-type {\n",
       "        vertical-align: middle;\n",
       "    }\n",
       "\n",
       "    .dataframe tbody tr th {\n",
       "        vertical-align: top;\n",
       "    }\n",
       "\n",
       "    .dataframe thead th {\n",
       "        text-align: right;\n",
       "    }\n",
       "</style>\n",
       "<table border=\"1\" class=\"dataframe\">\n",
       "  <thead>\n",
       "    <tr style=\"text-align: right;\">\n",
       "      <th></th>\n",
       "      <th>height</th>\n",
       "      <th>width</th>\n",
       "      <th>aratio</th>\n",
       "      <th>local</th>\n",
       "      <th>url_images_buttons</th>\n",
       "      <th>url_likesbooks.com</th>\n",
       "      <th>url_www.slake.com</th>\n",
       "      <th>url_hydrogeologist</th>\n",
       "      <th>url_oso</th>\n",
       "      <th>url_media</th>\n",
       "      <th>...</th>\n",
       "      <th>caption_home</th>\n",
       "      <th>caption_my</th>\n",
       "      <th>caption_your</th>\n",
       "      <th>caption_in</th>\n",
       "      <th>caption_bytes</th>\n",
       "      <th>caption_here</th>\n",
       "      <th>caption_click</th>\n",
       "      <th>caption_for</th>\n",
       "      <th>caption_you</th>\n",
       "      <th>ad, nonad</th>\n",
       "    </tr>\n",
       "  </thead>\n",
       "  <tbody>\n",
       "    <tr>\n",
       "      <th>0</th>\n",
       "      <td>125</td>\n",
       "      <td>125</td>\n",
       "      <td>1.0</td>\n",
       "      <td>1</td>\n",
       "      <td>0</td>\n",
       "      <td>0</td>\n",
       "      <td>0</td>\n",
       "      <td>0</td>\n",
       "      <td>0</td>\n",
       "      <td>0</td>\n",
       "      <td>...</td>\n",
       "      <td>0</td>\n",
       "      <td>0</td>\n",
       "      <td>0</td>\n",
       "      <td>0</td>\n",
       "      <td>0</td>\n",
       "      <td>0</td>\n",
       "      <td>0</td>\n",
       "      <td>0</td>\n",
       "      <td>0</td>\n",
       "      <td>ad.</td>\n",
       "    </tr>\n",
       "    <tr>\n",
       "      <th>1</th>\n",
       "      <td>57</td>\n",
       "      <td>468</td>\n",
       "      <td>8.2105</td>\n",
       "      <td>1</td>\n",
       "      <td>0</td>\n",
       "      <td>0</td>\n",
       "      <td>0</td>\n",
       "      <td>0</td>\n",
       "      <td>0</td>\n",
       "      <td>0</td>\n",
       "      <td>...</td>\n",
       "      <td>0</td>\n",
       "      <td>0</td>\n",
       "      <td>0</td>\n",
       "      <td>0</td>\n",
       "      <td>0</td>\n",
       "      <td>0</td>\n",
       "      <td>0</td>\n",
       "      <td>0</td>\n",
       "      <td>0</td>\n",
       "      <td>ad.</td>\n",
       "    </tr>\n",
       "    <tr>\n",
       "      <th>2</th>\n",
       "      <td>33</td>\n",
       "      <td>230</td>\n",
       "      <td>6.9696</td>\n",
       "      <td>1</td>\n",
       "      <td>0</td>\n",
       "      <td>0</td>\n",
       "      <td>0</td>\n",
       "      <td>0</td>\n",
       "      <td>0</td>\n",
       "      <td>0</td>\n",
       "      <td>...</td>\n",
       "      <td>0</td>\n",
       "      <td>0</td>\n",
       "      <td>0</td>\n",
       "      <td>0</td>\n",
       "      <td>0</td>\n",
       "      <td>0</td>\n",
       "      <td>0</td>\n",
       "      <td>0</td>\n",
       "      <td>0</td>\n",
       "      <td>ad.</td>\n",
       "    </tr>\n",
       "    <tr>\n",
       "      <th>3</th>\n",
       "      <td>60</td>\n",
       "      <td>468</td>\n",
       "      <td>7.8</td>\n",
       "      <td>1</td>\n",
       "      <td>0</td>\n",
       "      <td>0</td>\n",
       "      <td>0</td>\n",
       "      <td>0</td>\n",
       "      <td>0</td>\n",
       "      <td>0</td>\n",
       "      <td>...</td>\n",
       "      <td>0</td>\n",
       "      <td>0</td>\n",
       "      <td>0</td>\n",
       "      <td>0</td>\n",
       "      <td>0</td>\n",
       "      <td>0</td>\n",
       "      <td>0</td>\n",
       "      <td>0</td>\n",
       "      <td>0</td>\n",
       "      <td>ad.</td>\n",
       "    </tr>\n",
       "    <tr>\n",
       "      <th>4</th>\n",
       "      <td>60</td>\n",
       "      <td>468</td>\n",
       "      <td>7.8</td>\n",
       "      <td>1</td>\n",
       "      <td>0</td>\n",
       "      <td>0</td>\n",
       "      <td>0</td>\n",
       "      <td>0</td>\n",
       "      <td>0</td>\n",
       "      <td>0</td>\n",
       "      <td>...</td>\n",
       "      <td>0</td>\n",
       "      <td>0</td>\n",
       "      <td>0</td>\n",
       "      <td>0</td>\n",
       "      <td>0</td>\n",
       "      <td>0</td>\n",
       "      <td>0</td>\n",
       "      <td>0</td>\n",
       "      <td>0</td>\n",
       "      <td>ad.</td>\n",
       "    </tr>\n",
       "  </tbody>\n",
       "</table>\n",
       "<p>5 rows × 1559 columns</p>\n",
       "</div>"
      ],
      "text/plain": [
       "  height width  aratio local  url_images_buttons  url_likesbooks.com  \\\n",
       "0    125   125     1.0     1                   0                   0   \n",
       "1     57   468  8.2105     1                   0                   0   \n",
       "2     33   230  6.9696     1                   0                   0   \n",
       "3     60   468     7.8     1                   0                   0   \n",
       "4     60   468     7.8     1                   0                   0   \n",
       "\n",
       "   url_www.slake.com  url_hydrogeologist  url_oso  url_media    ...      \\\n",
       "0                  0                   0        0          0    ...       \n",
       "1                  0                   0        0          0    ...       \n",
       "2                  0                   0        0          0    ...       \n",
       "3                  0                   0        0          0    ...       \n",
       "4                  0                   0        0          0    ...       \n",
       "\n",
       "   caption_home  caption_my  caption_your  caption_in  caption_bytes  \\\n",
       "0             0           0             0           0              0   \n",
       "1             0           0             0           0              0   \n",
       "2             0           0             0           0              0   \n",
       "3             0           0             0           0              0   \n",
       "4             0           0             0           0              0   \n",
       "\n",
       "   caption_here  caption_click  caption_for  caption_you  ad, nonad  \n",
       "0             0              0            0            0        ad.  \n",
       "1             0              0            0            0        ad.  \n",
       "2             0              0            0            0        ad.  \n",
       "3             0              0            0            0        ad.  \n",
       "4             0              0            0            0        ad.  \n",
       "\n",
       "[5 rows x 1559 columns]"
      ]
     },
     "execution_count": 15,
     "metadata": {},
     "output_type": "execute_result"
    }
   ],
   "source": [
    "ad_df.head()"
   ]
  },
  {
   "cell_type": "markdown",
   "metadata": {},
   "source": [
    "By using dtypes.value_counts() we can quickly determine what data types we have and how many."
   ]
  },
  {
   "cell_type": "code",
   "execution_count": 16,
   "metadata": {},
   "outputs": [
    {
     "data": {
      "text/plain": [
       "int64     1554\n",
       "object       5\n",
       "dtype: int64"
      ]
     },
     "execution_count": 16,
     "metadata": {},
     "output_type": "execute_result"
    }
   ],
   "source": [
    "#count data types\n",
    "ad_df.dtypes.value_counts()"
   ]
  },
  {
   "cell_type": "markdown",
   "metadata": {},
   "source": [
    "The data set description from the UCL ML repo stated that of the 1558 attributes, 3 are continous while all others binary."
   ]
  },
  {
   "cell_type": "markdown",
   "metadata": {},
   "source": [
    "Since we expected only 1 of the 1559 columns (which includes +1 column for the target variable \"ad, nonad\") to contain an object data type, we need to find out which four attributes are objects so that we can coerce them to numeric.\n",
    "\n",
    "To do this we'll use .select_dtypes() on the columns to return a subset of the dataFrame’s columns which are objects. "
   ]
  },
  {
   "cell_type": "code",
   "execution_count": 17,
   "metadata": {},
   "outputs": [
    {
     "data": {
      "text/plain": [
       "Index(['height', 'width', 'aratio', 'local', 'ad, nonad'], dtype='object')"
      ]
     },
     "execution_count": 17,
     "metadata": {},
     "output_type": "execute_result"
    }
   ],
   "source": [
    "ad_df.select_dtypes(include='object').columns"
   ]
  },
  {
   "cell_type": "markdown",
   "metadata": {},
   "source": [
    "While the three continuous attributes ('height', 'width', 'aratio') are expected to be numeric they are most likely listed as 'object' due to the missing values. The data set description stated, \"One or more of the three continous features are missing in 28% of the instances\"."
   ]
  },
  {
   "cell_type": "markdown",
   "metadata": {},
   "source": [
    "In addition to 'height', 'width', and 'aratio', the 'local' column is also listed as object datatype. To understand why we'll use .unique() to see the values used in this column which will help determine why it is appearing as an object."
   ]
  },
  {
   "cell_type": "code",
   "execution_count": 18,
   "metadata": {},
   "outputs": [
    {
     "name": "stdout",
     "output_type": "stream",
     "text": [
      "['1' '0' '?']\n"
     ]
    }
   ],
   "source": [
    "print(ad_df.loc[:,\"local\"].unique())"
   ]
  },
  {
   "cell_type": "markdown",
   "metadata": {},
   "source": [
    "The placeholder '?' is causing this column to appear as an 'object' data type. For this and the three attributes which are supposed to be continuous we're going to replace the missing values and ensure they are numeric. "
   ]
  },
  {
   "cell_type": "markdown",
   "metadata": {},
   "source": [
    "First, we'll create the non-numeric values using the pd.to_numeric function, then replace those nan values with imputed values from the dataset"
   ]
  },
  {
   "cell_type": "code",
   "execution_count": 19,
   "metadata": {},
   "outputs": [],
   "source": [
    "# Coerce data type to numeric\n",
    "# errors='coerce' tells function to turn string into nan if it cannot be turned into a number\n",
    "ad_df.loc[:, \"height\"] = pd.to_numeric(ad_df.loc[:, \"height\"], errors='coerce')\n",
    "ad_df.loc[:, \"width\"] = pd.to_numeric(ad_df.loc[:, \"width\"], errors='coerce')\n",
    "ad_df.loc[:, \"aratio\"] = pd.to_numeric(ad_df.loc[:, \"aratio\"], errors='coerce')\n",
    "ad_df.loc[:, \"local\"] = pd.to_numeric(ad_df.loc[:, \"local\"], errors='coerce')\n",
    "\n",
    "#Determine the location of nans\n",
    "HasNanH = np.isnan(ad_df.loc[:,\"height\"])\n",
    "HasNanW = np.isnan(ad_df.loc[:,\"width\"])\n",
    "HasNanA = np.isnan(ad_df.loc[:,\"aratio\"])\n",
    "HasNanL = np.isnan(ad_df.loc[:,\"local\"])\n",
    "\n",
    "#impute median from valumn and apply to nan vlaues\n",
    "ad_df.loc[HasNanH, \"height\"] = np.nanmedian(ad_df.loc[:,\"height\"])\n",
    "ad_df.loc[HasNanW, \"width\"] = np.nanmedian(ad_df.loc[:,\"width\"])\n",
    "ad_df.loc[HasNanA, \"aratio\"] = np.nanmedian(ad_df.loc[:,\"aratio\"])\n",
    "ad_df.loc[HasNanL, \"local\"] = np.nanmedian(ad_df.loc[:,\"local\"])"
   ]
  },
  {
   "cell_type": "code",
   "execution_count": 20,
   "metadata": {},
   "outputs": [
    {
     "data": {
      "text/plain": [
       "int64      1554\n",
       "float64       4\n",
       "object        1\n",
       "dtype: int64"
      ]
     },
     "execution_count": 20,
     "metadata": {},
     "output_type": "execute_result"
    }
   ],
   "source": [
    "#check data type counts\n",
    "ad_df.dtypes.value_counts()"
   ]
  },
  {
   "cell_type": "markdown",
   "metadata": {},
   "source": [
    "Now that we have the correct data types we'll visualize the data using a histogram to understand the overview of the numeric distribution."
   ]
  },
  {
   "cell_type": "code",
   "execution_count": 21,
   "metadata": {},
   "outputs": [
    {
     "data": {
      "text/plain": [
       "(array([2.496e+03, 5.100e+02, 2.020e+02, 4.700e+01, 1.100e+01, 9.000e+00,\n",
       "        0.000e+00, 3.000e+00, 0.000e+00, 1.000e+00]),\n",
       " array([  1. ,  64.9, 128.8, 192.7, 256.6, 320.5, 384.4, 448.3, 512.2,\n",
       "        576.1, 640. ]),\n",
       " <a list of 10 Patch objects>)"
      ]
     },
     "execution_count": 21,
     "metadata": {},
     "output_type": "execute_result"
    },
    {
     "data": {
      "image/png": "[encoded data removed]",
      "text/plain": [
       "<Figure size 432x288 with 1 Axes>"
      ]
     },
     "metadata": {},
     "output_type": "display_data"
    }
   ],
   "source": [
    "plt.hist(ad_df.loc[:, \"height\"])"
   ]
  },
  {
   "cell_type": "code",
   "execution_count": 22,
   "metadata": {},
   "outputs": [
    {
     "data": {
      "text/plain": [
       "(array([4.640e+02, 1.849e+03, 3.890e+02, 2.540e+02, 3.500e+01, 1.800e+01,\n",
       "        3.900e+01, 2.040e+02, 1.000e+00, 2.600e+01]),\n",
       " array([  1. ,  64.9, 128.8, 192.7, 256.6, 320.5, 384.4, 448.3, 512.2,\n",
       "        576.1, 640. ]),\n",
       " <a list of 10 Patch objects>)"
      ]
     },
     "execution_count": 22,
     "metadata": {},
     "output_type": "execute_result"
    },
    {
     "data": {
      "image/png": "[encoded data removed]",
      "text/plain": [
       "<Figure size 432x288 with 1 Axes>"
      ]
     },
     "metadata": {},
     "output_type": "display_data"
    }
   ],
   "source": [
    "plt.hist(ad_df.loc[:, \"width\"])"
   ]
  },
  {
   "cell_type": "code",
   "execution_count": 23,
   "metadata": {},
   "outputs": [
    {
     "data": {
      "text/plain": [
       "(array([2.765e+03, 4.810e+02, 4.000e+00, 5.000e+00, 1.000e+00, 2.000e+00,\n",
       "        1.000e+00, 0.000e+00, 0.000e+00, 2.000e+01]),\n",
       " array([1.500000e-03, 6.001350e+00, 1.200120e+01, 1.800105e+01,\n",
       "        2.400090e+01, 3.000075e+01, 3.600060e+01, 4.200045e+01,\n",
       "        4.800030e+01, 5.400015e+01, 6.000000e+01]),\n",
       " <a list of 10 Patch objects>)"
      ]
     },
     "execution_count": 23,
     "metadata": {},
     "output_type": "execute_result"
    },
    {
     "data": {
      "image/png": "[encoded data removed]",
      "text/plain": [
       "<Figure size 432x288 with 1 Axes>"
      ]
     },
     "metadata": {},
     "output_type": "display_data"
    }
   ],
   "source": [
    "plt.hist(ad_df.loc[:, \"aratio\"])"
   ]
  },
  {
   "cell_type": "markdown",
   "metadata": {},
   "source": [
    "The concentrated data points with extreme values in these histograms indicate that we may have outliers at the high end of these distributions. \n",
    "\n",
    "To remove these we'll create a high limit which is 2 standard deviations from the mean. This will then allow us to determine which values are greater than the limit and then replace them with the limit."
   ]
  },
  {
   "cell_type": "code",
   "execution_count": 24,
   "metadata": {},
   "outputs": [],
   "source": [
    "## The high limit for acceptable values is the mean plus 2 standard deviations\n",
    "LimitHiH = ad_df.loc[:, \"height\"].mean() + 2*(ad_df.loc[:, \"height\"].std())\n",
    "LimitHiW = ad_df.loc[:, \"width\"].mean() + 2*(ad_df.loc[:, \"width\"].std())\n",
    "LimitHiA = ad_df.loc[:, \"aratio\"].mean() + 2*(ad_df.loc[:, \"aratio\"].std())\n",
    "\n",
    "#Find which values are greater than the high limit\n",
    "TooHighH = ad_df.loc[:, \"height\"] > LimitHiH\n",
    "TooHighW = ad_df.loc[:, \"width\"] > LimitHiW\n",
    "TooHighA = ad_df.loc[:, \"aratio\"] > LimitHiA\n",
    "\n",
    "#Replace values with the limit\n",
    "ad_df.loc[TooHighH, \"height\"] = LimitHiH\n",
    "ad_df.loc[TooHighW, \"width\"] = LimitHiW\n",
    "ad_df.loc[TooHighA, \"aratio\"] = LimitHiA"
   ]
  },
  {
   "cell_type": "markdown",
   "metadata": {},
   "source": [
    "Now we'll check how the removal of outliers has impacted the distributions "
   ]
  },
  {
   "cell_type": "code",
   "execution_count": 25,
   "metadata": {},
   "outputs": [
    {
     "data": {
      "text/plain": [
       "(array([ 369.,  424.,  324., 1359.,  137.,  140.,  130.,   84.,   84.,\n",
       "         228.]), array([  1.        ,  16.35651412,  31.71302824,  47.06954236,\n",
       "         62.42605648,  77.7825706 ,  93.13908472, 108.49559884,\n",
       "        123.85211297, 139.20862709, 154.56514121]), <a list of 10 Patch objects>)"
      ]
     },
     "execution_count": 25,
     "metadata": {},
     "output_type": "execute_result"
    },
    {
     "data": {
      "image/png": "[encoded data removed]",
      "text/plain": [
       "<Figure size 432x288 with 1 Axes>"
      ]
     },
     "metadata": {},
     "output_type": "display_data"
    }
   ],
   "source": [
    "plt.hist(ad_df.loc[:, \"height\"])"
   ]
  },
  {
   "cell_type": "code",
   "execution_count": 26,
   "metadata": {},
   "outputs": [
    {
     "data": {
      "text/plain": [
       "(array([ 228.,  296., 1599.,  353.,  212.,  150.,  119.,   26.,   13.,\n",
       "         283.]), array([  1.        ,  37.70141954,  74.40283908, 111.10425863,\n",
       "        147.80567817, 184.50709771, 221.20851725, 257.90993679,\n",
       "        294.61135634, 331.31277588, 368.01419542]), <a list of 10 Patch objects>)"
      ]
     },
     "execution_count": 26,
     "metadata": {},
     "output_type": "execute_result"
    },
    {
     "data": {
      "image/png": "[encoded data removed]",
      "text/plain": [
       "<Figure size 432x288 with 1 Axes>"
      ]
     },
     "metadata": {},
     "output_type": "display_data"
    }
   ],
   "source": [
    "plt.hist(ad_df.loc[:, \"width\"])"
   ]
  },
  {
   "cell_type": "code",
   "execution_count": 27,
   "metadata": {},
   "outputs": [
    {
     "data": {
      "text/plain": [
       "(array([9.08e+02, 1.32e+03, 2.87e+02, 2.13e+02, 8.70e+01, 2.84e+02,\n",
       "        1.21e+02, 2.50e+01, 1.00e+00, 3.30e+01]),\n",
       " array([1.50000000e-03, 1.38225915e+00, 2.76301830e+00, 4.14377745e+00,\n",
       "        5.52453660e+00, 6.90529575e+00, 8.28605490e+00, 9.66681405e+00,\n",
       "        1.10475732e+01, 1.24283323e+01, 1.38090915e+01]),\n",
       " <a list of 10 Patch objects>)"
      ]
     },
     "execution_count": 27,
     "metadata": {},
     "output_type": "execute_result"
    },
    {
     "data": {
      "image/png": "[encoded data removed]",
      "text/plain": [
       "<Figure size 432x288 with 1 Axes>"
      ]
     },
     "metadata": {},
     "output_type": "display_data"
    }
   ],
   "source": [
    "plt.hist(ad_df.loc[:, \"aratio\"])"
   ]
  },
  {
   "cell_type": "code",
   "execution_count": 28,
   "metadata": {},
   "outputs": [
    {
     "data": {
      "text/html": [
       "<div>\n",
       "<style scoped>\n",
       "    .dataframe tbody tr th:only-of-type {\n",
       "        vertical-align: middle;\n",
       "    }\n",
       "\n",
       "    .dataframe tbody tr th {\n",
       "        vertical-align: top;\n",
       "    }\n",
       "\n",
       "    .dataframe thead th {\n",
       "        text-align: right;\n",
       "    }\n",
       "</style>\n",
       "<table border=\"1\" class=\"dataframe\">\n",
       "  <thead>\n",
       "    <tr style=\"text-align: right;\">\n",
       "      <th></th>\n",
       "      <th>height</th>\n",
       "      <th>width</th>\n",
       "      <th>aratio</th>\n",
       "      <th>local</th>\n",
       "      <th>url_images_buttons</th>\n",
       "      <th>url_likesbooks.com</th>\n",
       "      <th>url_www.slake.com</th>\n",
       "      <th>url_hydrogeologist</th>\n",
       "      <th>url_oso</th>\n",
       "      <th>url_media</th>\n",
       "      <th>...</th>\n",
       "      <th>caption_home</th>\n",
       "      <th>caption_my</th>\n",
       "      <th>caption_your</th>\n",
       "      <th>caption_in</th>\n",
       "      <th>caption_bytes</th>\n",
       "      <th>caption_here</th>\n",
       "      <th>caption_click</th>\n",
       "      <th>caption_for</th>\n",
       "      <th>caption_you</th>\n",
       "      <th>ad, nonad</th>\n",
       "    </tr>\n",
       "  </thead>\n",
       "  <tbody>\n",
       "    <tr>\n",
       "      <th>0</th>\n",
       "      <td>125.0</td>\n",
       "      <td>125.000000</td>\n",
       "      <td>1.0000</td>\n",
       "      <td>1.0</td>\n",
       "      <td>0</td>\n",
       "      <td>0</td>\n",
       "      <td>0</td>\n",
       "      <td>0</td>\n",
       "      <td>0</td>\n",
       "      <td>0</td>\n",
       "      <td>...</td>\n",
       "      <td>0</td>\n",
       "      <td>0</td>\n",
       "      <td>0</td>\n",
       "      <td>0</td>\n",
       "      <td>0</td>\n",
       "      <td>0</td>\n",
       "      <td>0</td>\n",
       "      <td>0</td>\n",
       "      <td>0</td>\n",
       "      <td>ad.</td>\n",
       "    </tr>\n",
       "    <tr>\n",
       "      <th>1</th>\n",
       "      <td>57.0</td>\n",
       "      <td>368.014195</td>\n",
       "      <td>8.2105</td>\n",
       "      <td>1.0</td>\n",
       "      <td>0</td>\n",
       "      <td>0</td>\n",
       "      <td>0</td>\n",
       "      <td>0</td>\n",
       "      <td>0</td>\n",
       "      <td>0</td>\n",
       "      <td>...</td>\n",
       "      <td>0</td>\n",
       "      <td>0</td>\n",
       "      <td>0</td>\n",
       "      <td>0</td>\n",
       "      <td>0</td>\n",
       "      <td>0</td>\n",
       "      <td>0</td>\n",
       "      <td>0</td>\n",
       "      <td>0</td>\n",
       "      <td>ad.</td>\n",
       "    </tr>\n",
       "    <tr>\n",
       "      <th>2</th>\n",
       "      <td>33.0</td>\n",
       "      <td>230.000000</td>\n",
       "      <td>6.9696</td>\n",
       "      <td>1.0</td>\n",
       "      <td>0</td>\n",
       "      <td>0</td>\n",
       "      <td>0</td>\n",
       "      <td>0</td>\n",
       "      <td>0</td>\n",
       "      <td>0</td>\n",
       "      <td>...</td>\n",
       "      <td>0</td>\n",
       "      <td>0</td>\n",
       "      <td>0</td>\n",
       "      <td>0</td>\n",
       "      <td>0</td>\n",
       "      <td>0</td>\n",
       "      <td>0</td>\n",
       "      <td>0</td>\n",
       "      <td>0</td>\n",
       "      <td>ad.</td>\n",
       "    </tr>\n",
       "    <tr>\n",
       "      <th>3</th>\n",
       "      <td>60.0</td>\n",
       "      <td>368.014195</td>\n",
       "      <td>7.8000</td>\n",
       "      <td>1.0</td>\n",
       "      <td>0</td>\n",
       "      <td>0</td>\n",
       "      <td>0</td>\n",
       "      <td>0</td>\n",
       "      <td>0</td>\n",
       "      <td>0</td>\n",
       "      <td>...</td>\n",
       "      <td>0</td>\n",
       "      <td>0</td>\n",
       "      <td>0</td>\n",
       "      <td>0</td>\n",
       "      <td>0</td>\n",
       "      <td>0</td>\n",
       "      <td>0</td>\n",
       "      <td>0</td>\n",
       "      <td>0</td>\n",
       "      <td>ad.</td>\n",
       "    </tr>\n",
       "    <tr>\n",
       "      <th>4</th>\n",
       "      <td>60.0</td>\n",
       "      <td>368.014195</td>\n",
       "      <td>7.8000</td>\n",
       "      <td>1.0</td>\n",
       "      <td>0</td>\n",
       "      <td>0</td>\n",
       "      <td>0</td>\n",
       "      <td>0</td>\n",
       "      <td>0</td>\n",
       "      <td>0</td>\n",
       "      <td>...</td>\n",
       "      <td>0</td>\n",
       "      <td>0</td>\n",
       "      <td>0</td>\n",
       "      <td>0</td>\n",
       "      <td>0</td>\n",
       "      <td>0</td>\n",
       "      <td>0</td>\n",
       "      <td>0</td>\n",
       "      <td>0</td>\n",
       "      <td>ad.</td>\n",
       "    </tr>\n",
       "  </tbody>\n",
       "</table>\n",
       "<p>5 rows × 1559 columns</p>\n",
       "</div>"
      ],
      "text/plain": [
       "   height       width  aratio  local  url_images_buttons  url_likesbooks.com  \\\n",
       "0   125.0  125.000000  1.0000    1.0                   0                   0   \n",
       "1    57.0  368.014195  8.2105    1.0                   0                   0   \n",
       "2    33.0  230.000000  6.9696    1.0                   0                   0   \n",
       "3    60.0  368.014195  7.8000    1.0                   0                   0   \n",
       "4    60.0  368.014195  7.8000    1.0                   0                   0   \n",
       "\n",
       "   url_www.slake.com  url_hydrogeologist  url_oso  url_media    ...      \\\n",
       "0                  0                   0        0          0    ...       \n",
       "1                  0                   0        0          0    ...       \n",
       "2                  0                   0        0          0    ...       \n",
       "3                  0                   0        0          0    ...       \n",
       "4                  0                   0        0          0    ...       \n",
       "\n",
       "   caption_home  caption_my  caption_your  caption_in  caption_bytes  \\\n",
       "0             0           0             0           0              0   \n",
       "1             0           0             0           0              0   \n",
       "2             0           0             0           0              0   \n",
       "3             0           0             0           0              0   \n",
       "4             0           0             0           0              0   \n",
       "\n",
       "   caption_here  caption_click  caption_for  caption_you  ad, nonad  \n",
       "0             0              0            0            0        ad.  \n",
       "1             0              0            0            0        ad.  \n",
       "2             0              0            0            0        ad.  \n",
       "3             0              0            0            0        ad.  \n",
       "4             0              0            0            0        ad.  \n",
       "\n",
       "[5 rows x 1559 columns]"
      ]
     },
     "execution_count": 28,
     "metadata": {},
     "output_type": "execute_result"
    }
   ],
   "source": [
    "ad_df.head()"
   ]
  },
  {
   "cell_type": "markdown",
   "metadata": {},
   "source": [
    "Now that we've replaced missing values and removed outliers from our attributes data, we're going to create a new numeric column for the target variable.\n",
    "\n",
    "We'll begin by confirming we don't have any missing values"
   ]
  },
  {
   "cell_type": "code",
   "execution_count": 29,
   "metadata": {},
   "outputs": [
    {
     "data": {
      "text/plain": [
       "array(['ad.', 'nonad.'], dtype=object)"
      ]
     },
     "execution_count": 29,
     "metadata": {},
     "output_type": "execute_result"
    }
   ],
   "source": [
    "#check values of 'ad, nonad' column\n",
    "ad_df.loc[:,\"ad, nonad\"].unique()"
   ]
  },
  {
   "cell_type": "code",
   "execution_count": 30,
   "metadata": {},
   "outputs": [
    {
     "data": {
      "text/html": [
       "<div>\n",
       "<style scoped>\n",
       "    .dataframe tbody tr th:only-of-type {\n",
       "        vertical-align: middle;\n",
       "    }\n",
       "\n",
       "    .dataframe tbody tr th {\n",
       "        vertical-align: top;\n",
       "    }\n",
       "\n",
       "    .dataframe thead th {\n",
       "        text-align: right;\n",
       "    }\n",
       "</style>\n",
       "<table border=\"1\" class=\"dataframe\">\n",
       "  <thead>\n",
       "    <tr style=\"text-align: right;\">\n",
       "      <th></th>\n",
       "      <th>height</th>\n",
       "      <th>width</th>\n",
       "      <th>aratio</th>\n",
       "      <th>local</th>\n",
       "      <th>url_images_buttons</th>\n",
       "      <th>url_likesbooks.com</th>\n",
       "      <th>url_www.slake.com</th>\n",
       "      <th>url_hydrogeologist</th>\n",
       "      <th>url_oso</th>\n",
       "      <th>url_media</th>\n",
       "      <th>...</th>\n",
       "      <th>caption_home</th>\n",
       "      <th>caption_my</th>\n",
       "      <th>caption_your</th>\n",
       "      <th>caption_in</th>\n",
       "      <th>caption_bytes</th>\n",
       "      <th>caption_here</th>\n",
       "      <th>caption_click</th>\n",
       "      <th>caption_for</th>\n",
       "      <th>caption_you</th>\n",
       "      <th>ad, nonad</th>\n",
       "    </tr>\n",
       "  </thead>\n",
       "  <tbody>\n",
       "    <tr>\n",
       "      <th>0</th>\n",
       "      <td>125.0</td>\n",
       "      <td>125.000000</td>\n",
       "      <td>1.0000</td>\n",
       "      <td>1.0</td>\n",
       "      <td>0</td>\n",
       "      <td>0</td>\n",
       "      <td>0</td>\n",
       "      <td>0</td>\n",
       "      <td>0</td>\n",
       "      <td>0</td>\n",
       "      <td>...</td>\n",
       "      <td>0</td>\n",
       "      <td>0</td>\n",
       "      <td>0</td>\n",
       "      <td>0</td>\n",
       "      <td>0</td>\n",
       "      <td>0</td>\n",
       "      <td>0</td>\n",
       "      <td>0</td>\n",
       "      <td>0</td>\n",
       "      <td>ad.</td>\n",
       "    </tr>\n",
       "    <tr>\n",
       "      <th>1</th>\n",
       "      <td>57.0</td>\n",
       "      <td>368.014195</td>\n",
       "      <td>8.2105</td>\n",
       "      <td>1.0</td>\n",
       "      <td>0</td>\n",
       "      <td>0</td>\n",
       "      <td>0</td>\n",
       "      <td>0</td>\n",
       "      <td>0</td>\n",
       "      <td>0</td>\n",
       "      <td>...</td>\n",
       "      <td>0</td>\n",
       "      <td>0</td>\n",
       "      <td>0</td>\n",
       "      <td>0</td>\n",
       "      <td>0</td>\n",
       "      <td>0</td>\n",
       "      <td>0</td>\n",
       "      <td>0</td>\n",
       "      <td>0</td>\n",
       "      <td>ad.</td>\n",
       "    </tr>\n",
       "    <tr>\n",
       "      <th>2</th>\n",
       "      <td>33.0</td>\n",
       "      <td>230.000000</td>\n",
       "      <td>6.9696</td>\n",
       "      <td>1.0</td>\n",
       "      <td>0</td>\n",
       "      <td>0</td>\n",
       "      <td>0</td>\n",
       "      <td>0</td>\n",
       "      <td>0</td>\n",
       "      <td>0</td>\n",
       "      <td>...</td>\n",
       "      <td>0</td>\n",
       "      <td>0</td>\n",
       "      <td>0</td>\n",
       "      <td>0</td>\n",
       "      <td>0</td>\n",
       "      <td>0</td>\n",
       "      <td>0</td>\n",
       "      <td>0</td>\n",
       "      <td>0</td>\n",
       "      <td>ad.</td>\n",
       "    </tr>\n",
       "    <tr>\n",
       "      <th>3</th>\n",
       "      <td>60.0</td>\n",
       "      <td>368.014195</td>\n",
       "      <td>7.8000</td>\n",
       "      <td>1.0</td>\n",
       "      <td>0</td>\n",
       "      <td>0</td>\n",
       "      <td>0</td>\n",
       "      <td>0</td>\n",
       "      <td>0</td>\n",
       "      <td>0</td>\n",
       "      <td>...</td>\n",
       "      <td>0</td>\n",
       "      <td>0</td>\n",
       "      <td>0</td>\n",
       "      <td>0</td>\n",
       "      <td>0</td>\n",
       "      <td>0</td>\n",
       "      <td>0</td>\n",
       "      <td>0</td>\n",
       "      <td>0</td>\n",
       "      <td>ad.</td>\n",
       "    </tr>\n",
       "    <tr>\n",
       "      <th>4</th>\n",
       "      <td>60.0</td>\n",
       "      <td>368.014195</td>\n",
       "      <td>7.8000</td>\n",
       "      <td>1.0</td>\n",
       "      <td>0</td>\n",
       "      <td>0</td>\n",
       "      <td>0</td>\n",
       "      <td>0</td>\n",
       "      <td>0</td>\n",
       "      <td>0</td>\n",
       "      <td>...</td>\n",
       "      <td>0</td>\n",
       "      <td>0</td>\n",
       "      <td>0</td>\n",
       "      <td>0</td>\n",
       "      <td>0</td>\n",
       "      <td>0</td>\n",
       "      <td>0</td>\n",
       "      <td>0</td>\n",
       "      <td>0</td>\n",
       "      <td>ad.</td>\n",
       "    </tr>\n",
       "  </tbody>\n",
       "</table>\n",
       "<p>5 rows × 1559 columns</p>\n",
       "</div>"
      ],
      "text/plain": [
       "   height       width  aratio  local  url_images_buttons  url_likesbooks.com  \\\n",
       "0   125.0  125.000000  1.0000    1.0                   0                   0   \n",
       "1    57.0  368.014195  8.2105    1.0                   0                   0   \n",
       "2    33.0  230.000000  6.9696    1.0                   0                   0   \n",
       "3    60.0  368.014195  7.8000    1.0                   0                   0   \n",
       "4    60.0  368.014195  7.8000    1.0                   0                   0   \n",
       "\n",
       "   url_www.slake.com  url_hydrogeologist  url_oso  url_media    ...      \\\n",
       "0                  0                   0        0          0    ...       \n",
       "1                  0                   0        0          0    ...       \n",
       "2                  0                   0        0          0    ...       \n",
       "3                  0                   0        0          0    ...       \n",
       "4                  0                   0        0          0    ...       \n",
       "\n",
       "   caption_home  caption_my  caption_your  caption_in  caption_bytes  \\\n",
       "0             0           0             0           0              0   \n",
       "1             0           0             0           0              0   \n",
       "2             0           0             0           0              0   \n",
       "3             0           0             0           0              0   \n",
       "4             0           0             0           0              0   \n",
       "\n",
       "   caption_here  caption_click  caption_for  caption_you  ad, nonad  \n",
       "0             0              0            0            0        ad.  \n",
       "1             0              0            0            0        ad.  \n",
       "2             0              0            0            0        ad.  \n",
       "3             0              0            0            0        ad.  \n",
       "4             0              0            0            0        ad.  \n",
       "\n",
       "[5 rows x 1559 columns]"
      ]
     },
     "execution_count": 30,
     "metadata": {},
     "output_type": "execute_result"
    }
   ],
   "source": [
    "ad_df.head()"
   ]
  },
  {
   "cell_type": "code",
   "execution_count": 31,
   "metadata": {},
   "outputs": [],
   "source": [
    "# plot the counts for each category\n",
    "#ad_df.loc[:,\"ad, nonad\"].value_counts().plot(kind='bar')"
   ]
  },
  {
   "cell_type": "markdown",
   "metadata": {},
   "source": [
    "Then we'll create a new numeric column from the categorical 'ad, nonad' column which will be our target variable."
   ]
  },
  {
   "cell_type": "code",
   "execution_count": 32,
   "metadata": {},
   "outputs": [],
   "source": [
    "#create new numeric column for ad\n",
    "ad_df.loc[:,\"ad\"] = (ad_df.loc[:,\"ad, nonad\"] == \"ad.\").astype(int)"
   ]
  },
  {
   "cell_type": "markdown",
   "metadata": {},
   "source": [
    "Next, we'll drop the 'ad, nonad' column as it is no longer necessary."
   ]
  },
  {
   "cell_type": "code",
   "execution_count": 33,
   "metadata": {},
   "outputs": [],
   "source": [
    "# Remove column \"ad, nonad\"\n",
    "ad_df = ad_df.drop(\"ad, nonad\", axis=1)"
   ]
  },
  {
   "cell_type": "code",
   "execution_count": 109,
   "metadata": {},
   "outputs": [
    {
     "data": {
      "text/html": [
       "<div>\n",
       "<style scoped>\n",
       "    .dataframe tbody tr th:only-of-type {\n",
       "        vertical-align: middle;\n",
       "    }\n",
       "\n",
       "    .dataframe tbody tr th {\n",
       "        vertical-align: top;\n",
       "    }\n",
       "\n",
       "    .dataframe thead th {\n",
       "        text-align: right;\n",
       "    }\n",
       "</style>\n",
       "<table border=\"1\" class=\"dataframe\">\n",
       "  <thead>\n",
       "    <tr style=\"text-align: right;\">\n",
       "      <th></th>\n",
       "      <th>height</th>\n",
       "      <th>width</th>\n",
       "      <th>aratio</th>\n",
       "      <th>local</th>\n",
       "      <th>url_images_buttons</th>\n",
       "      <th>url_likesbooks.com</th>\n",
       "      <th>url_www.slake.com</th>\n",
       "      <th>url_hydrogeologist</th>\n",
       "      <th>url_oso</th>\n",
       "      <th>url_media</th>\n",
       "      <th>...</th>\n",
       "      <th>caption_home</th>\n",
       "      <th>caption_my</th>\n",
       "      <th>caption_your</th>\n",
       "      <th>caption_in</th>\n",
       "      <th>caption_bytes</th>\n",
       "      <th>caption_here</th>\n",
       "      <th>caption_click</th>\n",
       "      <th>caption_for</th>\n",
       "      <th>caption_you</th>\n",
       "      <th>ad</th>\n",
       "    </tr>\n",
       "  </thead>\n",
       "  <tbody>\n",
       "    <tr>\n",
       "      <th>0</th>\n",
       "      <td>125.0</td>\n",
       "      <td>125.000000</td>\n",
       "      <td>1.0000</td>\n",
       "      <td>1.0</td>\n",
       "      <td>0</td>\n",
       "      <td>0</td>\n",
       "      <td>0</td>\n",
       "      <td>0</td>\n",
       "      <td>0</td>\n",
       "      <td>0</td>\n",
       "      <td>...</td>\n",
       "      <td>0</td>\n",
       "      <td>0</td>\n",
       "      <td>0</td>\n",
       "      <td>0</td>\n",
       "      <td>0</td>\n",
       "      <td>0</td>\n",
       "      <td>0</td>\n",
       "      <td>0</td>\n",
       "      <td>0</td>\n",
       "      <td>1</td>\n",
       "    </tr>\n",
       "    <tr>\n",
       "      <th>1</th>\n",
       "      <td>57.0</td>\n",
       "      <td>368.014195</td>\n",
       "      <td>8.2105</td>\n",
       "      <td>1.0</td>\n",
       "      <td>0</td>\n",
       "      <td>0</td>\n",
       "      <td>0</td>\n",
       "      <td>0</td>\n",
       "      <td>0</td>\n",
       "      <td>0</td>\n",
       "      <td>...</td>\n",
       "      <td>0</td>\n",
       "      <td>0</td>\n",
       "      <td>0</td>\n",
       "      <td>0</td>\n",
       "      <td>0</td>\n",
       "      <td>0</td>\n",
       "      <td>0</td>\n",
       "      <td>0</td>\n",
       "      <td>0</td>\n",
       "      <td>1</td>\n",
       "    </tr>\n",
       "    <tr>\n",
       "      <th>2</th>\n",
       "      <td>33.0</td>\n",
       "      <td>230.000000</td>\n",
       "      <td>6.9696</td>\n",
       "      <td>1.0</td>\n",
       "      <td>0</td>\n",
       "      <td>0</td>\n",
       "      <td>0</td>\n",
       "      <td>0</td>\n",
       "      <td>0</td>\n",
       "      <td>0</td>\n",
       "      <td>...</td>\n",
       "      <td>0</td>\n",
       "      <td>0</td>\n",
       "      <td>0</td>\n",
       "      <td>0</td>\n",
       "      <td>0</td>\n",
       "      <td>0</td>\n",
       "      <td>0</td>\n",
       "      <td>0</td>\n",
       "      <td>0</td>\n",
       "      <td>1</td>\n",
       "    </tr>\n",
       "    <tr>\n",
       "      <th>3</th>\n",
       "      <td>60.0</td>\n",
       "      <td>368.014195</td>\n",
       "      <td>7.8000</td>\n",
       "      <td>1.0</td>\n",
       "      <td>0</td>\n",
       "      <td>0</td>\n",
       "      <td>0</td>\n",
       "      <td>0</td>\n",
       "      <td>0</td>\n",
       "      <td>0</td>\n",
       "      <td>...</td>\n",
       "      <td>0</td>\n",
       "      <td>0</td>\n",
       "      <td>0</td>\n",
       "      <td>0</td>\n",
       "      <td>0</td>\n",
       "      <td>0</td>\n",
       "      <td>0</td>\n",
       "      <td>0</td>\n",
       "      <td>0</td>\n",
       "      <td>1</td>\n",
       "    </tr>\n",
       "    <tr>\n",
       "      <th>4</th>\n",
       "      <td>60.0</td>\n",
       "      <td>368.014195</td>\n",
       "      <td>7.8000</td>\n",
       "      <td>1.0</td>\n",
       "      <td>0</td>\n",
       "      <td>0</td>\n",
       "      <td>0</td>\n",
       "      <td>0</td>\n",
       "      <td>0</td>\n",
       "      <td>0</td>\n",
       "      <td>...</td>\n",
       "      <td>0</td>\n",
       "      <td>0</td>\n",
       "      <td>0</td>\n",
       "      <td>0</td>\n",
       "      <td>0</td>\n",
       "      <td>0</td>\n",
       "      <td>0</td>\n",
       "      <td>0</td>\n",
       "      <td>0</td>\n",
       "      <td>1</td>\n",
       "    </tr>\n",
       "  </tbody>\n",
       "</table>\n",
       "<p>5 rows × 1559 columns</p>\n",
       "</div>"
      ],
      "text/plain": [
       "   height       width  aratio  local  url_images_buttons  url_likesbooks.com  \\\n",
       "0   125.0  125.000000  1.0000    1.0                   0                   0   \n",
       "1    57.0  368.014195  8.2105    1.0                   0                   0   \n",
       "2    33.0  230.000000  6.9696    1.0                   0                   0   \n",
       "3    60.0  368.014195  7.8000    1.0                   0                   0   \n",
       "4    60.0  368.014195  7.8000    1.0                   0                   0   \n",
       "\n",
       "   url_www.slake.com  url_hydrogeologist  url_oso  url_media ...  \\\n",
       "0                  0                   0        0          0 ...   \n",
       "1                  0                   0        0          0 ...   \n",
       "2                  0                   0        0          0 ...   \n",
       "3                  0                   0        0          0 ...   \n",
       "4                  0                   0        0          0 ...   \n",
       "\n",
       "   caption_home  caption_my  caption_your  caption_in  caption_bytes  \\\n",
       "0             0           0             0           0              0   \n",
       "1             0           0             0           0              0   \n",
       "2             0           0             0           0              0   \n",
       "3             0           0             0           0              0   \n",
       "4             0           0             0           0              0   \n",
       "\n",
       "   caption_here  caption_click  caption_for  caption_you  ad  \n",
       "0             0              0            0            0   1  \n",
       "1             0              0            0            0   1  \n",
       "2             0              0            0            0   1  \n",
       "3             0              0            0            0   1  \n",
       "4             0              0            0            0   1  \n",
       "\n",
       "[5 rows x 1559 columns]"
      ]
     },
     "execution_count": 109,
     "metadata": {},
     "output_type": "execute_result"
    }
   ],
   "source": [
    "ad_df.head()"
   ]
  },
  {
   "cell_type": "markdown",
   "metadata": {},
   "source": [
    "### Standardization\n",
    "Before we create our predictive model, we're going to standardize our variables in order to use all of them in tandem without letting different scales distort the signal they contain.\n",
    "\n",
    "To do this we'll apply a method called Z-normalization (aka standardization). Z-normalization changes the variable so that it’s mean is equal to 0.0 and its standard dev is equal to 1.0"
   ]
  },
  {
   "cell_type": "code",
   "execution_count": 42,
   "metadata": {},
   "outputs": [],
   "source": [
    "#columns to be standardized\n",
    "p = ad_df[['height','width','aratio']]"
   ]
  },
  {
   "cell_type": "code",
   "execution_count": 43,
   "metadata": {},
   "outputs": [],
   "source": [
    "#create scaler object\n",
    "standardization_scale = StandardScaler()#.fit(p)"
   ]
  },
  {
   "cell_type": "code",
   "execution_count": 44,
   "metadata": {},
   "outputs": [],
   "source": [
    "#apply scaler to variables\n",
    "z = standardization_scale.fit_transform(p)"
   ]
  },
  {
   "cell_type": "code",
   "execution_count": 45,
   "metadata": {},
   "outputs": [
    {
     "data": {
      "text/plain": [
       "array([[ 1.81726493, -0.10648065, -0.80411874],\n",
       "       [-0.02592535,  2.67243541,  1.96734969],\n",
       "       [-0.6764631 ,  1.09421541,  1.49039037],\n",
       "       ...,\n",
       "       [-0.94752049, -0.16365665,  0.81686646],\n",
       "       [-0.18855979, -0.27800865, -0.38054781],\n",
       "       [-0.48672292, -1.07847269, -0.80411874]])"
      ]
     },
     "execution_count": 45,
     "metadata": {},
     "output_type": "execute_result"
    }
   ],
   "source": [
    "z"
   ]
  },
  {
   "cell_type": "code",
   "execution_count": 46,
   "metadata": {},
   "outputs": [],
   "source": [
    "hc_scaled = pd.DataFrame(z)"
   ]
  },
  {
   "cell_type": "code",
   "execution_count": 47,
   "metadata": {},
   "outputs": [],
   "source": [
    "ad_df[['height','width','aratio']] = hc_scaled"
   ]
  },
  {
   "cell_type": "code",
   "execution_count": 48,
   "metadata": {},
   "outputs": [
    {
     "data": {
      "text/html": [
       "<div>\n",
       "<style scoped>\n",
       "    .dataframe tbody tr th:only-of-type {\n",
       "        vertical-align: middle;\n",
       "    }\n",
       "\n",
       "    .dataframe tbody tr th {\n",
       "        vertical-align: top;\n",
       "    }\n",
       "\n",
       "    .dataframe thead th {\n",
       "        text-align: right;\n",
       "    }\n",
       "</style>\n",
       "<table border=\"1\" class=\"dataframe\">\n",
       "  <thead>\n",
       "    <tr style=\"text-align: right;\">\n",
       "      <th></th>\n",
       "      <th>height</th>\n",
       "      <th>width</th>\n",
       "      <th>aratio</th>\n",
       "      <th>local</th>\n",
       "      <th>url_images_buttons</th>\n",
       "      <th>url_likesbooks.com</th>\n",
       "      <th>url_www.slake.com</th>\n",
       "      <th>url_hydrogeologist</th>\n",
       "      <th>url_oso</th>\n",
       "      <th>url_media</th>\n",
       "      <th>...</th>\n",
       "      <th>caption_home</th>\n",
       "      <th>caption_my</th>\n",
       "      <th>caption_your</th>\n",
       "      <th>caption_in</th>\n",
       "      <th>caption_bytes</th>\n",
       "      <th>caption_here</th>\n",
       "      <th>caption_click</th>\n",
       "      <th>caption_for</th>\n",
       "      <th>caption_you</th>\n",
       "      <th>ad</th>\n",
       "    </tr>\n",
       "  </thead>\n",
       "  <tbody>\n",
       "    <tr>\n",
       "      <th>0</th>\n",
       "      <td>1.817265</td>\n",
       "      <td>-0.106481</td>\n",
       "      <td>-0.804119</td>\n",
       "      <td>1.0</td>\n",
       "      <td>0</td>\n",
       "      <td>0</td>\n",
       "      <td>0</td>\n",
       "      <td>0</td>\n",
       "      <td>0</td>\n",
       "      <td>0</td>\n",
       "      <td>...</td>\n",
       "      <td>0</td>\n",
       "      <td>0</td>\n",
       "      <td>0</td>\n",
       "      <td>0</td>\n",
       "      <td>0</td>\n",
       "      <td>0</td>\n",
       "      <td>0</td>\n",
       "      <td>0</td>\n",
       "      <td>0</td>\n",
       "      <td>1</td>\n",
       "    </tr>\n",
       "    <tr>\n",
       "      <th>1</th>\n",
       "      <td>-0.025925</td>\n",
       "      <td>2.672435</td>\n",
       "      <td>1.967350</td>\n",
       "      <td>1.0</td>\n",
       "      <td>0</td>\n",
       "      <td>0</td>\n",
       "      <td>0</td>\n",
       "      <td>0</td>\n",
       "      <td>0</td>\n",
       "      <td>0</td>\n",
       "      <td>...</td>\n",
       "      <td>0</td>\n",
       "      <td>0</td>\n",
       "      <td>0</td>\n",
       "      <td>0</td>\n",
       "      <td>0</td>\n",
       "      <td>0</td>\n",
       "      <td>0</td>\n",
       "      <td>0</td>\n",
       "      <td>0</td>\n",
       "      <td>1</td>\n",
       "    </tr>\n",
       "    <tr>\n",
       "      <th>2</th>\n",
       "      <td>-0.676463</td>\n",
       "      <td>1.094215</td>\n",
       "      <td>1.490390</td>\n",
       "      <td>1.0</td>\n",
       "      <td>0</td>\n",
       "      <td>0</td>\n",
       "      <td>0</td>\n",
       "      <td>0</td>\n",
       "      <td>0</td>\n",
       "      <td>0</td>\n",
       "      <td>...</td>\n",
       "      <td>0</td>\n",
       "      <td>0</td>\n",
       "      <td>0</td>\n",
       "      <td>0</td>\n",
       "      <td>0</td>\n",
       "      <td>0</td>\n",
       "      <td>0</td>\n",
       "      <td>0</td>\n",
       "      <td>0</td>\n",
       "      <td>1</td>\n",
       "    </tr>\n",
       "    <tr>\n",
       "      <th>3</th>\n",
       "      <td>0.055392</td>\n",
       "      <td>2.672435</td>\n",
       "      <td>1.809568</td>\n",
       "      <td>1.0</td>\n",
       "      <td>0</td>\n",
       "      <td>0</td>\n",
       "      <td>0</td>\n",
       "      <td>0</td>\n",
       "      <td>0</td>\n",
       "      <td>0</td>\n",
       "      <td>...</td>\n",
       "      <td>0</td>\n",
       "      <td>0</td>\n",
       "      <td>0</td>\n",
       "      <td>0</td>\n",
       "      <td>0</td>\n",
       "      <td>0</td>\n",
       "      <td>0</td>\n",
       "      <td>0</td>\n",
       "      <td>0</td>\n",
       "      <td>1</td>\n",
       "    </tr>\n",
       "    <tr>\n",
       "      <th>4</th>\n",
       "      <td>0.055392</td>\n",
       "      <td>2.672435</td>\n",
       "      <td>1.809568</td>\n",
       "      <td>1.0</td>\n",
       "      <td>0</td>\n",
       "      <td>0</td>\n",
       "      <td>0</td>\n",
       "      <td>0</td>\n",
       "      <td>0</td>\n",
       "      <td>0</td>\n",
       "      <td>...</td>\n",
       "      <td>0</td>\n",
       "      <td>0</td>\n",
       "      <td>0</td>\n",
       "      <td>0</td>\n",
       "      <td>0</td>\n",
       "      <td>0</td>\n",
       "      <td>0</td>\n",
       "      <td>0</td>\n",
       "      <td>0</td>\n",
       "      <td>1</td>\n",
       "    </tr>\n",
       "  </tbody>\n",
       "</table>\n",
       "<p>5 rows × 1559 columns</p>\n",
       "</div>"
      ],
      "text/plain": [
       "     height     width    aratio  local  url_images_buttons  \\\n",
       "0  1.817265 -0.106481 -0.804119    1.0                   0   \n",
       "1 -0.025925  2.672435  1.967350    1.0                   0   \n",
       "2 -0.676463  1.094215  1.490390    1.0                   0   \n",
       "3  0.055392  2.672435  1.809568    1.0                   0   \n",
       "4  0.055392  2.672435  1.809568    1.0                   0   \n",
       "\n",
       "   url_likesbooks.com  url_www.slake.com  url_hydrogeologist  url_oso  \\\n",
       "0                   0                  0                   0        0   \n",
       "1                   0                  0                   0        0   \n",
       "2                   0                  0                   0        0   \n",
       "3                   0                  0                   0        0   \n",
       "4                   0                  0                   0        0   \n",
       "\n",
       "   url_media ...  caption_home  caption_my  caption_your  caption_in  \\\n",
       "0          0 ...             0           0             0           0   \n",
       "1          0 ...             0           0             0           0   \n",
       "2          0 ...             0           0             0           0   \n",
       "3          0 ...             0           0             0           0   \n",
       "4          0 ...             0           0             0           0   \n",
       "\n",
       "   caption_bytes  caption_here  caption_click  caption_for  caption_you  ad  \n",
       "0              0             0              0            0            0   1  \n",
       "1              0             0              0            0            0   1  \n",
       "2              0             0              0            0            0   1  \n",
       "3              0             0              0            0            0   1  \n",
       "4              0             0              0            0            0   1  \n",
       "\n",
       "[5 rows x 1559 columns]"
      ]
     },
     "execution_count": 48,
     "metadata": {},
     "output_type": "execute_result"
    }
   ],
   "source": [
    "ad_df.head()"
   ]
  },
  {
   "cell_type": "markdown",
   "metadata": {},
   "source": [
    "### Export data\n",
    "Lastly, we'll export our data which is ready to be modeled."
   ]
  },
  {
   "cell_type": "code",
   "execution_count": null,
   "metadata": {},
   "outputs": [],
   "source": [
    "#dataframe to csv\n",
    "ad_df.to_csv('InternetAd_Dataset.csv', index=None)"
   ]
  }
 ],
 "metadata": {
  "kernelspec": {
   "display_name": "Python 3",
   "language": "python",
   "name": "python3"
  },
  "language_info": {
   "codemirror_mode": {
    "name": "ipython",
    "version": 3
   },
   "file_extension": ".py",
   "mimetype": "text/x-python",
   "name": "python",
   "nbconvert_exporter": "python",
   "pygments_lexer": "ipython3",
   "version": "3.6.5"
  }
 },
 "nbformat": 4,
 "nbformat_minor": 2
}
