{
 "cells": [
  {
   "cell_type": "markdown",
   "metadata": {},
   "source": [
    "## Who Survived the Titanic?"
   ]
  },
  {
   "cell_type": "code",
   "execution_count": 4,
   "metadata": {},
   "outputs": [],
   "source": [
    "import pandas as pd \n",
    "tdf = pd.read_csv('titanic.csv', sep = ',', header=0)\n",
    "\n",
    "# Helpful tools to learn about yoru data\n",
    "#print(tdf.info())          # gives the structure of the data (rows/cols)\n",
    "#print(tdf.head())          # shows the top five data entries\n",
    "#print(tdf.describe())      # gives the statistics on the data in the DF"
   ]
  },
  {
   "cell_type": "markdown",
   "metadata": {},
   "source": [
    "### Set up the data for the decision tree analysis"
   ]
  },
  {
   "cell_type": "code",
   "execution_count": 5,
   "metadata": {},
   "outputs": [],
   "source": [
    "# Only keep the features we want to use and place the \"target\" at the end\n",
    "tdf = tdf[['Pclass', 'Sex', 'Age', 'SibSp', 'Parch', 'Fare', 'Survived']]\n",
    "\n",
    "# Change sex to numeric value so we can use DecisionTreeClassifier() <-- string okay for target, but not as an input\n",
    "tdf['Sex'] = tdf['Sex'].map({'male': 0, 'female': 1})\n",
    "\n",
    "# Drop rows with missing fields\n",
    "tdf = tdf.dropna() \n",
    "#print(df.info())\n",
    "columns = list(tdf)"
   ]
  },
  {
   "cell_type": "markdown",
   "metadata": {},
   "source": [
    "### Separate the independent variables (AKA Features) from the dependent labels (AKA Target)"
   ]
  },
  {
   "cell_type": "code",
   "execution_count": 2,
   "metadata": {},
   "outputs": [],
   "source": [
    "X = tdf.iloc[:, 0:6]   # load features into X DF\n",
    "Y = tdf.iloc[:, 6]     # Load target into Y DF"
   ]
  },
  {
   "cell_type": "markdown",
   "metadata": {},
   "source": [
    "### Split the Training and Testing Data"
   ]
  },
  {
   "cell_type": "code",
   "execution_count": null,
   "metadata": {},
   "outputs": [],
   "source": [
    "# Ensure that the decision tree is deterministic\n",
    "import numpy as np\n",
    "np.random.seed(101)"
   ]
  },
  {
   "cell_type": "code",
   "execution_count": 3,
   "metadata": {},
   "outputs": [],
   "source": [
    "from sklearn.model_selection import train_test_split \n",
    "\n",
    "X_train, X_test, y_train, y_test = train_test_split(X, Y, test_size = 0.1, random_state=1)"
   ]
  },
  {
   "cell_type": "markdown",
   "metadata": {},
   "source": [
    "### Generate and evaluate the model"
   ]
  },
  {
   "cell_type": "code",
   "execution_count": null,
   "metadata": {},
   "outputs": [],
   "source": [
    "from sklearn.tree import DecisionTreeClassifier \n",
    "\n",
    "# Use entropy = no limit on samples for split\n",
    "model_ent = DecisionTreeClassifier(criterion='entropy').fit(X_train, y_train) \n",
    "y_ent_pred = model_ent.predict(X_test)\n",
    "\n",
    "# Use information gain (default) limit min_samples to 4\n",
    "model_gini = DecisionTreeClassifier(min_samples_leaf=4).fit(X_train, y_train)\n",
    "y_gini_pred = model_gini.predict(X_test)\n",
    "\n",
    "# NOTE: You should, when testing models, only vary 1 thing at a time. "
   ]
  },
  {
   "cell_type": "code",
   "execution_count": null,
   "metadata": {},
   "outputs": [],
   "source": [
    "# Generate an accuracy Score\n",
    "from sklearn.metrics import accuracy_score\n",
    "\n",
    "print(\"Entropy accuracy is : {}%\".format(accuracy_score(y_test, y_ent_pred)*100))\n",
    "print(\"Gini accuracy is : {}%\".format(accuracy_score(y_test, y_gini_pred)*100))"
   ]
  },
  {
   "cell_type": "markdown",
   "metadata": {},
   "source": [
    "## Visualize the results"
   ]
  },
  {
   "cell_type": "code",
   "execution_count": null,
   "metadata": {},
   "outputs": [],
   "source": [
    "from sklearn.metrics import confusion_matrix\n",
    "\n",
    "pd.DataFrame(\n",
    "    confusion_matrix(y_test, y_gini_pred),\n",
    "    columns=['Predicted Died', 'Predicted Survived'],\n",
    "    index=['True Died', 'True Survived']\n",
    ")"
   ]
  },
  {
   "cell_type": "code",
   "execution_count": null,
   "metadata": {},
   "outputs": [],
   "source": [
    "#create a visualization of the tree -- must install graphviz and pydot2 packages for this to work\n",
    "from sklearn import tree\n",
    "dotfile = open(\"dtree.dot\", 'w')\n",
    "tree.export_graphviz(model_gini, out_file = dotfile, feature_names = columns[0:6])\n",
    "dotfile.close()\n",
    "\n",
    "# Convert the dot file to a png\n",
    "#import os\n",
    "#os.system(\"dot -Tpng dtree.dot -o dtree.png\")\n",
    "\n",
    "# Convert the dot file to a png\n",
    "from subprocess import check_call\n",
    "check_call(['dot','-Tpng','dtree.dot','-o','dtree.png'])"
   ]
  },
  {
   "cell_type": "code",
   "execution_count": null,
   "metadata": {},
   "outputs": [],
   "source": [
    "# show the png\n",
    "from IPython.display import Image\n",
    "Image(filename='dtree.png', width=1000, height=1000) "
   ]
  },
  {
   "cell_type": "code",
   "execution_count": null,
   "metadata": {},
   "outputs": [],
   "source": []
  }
 ],
 "metadata": {
  "kernelspec": {
   "display_name": "Python 3",
   "language": "python",
   "name": "python3"
  },
  "language_info": {
   "codemirror_mode": {
    "name": "ipython",
    "version": 3
   },
   "file_extension": ".py",
   "mimetype": "text/x-python",
   "name": "python",
   "nbconvert_exporter": "python",
   "pygments_lexer": "ipython3",
   "version": "3.6.8"
  }
 },
 "nbformat": 4,
 "nbformat_minor": 2
}
