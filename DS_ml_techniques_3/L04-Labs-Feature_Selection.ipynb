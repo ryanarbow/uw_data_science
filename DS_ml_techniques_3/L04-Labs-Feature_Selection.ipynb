{
 "cells": [
  {
   "cell_type": "markdown",
   "metadata": {},
   "source": [
    "<div id=\"reminder\" style=\"border-radius: 5px; background-color:#f5f5f5; padding: 15px 5px; \" >\n",
    "<p>Use this notebook to follow along with the lab tutorial.</p>\n",
    "</div>"
   ]
  },
  {
   "cell_type": "markdown",
   "metadata": {},
   "source": [
    "# <font color=\"blue\">Lesson 4 Feature Engineering and Selection</font>"
   ]
  },
  {
   "cell_type": "markdown",
   "metadata": {},
   "source": [
    "## Section 1 Handling Categorical Variables"
   ]
  },
  {
   "cell_type": "markdown",
   "metadata": {},
   "source": [
    "### Read Data from CSV File"
   ]
  },
  {
   "cell_type": "code",
   "execution_count": 1,
   "metadata": {},
   "outputs": [
    {
     "name": "stderr",
     "output_type": "stream",
     "text": [
      "/anaconda3/lib/python3.6/importlib/_bootstrap.py:219: RuntimeWarning: numpy.dtype size changed, may indicate binary incompatibility. Expected 96, got 88\n",
      "  return f(*args, **kwds)\n",
      "/anaconda3/lib/python3.6/importlib/_bootstrap.py:219: RuntimeWarning: numpy.dtype size changed, may indicate binary incompatibility. Expected 96, got 88\n",
      "  return f(*args, **kwds)\n"
     ]
    },
    {
     "data": {
      "text/html": [
       "<div>\n",
       "<style scoped>\n",
       "    .dataframe tbody tr th:only-of-type {\n",
       "        vertical-align: middle;\n",
       "    }\n",
       "\n",
       "    .dataframe tbody tr th {\n",
       "        vertical-align: top;\n",
       "    }\n",
       "\n",
       "    .dataframe thead th {\n",
       "        text-align: right;\n",
       "    }\n",
       "</style>\n",
       "<table border=\"1\" class=\"dataframe\">\n",
       "  <thead>\n",
       "    <tr style=\"text-align: right;\">\n",
       "      <th></th>\n",
       "      <th>outlook</th>\n",
       "      <th>temp</th>\n",
       "      <th>humidity</th>\n",
       "      <th>windy</th>\n",
       "      <th>play</th>\n",
       "    </tr>\n",
       "  </thead>\n",
       "  <tbody>\n",
       "    <tr>\n",
       "      <th>0</th>\n",
       "      <td>sunny</td>\n",
       "      <td>hot</td>\n",
       "      <td>high</td>\n",
       "      <td>strong</td>\n",
       "      <td>no</td>\n",
       "    </tr>\n",
       "    <tr>\n",
       "      <th>1</th>\n",
       "      <td>sunny</td>\n",
       "      <td>hot</td>\n",
       "      <td>high</td>\n",
       "      <td>weak</td>\n",
       "      <td>no</td>\n",
       "    </tr>\n",
       "    <tr>\n",
       "      <th>2</th>\n",
       "      <td>overcast</td>\n",
       "      <td>hot</td>\n",
       "      <td>high</td>\n",
       "      <td>weak</td>\n",
       "      <td>yes</td>\n",
       "    </tr>\n",
       "    <tr>\n",
       "      <th>3</th>\n",
       "      <td>rain</td>\n",
       "      <td>mild</td>\n",
       "      <td>high</td>\n",
       "      <td>weak</td>\n",
       "      <td>yes</td>\n",
       "    </tr>\n",
       "    <tr>\n",
       "      <th>4</th>\n",
       "      <td>rain</td>\n",
       "      <td>cool</td>\n",
       "      <td>normal</td>\n",
       "      <td>weak</td>\n",
       "      <td>yes</td>\n",
       "    </tr>\n",
       "  </tbody>\n",
       "</table>\n",
       "</div>"
      ],
      "text/plain": [
       "    outlook  temp humidity   windy play\n",
       "0     sunny   hot     high  strong   no\n",
       "1     sunny   hot     high    weak   no\n",
       "2  overcast   hot     high    weak  yes\n",
       "3      rain  mild     high    weak  yes\n",
       "4      rain  cool   normal    weak  yes"
      ]
     },
     "execution_count": 1,
     "metadata": {},
     "output_type": "execute_result"
    }
   ],
   "source": [
    "import pandas as pd\n",
    "file = \"https://library.startlearninglabs.uw.edu/DATASCI420/Datasets/Tennis.csv\"\n",
    "data = pd.read_csv(file, header=0)\n",
    "data.head()"
   ]
  },
  {
   "cell_type": "markdown",
   "metadata": {},
   "source": [
    "### One Hot Encoding"
   ]
  },
  {
   "cell_type": "code",
   "execution_count": 2,
   "metadata": {},
   "outputs": [
    {
     "ename": "ModuleNotFoundError",
     "evalue": "No module named 'category_encoders'",
     "output_type": "error",
     "traceback": [
      "\u001b[0;31m---------------------------------------------------------------------------\u001b[0m",
      "\u001b[0;31mModuleNotFoundError\u001b[0m                       Traceback (most recent call last)",
      "\u001b[0;32m<ipython-input-2-9bdcbdf559d8>\u001b[0m in \u001b[0;36m<module>\u001b[0;34m()\u001b[0m\n\u001b[0;32m----> 1\u001b[0;31m \u001b[0;32mimport\u001b[0m \u001b[0mcategory_encoders\u001b[0m \u001b[0;32mas\u001b[0m \u001b[0mce\u001b[0m\u001b[0;34m\u001b[0m\u001b[0m\n\u001b[0m\u001b[1;32m      2\u001b[0m \u001b[0mX\u001b[0m \u001b[0;34m=\u001b[0m \u001b[0mdata\u001b[0m\u001b[0;34m[\u001b[0m\u001b[0;34m[\u001b[0m\u001b[0;34m\"outlook\"\u001b[0m\u001b[0;34m,\u001b[0m\u001b[0;34m\"temp\"\u001b[0m\u001b[0;34m,\u001b[0m\u001b[0;34m\"humidity\"\u001b[0m\u001b[0;34m,\u001b[0m\u001b[0;34m\"windy\"\u001b[0m\u001b[0;34m]\u001b[0m\u001b[0;34m]\u001b[0m\u001b[0;34m\u001b[0m\u001b[0m\n\u001b[1;32m      3\u001b[0m \u001b[0mle\u001b[0m \u001b[0;34m=\u001b[0m  \u001b[0mce\u001b[0m\u001b[0;34m.\u001b[0m\u001b[0mOneHotEncoder\u001b[0m\u001b[0;34m(\u001b[0m\u001b[0mreturn_df\u001b[0m\u001b[0;34m=\u001b[0m\u001b[0;32mFalse\u001b[0m\u001b[0;34m,\u001b[0m\u001b[0mimpute_missing\u001b[0m\u001b[0;34m=\u001b[0m\u001b[0;32mFalse\u001b[0m\u001b[0;34m,\u001b[0m\u001b[0mhandle_unknown\u001b[0m\u001b[0;34m=\u001b[0m\u001b[0;34m\"ignore\"\u001b[0m\u001b[0;34m)\u001b[0m\u001b[0;34m\u001b[0m\u001b[0m\n\u001b[1;32m      4\u001b[0m \u001b[0mX_encoded\u001b[0m \u001b[0;34m=\u001b[0m \u001b[0mle\u001b[0m\u001b[0;34m.\u001b[0m\u001b[0mfit_transform\u001b[0m\u001b[0;34m(\u001b[0m\u001b[0mX\u001b[0m\u001b[0;34m)\u001b[0m\u001b[0;34m\u001b[0m\u001b[0m\n\u001b[1;32m      5\u001b[0m \u001b[0mX_encoded\u001b[0m\u001b[0;34m[\u001b[0m\u001b[0;36m0\u001b[0m\u001b[0;34m:\u001b[0m\u001b[0;36m5\u001b[0m\u001b[0;34m,\u001b[0m\u001b[0;34m:\u001b[0m\u001b[0;34m]\u001b[0m\u001b[0;34m\u001b[0m\u001b[0m\n",
      "\u001b[0;31mModuleNotFoundError\u001b[0m: No module named 'category_encoders'"
     ]
    }
   ],
   "source": [
    "import category_encoders as ce\n",
    "X = data[[\"outlook\",\"temp\",\"humidity\",\"windy\"]]\n",
    "le =  ce.OneHotEncoder(return_df=False,impute_missing=False,handle_unknown=\"ignore\")\n",
    "X_encoded = le.fit_transform(X)\n",
    "X_encoded[0:5,:]"
   ]
  },
  {
   "cell_type": "code",
   "execution_count": null,
   "metadata": {},
   "outputs": [],
   "source": [
    "# print out the category mapping\n",
    "le.category_mapping"
   ]
  },
  {
   "cell_type": "markdown",
   "metadata": {},
   "source": [
    "### One-hot Encoding by Pandas"
   ]
  },
  {
   "cell_type": "code",
   "execution_count": 3,
   "metadata": {},
   "outputs": [
    {
     "data": {
      "text/html": [
       "<div>\n",
       "<style scoped>\n",
       "    .dataframe tbody tr th:only-of-type {\n",
       "        vertical-align: middle;\n",
       "    }\n",
       "\n",
       "    .dataframe tbody tr th {\n",
       "        vertical-align: top;\n",
       "    }\n",
       "\n",
       "    .dataframe thead th {\n",
       "        text-align: right;\n",
       "    }\n",
       "</style>\n",
       "<table border=\"1\" class=\"dataframe\">\n",
       "  <thead>\n",
       "    <tr style=\"text-align: right;\">\n",
       "      <th></th>\n",
       "      <th>play</th>\n",
       "      <th>outlook_overcast</th>\n",
       "      <th>outlook_rain</th>\n",
       "      <th>outlook_sunny</th>\n",
       "      <th>temp_cool</th>\n",
       "      <th>temp_hot</th>\n",
       "      <th>temp_mild</th>\n",
       "      <th>humdity_high</th>\n",
       "      <th>humdity_normal</th>\n",
       "      <th>windy_strong</th>\n",
       "      <th>windy_weak</th>\n",
       "    </tr>\n",
       "  </thead>\n",
       "  <tbody>\n",
       "    <tr>\n",
       "      <th>0</th>\n",
       "      <td>no</td>\n",
       "      <td>0</td>\n",
       "      <td>0</td>\n",
       "      <td>1</td>\n",
       "      <td>0</td>\n",
       "      <td>1</td>\n",
       "      <td>0</td>\n",
       "      <td>1</td>\n",
       "      <td>0</td>\n",
       "      <td>1</td>\n",
       "      <td>0</td>\n",
       "    </tr>\n",
       "    <tr>\n",
       "      <th>1</th>\n",
       "      <td>no</td>\n",
       "      <td>0</td>\n",
       "      <td>0</td>\n",
       "      <td>1</td>\n",
       "      <td>0</td>\n",
       "      <td>1</td>\n",
       "      <td>0</td>\n",
       "      <td>1</td>\n",
       "      <td>0</td>\n",
       "      <td>0</td>\n",
       "      <td>1</td>\n",
       "    </tr>\n",
       "    <tr>\n",
       "      <th>2</th>\n",
       "      <td>yes</td>\n",
       "      <td>1</td>\n",
       "      <td>0</td>\n",
       "      <td>0</td>\n",
       "      <td>0</td>\n",
       "      <td>1</td>\n",
       "      <td>0</td>\n",
       "      <td>1</td>\n",
       "      <td>0</td>\n",
       "      <td>0</td>\n",
       "      <td>1</td>\n",
       "    </tr>\n",
       "    <tr>\n",
       "      <th>3</th>\n",
       "      <td>yes</td>\n",
       "      <td>0</td>\n",
       "      <td>1</td>\n",
       "      <td>0</td>\n",
       "      <td>0</td>\n",
       "      <td>0</td>\n",
       "      <td>1</td>\n",
       "      <td>1</td>\n",
       "      <td>0</td>\n",
       "      <td>0</td>\n",
       "      <td>1</td>\n",
       "    </tr>\n",
       "    <tr>\n",
       "      <th>4</th>\n",
       "      <td>yes</td>\n",
       "      <td>0</td>\n",
       "      <td>1</td>\n",
       "      <td>0</td>\n",
       "      <td>1</td>\n",
       "      <td>0</td>\n",
       "      <td>0</td>\n",
       "      <td>0</td>\n",
       "      <td>1</td>\n",
       "      <td>0</td>\n",
       "      <td>1</td>\n",
       "    </tr>\n",
       "  </tbody>\n",
       "</table>\n",
       "</div>"
      ],
      "text/plain": [
       "  play  outlook_overcast  outlook_rain  outlook_sunny  temp_cool  temp_hot  \\\n",
       "0   no                 0             0              1          0         1   \n",
       "1   no                 0             0              1          0         1   \n",
       "2  yes                 1             0              0          0         1   \n",
       "3  yes                 0             1              0          0         0   \n",
       "4  yes                 0             1              0          1         0   \n",
       "\n",
       "   temp_mild  humdity_high  humdity_normal  windy_strong  windy_weak  \n",
       "0          0             1               0             1           0  \n",
       "1          0             1               0             0           1  \n",
       "2          0             1               0             0           1  \n",
       "3          1             1               0             0           1  \n",
       "4          0             0               1             0           1  "
      ]
     },
     "execution_count": 3,
     "metadata": {},
     "output_type": "execute_result"
    }
   ],
   "source": [
    "import pandas as pd\n",
    "data_encoded = pd.get_dummies(data, columns=[\"outlook\",\"temp\",\"humidity\",\"windy\"], \\\n",
    "                             prefix=[\"outlook\",\"temp\",\"humdity\",\"windy\"])\n",
    "data_encoded.head()"
   ]
  },
  {
   "cell_type": "markdown",
   "metadata": {},
   "source": [
    "### References for More Complete List of One-hot Encoding Methodologies\n",
    "\n",
    "Moffitt, C. (2017) <a href=\"http://pbpython.com/categorical-encoding.html\">Guide to Encoding Categorical Values in Python</a>, Practical Business Python."
   ]
  },
  {
   "cell_type": "markdown",
   "metadata": {},
   "source": [
    "### Risk Values of Categorical Variables"
   ]
  },
  {
   "cell_type": "code",
   "execution_count": 4,
   "metadata": {},
   "outputs": [
    {
     "name": "stdout",
     "output_type": "stream",
     "text": [
      "play      no  yes\n",
      "outlook          \n",
      "overcast   0    4\n",
      "rain       2    3\n",
      "sunny      3    2\n",
      "play  no  yes\n",
      "temp         \n",
      "cool   1    3\n",
      "hot    2    2\n",
      "mild   2    4\n",
      "play      no  yes\n",
      "humidity         \n",
      "high       4    3\n",
      "normal     1    6\n",
      "play    no  yes\n",
      "windy          \n",
      "strong   3    3\n",
      "weak     2    6\n",
      "{'outlook': {'overcast': 2.564949357461537, 'rain': 0.4353180712578455, 'sunny': -0.23922968906583425}, 'temp': {'cool': 0.9873866535578852, 'hot': 0.11441035117774412, 'mild': 0.6778797084291569}, 'humidity': {'high': -0.17904823144898543, 'normal': 1.5881605139868153}, 'windy': {'strong': 0.0816780310142671, 'weak': 1.0360919316867758}}\n"
     ]
    }
   ],
   "source": [
    "import numpy as np\n",
    "General_Prob = (data.iloc[:,4] == \"yes\").sum()/float(data.shape[0])\n",
    "variable_risks = {}\n",
    "for variable in ['outlook', 'temp', 'humidity', 'windy']:\n",
    "    tab = pd.crosstab(data[variable], data.play) #Create a contingency table\n",
    "    print(tab)\n",
    "    num_levels = tab.shape[0]\n",
    "    level_risk = {}\n",
    "    levels = list(tab.index)\n",
    "    level_index = 0\n",
    "    for lev in levels:\n",
    "        if lev == True:\n",
    "            lev = 'True'\n",
    "        elif lev == False:\n",
    "            lev = 'False'\n",
    "        # general_prob is used as asmooth parameters when calculating risk values\n",
    "        level_risk[lev] = np.log((tab.iloc[level_index, 1] + General_Prob) / (tab.iloc[level_index, 0] + 1 - General_Prob))\n",
    "        level_index += 1\n",
    "    variable_risks[variable] = level_risk\n",
    "print(variable_risks)"
   ]
  },
  {
   "cell_type": "markdown",
   "metadata": {},
   "source": [
    "### Replace the Original Categorical Values with Risks"
   ]
  },
  {
   "cell_type": "code",
   "execution_count": 5,
   "metadata": {},
   "outputs": [
    {
     "data": {
      "text/html": [
       "<div>\n",
       "<style scoped>\n",
       "    .dataframe tbody tr th:only-of-type {\n",
       "        vertical-align: middle;\n",
       "    }\n",
       "\n",
       "    .dataframe tbody tr th {\n",
       "        vertical-align: top;\n",
       "    }\n",
       "\n",
       "    .dataframe thead th {\n",
       "        text-align: right;\n",
       "    }\n",
       "</style>\n",
       "<table border=\"1\" class=\"dataframe\">\n",
       "  <thead>\n",
       "    <tr style=\"text-align: right;\">\n",
       "      <th></th>\n",
       "      <th>outlook</th>\n",
       "      <th>temp</th>\n",
       "      <th>humidity</th>\n",
       "      <th>windy</th>\n",
       "      <th>play</th>\n",
       "    </tr>\n",
       "  </thead>\n",
       "  <tbody>\n",
       "    <tr>\n",
       "      <th>0</th>\n",
       "      <td>-0.23923</td>\n",
       "      <td>0.11441</td>\n",
       "      <td>-0.179048</td>\n",
       "      <td>0.081678</td>\n",
       "      <td>no</td>\n",
       "    </tr>\n",
       "    <tr>\n",
       "      <th>1</th>\n",
       "      <td>-0.23923</td>\n",
       "      <td>0.11441</td>\n",
       "      <td>-0.179048</td>\n",
       "      <td>1.03609</td>\n",
       "      <td>no</td>\n",
       "    </tr>\n",
       "    <tr>\n",
       "      <th>2</th>\n",
       "      <td>2.56495</td>\n",
       "      <td>0.11441</td>\n",
       "      <td>-0.179048</td>\n",
       "      <td>1.03609</td>\n",
       "      <td>yes</td>\n",
       "    </tr>\n",
       "    <tr>\n",
       "      <th>3</th>\n",
       "      <td>0.435318</td>\n",
       "      <td>0.67788</td>\n",
       "      <td>-0.179048</td>\n",
       "      <td>1.03609</td>\n",
       "      <td>yes</td>\n",
       "    </tr>\n",
       "    <tr>\n",
       "      <th>4</th>\n",
       "      <td>0.435318</td>\n",
       "      <td>0.987387</td>\n",
       "      <td>1.58816</td>\n",
       "      <td>1.03609</td>\n",
       "      <td>yes</td>\n",
       "    </tr>\n",
       "  </tbody>\n",
       "</table>\n",
       "</div>"
      ],
      "text/plain": [
       "    outlook      temp  humidity     windy play\n",
       "0  -0.23923   0.11441 -0.179048  0.081678   no\n",
       "1  -0.23923   0.11441 -0.179048   1.03609   no\n",
       "2   2.56495   0.11441 -0.179048   1.03609  yes\n",
       "3  0.435318   0.67788 -0.179048   1.03609  yes\n",
       "4  0.435318  0.987387   1.58816   1.03609  yes"
      ]
     },
     "execution_count": 5,
     "metadata": {},
     "output_type": "execute_result"
    }
   ],
   "source": [
    "data_risks = data.copy()\n",
    "# data_risks.windy = data_risks.windy.astype(float)\n",
    "num_obs = data.shape[0]\n",
    "for variable in ['outlook', 'temp', 'humidity', 'windy']:\n",
    "    for i in range(num_obs):\n",
    "        if data[variable][i] == True:\n",
    "            lev = 'True'\n",
    "        elif data[variable][i] == False:\n",
    "            lev = 'False'\n",
    "        else:\n",
    "            lev = data[variable][i]\n",
    "        data_risks[variable][i] = variable_risks[variable][lev]\n",
    "data_risks.head()"
   ]
  },
  {
   "cell_type": "markdown",
   "metadata": {},
   "source": [
    "## Section 2. Recency, Frequency, and Monetary (RFM)"
   ]
  },
  {
   "cell_type": "markdown",
   "metadata": {},
   "source": [
    "### Read Example Data"
   ]
  },
  {
   "cell_type": "code",
   "execution_count": 6,
   "metadata": {},
   "outputs": [
    {
     "data": {
      "text/html": [
       "<div>\n",
       "<style scoped>\n",
       "    .dataframe tbody tr th:only-of-type {\n",
       "        vertical-align: middle;\n",
       "    }\n",
       "\n",
       "    .dataframe tbody tr th {\n",
       "        vertical-align: top;\n",
       "    }\n",
       "\n",
       "    .dataframe thead th {\n",
       "        text-align: right;\n",
       "    }\n",
       "</style>\n",
       "<table border=\"1\" class=\"dataframe\">\n",
       "  <thead>\n",
       "    <tr style=\"text-align: right;\">\n",
       "      <th></th>\n",
       "      <th>UserId</th>\n",
       "      <th>Age</th>\n",
       "      <th>Address</th>\n",
       "      <th>Column 0</th>\n",
       "      <th>TransactionId</th>\n",
       "      <th>Timestamp</th>\n",
       "      <th>ItemId</th>\n",
       "      <th>Quantity</th>\n",
       "      <th>Value</th>\n",
       "    </tr>\n",
       "  </thead>\n",
       "  <tbody>\n",
       "    <tr>\n",
       "      <th>0</th>\n",
       "      <td>101981</td>\n",
       "      <td>F</td>\n",
       "      <td>E</td>\n",
       "      <td>2860</td>\n",
       "      <td>818463</td>\n",
       "      <td>11/1/2000 0:00</td>\n",
       "      <td>4.710000e+12</td>\n",
       "      <td>1</td>\n",
       "      <td>37</td>\n",
       "    </tr>\n",
       "    <tr>\n",
       "      <th>1</th>\n",
       "      <td>101981</td>\n",
       "      <td>F</td>\n",
       "      <td>E</td>\n",
       "      <td>2861</td>\n",
       "      <td>818464</td>\n",
       "      <td>11/1/2000 0:00</td>\n",
       "      <td>4.710000e+12</td>\n",
       "      <td>1</td>\n",
       "      <td>17</td>\n",
       "    </tr>\n",
       "    <tr>\n",
       "      <th>2</th>\n",
       "      <td>101981</td>\n",
       "      <td>F</td>\n",
       "      <td>E</td>\n",
       "      <td>2862</td>\n",
       "      <td>818465</td>\n",
       "      <td>11/1/2000 0:00</td>\n",
       "      <td>4.710000e+12</td>\n",
       "      <td>1</td>\n",
       "      <td>23</td>\n",
       "    </tr>\n",
       "    <tr>\n",
       "      <th>3</th>\n",
       "      <td>101981</td>\n",
       "      <td>F</td>\n",
       "      <td>E</td>\n",
       "      <td>2863</td>\n",
       "      <td>818466</td>\n",
       "      <td>11/1/2000 0:00</td>\n",
       "      <td>4.710000e+12</td>\n",
       "      <td>1</td>\n",
       "      <td>41</td>\n",
       "    </tr>\n",
       "    <tr>\n",
       "      <th>4</th>\n",
       "      <td>101981</td>\n",
       "      <td>F</td>\n",
       "      <td>E</td>\n",
       "      <td>2864</td>\n",
       "      <td>818467</td>\n",
       "      <td>11/1/2000 0:00</td>\n",
       "      <td>4.710000e+12</td>\n",
       "      <td>8</td>\n",
       "      <td>288</td>\n",
       "    </tr>\n",
       "  </tbody>\n",
       "</table>\n",
       "</div>"
      ],
      "text/plain": [
       "   UserId Age Address  Column 0  TransactionId       Timestamp        ItemId  \\\n",
       "0  101981   F       E      2860         818463  11/1/2000 0:00  4.710000e+12   \n",
       "1  101981   F       E      2861         818464  11/1/2000 0:00  4.710000e+12   \n",
       "2  101981   F       E      2862         818465  11/1/2000 0:00  4.710000e+12   \n",
       "3  101981   F       E      2863         818466  11/1/2000 0:00  4.710000e+12   \n",
       "4  101981   F       E      2864         818467  11/1/2000 0:00  4.710000e+12   \n",
       "\n",
       "   Quantity  Value  \n",
       "0         1     37  \n",
       "1         1     17  \n",
       "2         1     23  \n",
       "3         1     41  \n",
       "4         8    288  "
      ]
     },
     "execution_count": 6,
     "metadata": {},
     "output_type": "execute_result"
    }
   ],
   "source": [
    "import pandas as pd\n",
    "file = \"https://library.startlearninglabs.uw.edu/DATASCI420/Datasets/Retail_Churn_Data.csv\"\n",
    "data = pd.read_csv(file, sep=\",\", header=0)\n",
    "data.head()"
   ]
  },
  {
   "cell_type": "markdown",
   "metadata": {},
   "source": [
    "### Convert Timestamp to Datetime Object"
   ]
  },
  {
   "cell_type": "code",
   "execution_count": 7,
   "metadata": {},
   "outputs": [
    {
     "name": "stdout",
     "output_type": "stream",
     "text": [
      "Minimal Date=2000-11-01 00:00, Maximal Date=2001-02-28 00:00\n"
     ]
    }
   ],
   "source": [
    "import datetime as dt\n",
    "import pandas as pd\n",
    "import numpy as np\n",
    "from collections import OrderedDict\n",
    "\n",
    "data[\"Timestamp\"] = pd.to_datetime(data[\"Timestamp\"], format='%m/%d/%Y %H:%M')\n",
    "data.head()\n",
    "print(\"Minimal Date=%s, Maximal Date=%s\"%(min(data[\"Timestamp\"]).strftime(\"%Y-%m-%d %H:%M\"), \\\n",
    "                                          max(data[\"Timestamp\"]).strftime(\"%Y-%m-%d %H:%M\")))\n",
    "\n"
   ]
  },
  {
   "cell_type": "markdown",
   "metadata": {},
   "source": [
    "### Calculate RFM Features for Users at Each Checkpoint"
   ]
  },
  {
   "cell_type": "code",
   "execution_count": 8,
   "metadata": {},
   "outputs": [
    {
     "name": "stdout",
     "output_type": "stream",
     "text": [
      "There are 7275 unique users.\n",
      "There are 7333 unique users.\n",
      "There are 7347 unique users.\n",
      "There are 7287 unique users.\n",
      "There are 7203 unique users.\n",
      "There are 7165 unique users.\n",
      "There are 7152 unique users.\n",
      "There are 7159 unique users.\n",
      "There are 7153 unique users.\n",
      "There are 7132 unique users.\n"
     ]
    },
    {
     "data": {
      "text/html": [
       "<div>\n",
       "<style scoped>\n",
       "    .dataframe tbody tr th:only-of-type {\n",
       "        vertical-align: middle;\n",
       "    }\n",
       "\n",
       "    .dataframe tbody tr th {\n",
       "        vertical-align: top;\n",
       "    }\n",
       "\n",
       "    .dataframe thead th {\n",
       "        text-align: right;\n",
       "    }\n",
       "</style>\n",
       "<table border=\"1\" class=\"dataframe\">\n",
       "  <thead>\n",
       "    <tr style=\"text-align: right;\">\n",
       "      <th></th>\n",
       "      <th>UserID</th>\n",
       "      <th>Checkpoint</th>\n",
       "      <th>Recency</th>\n",
       "      <th>Frequency</th>\n",
       "      <th>Value</th>\n",
       "      <th>Quantity</th>\n",
       "    </tr>\n",
       "  </thead>\n",
       "  <tbody>\n",
       "    <tr>\n",
       "      <th>0</th>\n",
       "      <td>2162690</td>\n",
       "      <td>2001-01-01</td>\n",
       "      <td>29</td>\n",
       "      <td>0</td>\n",
       "      <td>0</td>\n",
       "      <td>0</td>\n",
       "    </tr>\n",
       "    <tr>\n",
       "      <th>1</th>\n",
       "      <td>425995</td>\n",
       "      <td>2001-01-01</td>\n",
       "      <td>2</td>\n",
       "      <td>2</td>\n",
       "      <td>92</td>\n",
       "      <td>3</td>\n",
       "    </tr>\n",
       "    <tr>\n",
       "      <th>2</th>\n",
       "      <td>1835021</td>\n",
       "      <td>2001-01-01</td>\n",
       "      <td>15</td>\n",
       "      <td>0</td>\n",
       "      <td>0</td>\n",
       "      <td>0</td>\n",
       "    </tr>\n",
       "    <tr>\n",
       "      <th>3</th>\n",
       "      <td>589840</td>\n",
       "      <td>2001-01-01</td>\n",
       "      <td>5</td>\n",
       "      <td>8</td>\n",
       "      <td>1316</td>\n",
       "      <td>9</td>\n",
       "    </tr>\n",
       "    <tr>\n",
       "      <th>4</th>\n",
       "      <td>2162706</td>\n",
       "      <td>2001-01-01</td>\n",
       "      <td>26</td>\n",
       "      <td>0</td>\n",
       "      <td>0</td>\n",
       "      <td>0</td>\n",
       "    </tr>\n",
       "  </tbody>\n",
       "</table>\n",
       "</div>"
      ],
      "text/plain": [
       "    UserID Checkpoint  Recency  Frequency  Value  Quantity\n",
       "0  2162690 2001-01-01       29          0      0         0\n",
       "1   425995 2001-01-01        2          2     92         3\n",
       "2  1835021 2001-01-01       15          0      0         0\n",
       "3   589840 2001-01-01        5          8   1316         9\n",
       "4  2162706 2001-01-01       26          0      0         0"
      ]
     },
     "execution_count": 8,
     "metadata": {},
     "output_type": "execute_result"
    }
   ],
   "source": [
    "Start_Date_Obj = dt.datetime.strptime(\"1/1/2001\", \"%m/%d/%Y\")\n",
    "End_Date_Obj = dt.datetime.strptime(\"1/10/2001\", \"%m/%d/%Y\")\n",
    "Time_Window = 60 #days. Only consider customers who have activities within the recent 60 days\n",
    "FM_Window = 7 #days for frequency and monetary\n",
    "\n",
    "check_point_date = Start_Date_Obj\n",
    "UserID = []\n",
    "Checkpoint = []\n",
    "Recency = []\n",
    "Frequency = []\n",
    "Monetary_Value = []\n",
    "Monetary_Quantity = []\n",
    "while check_point_date <= End_Date_Obj:\n",
    "    window_start = check_point_date - dt.timedelta(days = Time_Window)\n",
    "    mask = (data[\"Timestamp\"] >= window_start) & (data[\"Timestamp\"] < check_point_date)\n",
    "    # Get the data in [checkpoint-60days, checkpoint]\n",
    "    data_checkpoint = data.loc[mask]\n",
    "    # Get the ids of users who have activities in [checkpoint-60days, checkpoint]\n",
    "    unique_users = list(set(data_checkpoint[\"UserId\"]))\n",
    "    print(\"There are %d unique users.\"%(len(unique_users)))\n",
    "    FM_Window_Start = check_point_date - dt.timedelta(days = FM_Window)\n",
    "    for user in unique_users:\n",
    "        UserID.append(user)\n",
    "        Checkpoint.append(check_point_date)\n",
    "        mask = data_checkpoint[\"UserId\"] == user\n",
    "        data_checkpoint_user = data_checkpoint.loc[mask]\n",
    "        delta = check_point_date - max(data_checkpoint_user[\"Timestamp\"])\n",
    "        recency = delta.days #Recency, days between checkpoint and last transaction time\n",
    "        mask = data_checkpoint_user[\"Timestamp\"] >= FM_Window_Start\n",
    "        data_checkpoint_user_fm = data_checkpoint_user.loc[mask]\n",
    "        frequency = data_checkpoint_user_fm.shape[0]\n",
    "        value = np.sum(data_checkpoint_user_fm.iloc[:, 8]) #monetary values\n",
    "        quantity = np.sum(data_checkpoint_user_fm.iloc[:, 7])#monetary quantity\n",
    "        Recency.append(recency)\n",
    "        Frequency.append(frequency)\n",
    "        Monetary_Value.append(value)\n",
    "        Monetary_Quantity.append(quantity)\n",
    "    check_point_date = check_point_date + dt.timedelta(days = 1)\n",
    "# Consolidate all columns into a signle data frame\n",
    "RFM_Dict = OrderedDict([ ('UserID', UserID),\n",
    "          ('Checkpoint', Checkpoint),\n",
    "          ('Recency',  Recency),\n",
    "          ('Frequency', Frequency),\n",
    "          ('Value', Monetary_Value),\n",
    "          ('Quantity', Monetary_Quantity)] )\n",
    "RFM_Frame = pd.DataFrame.from_dict(RFM_Dict)\n",
    "RFM_Frame.head()\n"
   ]
  },
  {
   "cell_type": "markdown",
   "metadata": {},
   "source": [
    "## Section 3. Filter-based Selection"
   ]
  },
  {
   "cell_type": "markdown",
   "metadata": {},
   "source": [
    "### Mutual Information"
   ]
  },
  {
   "cell_type": "code",
   "execution_count": 7,
   "metadata": {},
   "outputs": [
    {
     "name": "stdout",
     "output_type": "stream",
     "text": [
      "Standard Deviation of Y=1.20\n"
     ]
    },
    {
     "data": {
      "image/png": "[encoded data removed]",
      "text/plain": [
       "<Figure size 432x288 with 1 Axes>"
      ]
     },
     "metadata": {},
     "output_type": "display_data"
    },
    {
     "name": "stdout",
     "output_type": "stream",
     "text": [
      "Correlation between X and Y is 0.00\n",
      "Mutual information=1.77\n"
     ]
    }
   ],
   "source": [
    "import numpy as np\n",
    "\n",
    "X = np.linspace(start = -1, stop = 3, num=401, endpoint=True)\n",
    "Y = X**2 - 2*X + 1\n",
    "print(\"Standard Deviation of Y=%.2f\"%np.std(Y))\n",
    "\n",
    "noise_var = 0.1\n",
    "noise = np.random.normal(0, noise_var, len(X))\n",
    "Y += noise\n",
    "#Y = noise\n",
    "\n",
    "import matplotlib.pyplot as plt\n",
    "\n",
    "plt.plot(X, Y)\n",
    "plt.show()\n",
    "\n",
    "# Calculation Correlation\n",
    "corr = np.corrcoef(X, Y)[0, 1]\n",
    "print(\"Correlation between X and Y is %.2f\"%corr)\n",
    "# Calculate Mutual Information\n",
    "\n",
    "from sklearn.metrics import mutual_info_score\n",
    "\n",
    "def calc_MI(x, y, bins):\n",
    "    c_xy = np.histogram2d(x, y, bins)[0]\n",
    "    mi = mutual_info_score(None, None, contingency=c_xy)\n",
    "    return mi\n",
    "\n",
    "mi = calc_MI(X, Y, 20)\n",
    "print(\"Mutual information=%.2f\"%mi)"
   ]
  },
  {
   "cell_type": "code",
   "execution_count": 8,
   "metadata": {},
   "outputs": [
    {
     "data": {
      "text/plain": [
       "0.0048966518851759405"
      ]
     },
     "execution_count": 8,
     "metadata": {},
     "output_type": "execute_result"
    }
   ],
   "source": [
    "corr"
   ]
  },
  {
   "cell_type": "code",
   "execution_count": 6,
   "metadata": {},
   "outputs": [
    {
     "data": {
      "text/plain": [
       "array([ 4.15109308e+00,  3.97769882e+00,  3.98312487e+00,  3.92485987e+00,\n",
       "        3.95348049e+00,  3.70794146e+00,  3.75909296e+00,  3.84278873e+00,\n",
       "        3.53096398e+00,  3.91932953e+00,  3.61252282e+00,  3.71170945e+00,\n",
       "        3.46462445e+00,  3.46353516e+00,  3.55729684e+00,  3.39164273e+00,\n",
       "        3.39085606e+00,  3.46971045e+00,  3.17775580e+00,  3.32461087e+00,\n",
       "        3.17419600e+00,  3.23265408e+00,  3.22710063e+00,  3.24966394e+00,\n",
       "        3.18135280e+00,  3.14152058e+00,  2.86767282e+00,  2.77327613e+00,\n",
       "        3.11861893e+00,  2.92097653e+00,  2.94741406e+00,  2.92502188e+00,\n",
       "        3.07607367e+00,  2.80148897e+00,  2.79587221e+00,  2.80529905e+00,\n",
       "        2.79350407e+00,  2.72624779e+00,  2.66547370e+00,  2.52537383e+00,\n",
       "        2.54758556e+00,  2.59434145e+00,  2.53396898e+00,  2.48246529e+00,\n",
       "        2.44740691e+00,  2.45612745e+00,  2.32861841e+00,  2.21117377e+00,\n",
       "        2.41039261e+00,  2.11693741e+00,  2.30062888e+00,  2.15506191e+00,\n",
       "        2.21052133e+00,  2.09844167e+00,  2.21363681e+00,  2.16997159e+00,\n",
       "        1.87394349e+00,  1.99060217e+00,  1.95371372e+00,  1.92234127e+00,\n",
       "        1.84140573e+00,  2.03606440e+00,  2.04738446e+00,  2.10717051e+00,\n",
       "        1.70092448e+00,  1.78067331e+00,  1.74560876e+00,  1.75390497e+00,\n",
       "        1.78770314e+00,  1.75936007e+00,  1.70204354e+00,  1.64632649e+00,\n",
       "        1.71080200e+00,  1.67035196e+00,  1.56223150e+00,  1.58465879e+00,\n",
       "        1.64980331e+00,  1.42415425e+00,  1.46693613e+00,  1.34981661e+00,\n",
       "        1.51713200e+00,  1.42301145e+00,  1.28342336e+00,  1.37108345e+00,\n",
       "        1.41367186e+00,  1.19476509e+00,  1.46254726e+00,  1.30773565e+00,\n",
       "        9.68010317e-01,  1.21201226e+00,  1.03197553e+00,  1.32832573e+00,\n",
       "        1.07250653e+00,  1.28324479e+00,  1.19382637e+00,  9.98245778e-01,\n",
       "        1.04035402e+00,  1.05410554e+00,  1.08997070e+00,  1.14002913e+00,\n",
       "        1.22279171e+00,  9.43180160e-01,  9.18031102e-01,  7.52805263e-01,\n",
       "        9.28436082e-01,  9.93161898e-01,  1.00487502e+00,  8.67012698e-01,\n",
       "        9.13983546e-01,  8.96306764e-01,  9.98873002e-01,  5.95569232e-01,\n",
       "        7.01424868e-01,  7.93697461e-01,  9.35130218e-01,  7.61143549e-01,\n",
       "        6.67099809e-01,  6.19938339e-01,  7.50298071e-01,  6.56318305e-01,\n",
       "        6.77960813e-01,  6.05870374e-01,  5.36144685e-01,  4.61560994e-01,\n",
       "        6.83564130e-01,  5.03140593e-01,  5.97772372e-01,  4.42642177e-01,\n",
       "        5.79785813e-01,  3.93944483e-01,  4.82426499e-01,  4.44553985e-01,\n",
       "        5.50029235e-01,  4.87859604e-01,  3.07045459e-01,  3.36684139e-01,\n",
       "        4.95049578e-01,  5.27719034e-01,  3.84132773e-01,  4.40106875e-01,\n",
       "        3.89021012e-01,  4.87463506e-01,  3.59701879e-01,  4.75168622e-01,\n",
       "        3.08576884e-01,  2.26123304e-01,  3.40499127e-01,  3.56605035e-01,\n",
       "        2.96995864e-01,  8.98803826e-02,  3.23718640e-01,  3.93380537e-01,\n",
       "        3.93340324e-01,  1.91072142e-01,  2.46728957e-01,  5.60280323e-02,\n",
       "        1.40199554e-01,  1.32417714e-01,  1.80238912e-01,  2.50721324e-01,\n",
       "        8.96685127e-02,  2.43608461e-01,  2.05352854e-01,  1.07729056e-01,\n",
       "        2.54850711e-01,  1.51951868e-01,  4.01396704e-02,  2.26189338e-02,\n",
       "        1.59478740e-01,  4.48248210e-02,  6.90044321e-02, -6.95225914e-02,\n",
       "        1.39404506e-01,  2.23775201e-01, -9.16839975e-02,  1.13891089e-01,\n",
       "       -6.94214630e-02,  1.61076389e-01,  5.51215144e-02,  1.82758576e-02,\n",
       "       -2.19744914e-03, -3.84845213e-02, -1.26858063e-01,  2.49359961e-02,\n",
       "        1.19524197e-02,  6.32445069e-02, -1.46694702e-02, -9.65573682e-02,\n",
       "        5.36082523e-02, -9.20183143e-02, -8.90078334e-03,  1.51053019e-02,\n",
       "       -1.93754160e-02, -4.71815949e-02, -5.56187242e-02, -1.91563873e-01,\n",
       "       -9.42427624e-02,  1.05389820e-01,  3.32698311e-02, -9.81036765e-02,\n",
       "        1.17986809e-01, -8.05107666e-03,  5.16185644e-02,  1.99212349e-01,\n",
       "        3.71919224e-02,  1.56577096e-02, -6.12809219e-02, -4.74977467e-02,\n",
       "        3.15097519e-02, -8.72793064e-02,  7.89195086e-02, -6.18146153e-02,\n",
       "        1.11306992e-01, -1.37216827e-01,  1.11165987e-01, -3.48857662e-02,\n",
       "        1.49066005e-01,  1.93993223e-01,  9.96311163e-02, -5.63533240e-02,\n",
       "        3.08344553e-02, -1.96816419e-01,  2.79936711e-02, -2.49391881e-02,\n",
       "        9.21755325e-02,  1.92836994e-01, -6.09763048e-02,  5.76118997e-02,\n",
       "        3.14149020e-02,  2.39033061e-01,  7.51503626e-02, -3.23301047e-02,\n",
       "        2.83868996e-01,  2.50282990e-02,  3.71425023e-01,  3.06347302e-01,\n",
       "        1.37114733e-01,  3.24349891e-02,  2.03279971e-01,  1.65867421e-01,\n",
       "        1.83914063e-01,  1.79228295e-01,  1.51283056e-01,  1.69565763e-01,\n",
       "        2.60004212e-01,  1.28212492e-01,  1.62203473e-01,  2.73643003e-01,\n",
       "        2.53838129e-01,  1.85394006e-01,  1.72083150e-01,  2.27768179e-01,\n",
       "        4.58660774e-01,  3.63647160e-01,  1.75341438e-01,  2.21228506e-01,\n",
       "        3.89118809e-01,  3.23569610e-01,  3.22146269e-01,  4.03018910e-01,\n",
       "        2.51660968e-01,  6.55362200e-01,  2.20832647e-01,  4.42120870e-01,\n",
       "        4.32883297e-01,  4.94461498e-01,  4.28308205e-01,  3.82323789e-01,\n",
       "        6.05443322e-01,  4.52987644e-01,  4.27162746e-01,  5.50531983e-01,\n",
       "        6.22235339e-01,  5.23457766e-01,  4.42163137e-01,  6.14033972e-01,\n",
       "        6.49687515e-01,  5.20970514e-01,  5.34242709e-01,  6.44610324e-01,\n",
       "        6.90600135e-01,  8.47402513e-01,  7.43864774e-01,  7.60621195e-01,\n",
       "        7.91405254e-01,  6.61375283e-01,  8.69719331e-01,  7.18999737e-01,\n",
       "        8.20631061e-01,  7.59406220e-01,  8.90741534e-01,  8.50854346e-01,\n",
       "        9.65239159e-01,  8.73218204e-01,  8.95829773e-01,  1.09256954e+00,\n",
       "        7.80146724e-01,  9.75683243e-01,  8.60276311e-01,  1.03258546e+00,\n",
       "        1.04878662e+00,  1.08629527e+00,  1.06400194e+00,  1.01375012e+00,\n",
       "        1.03902412e+00,  1.00941440e+00,  1.12557598e+00,  1.19661139e+00,\n",
       "        1.28175292e+00,  1.23999243e+00,  1.20371754e+00,  1.34931455e+00,\n",
       "        1.18168295e+00,  1.31802889e+00,  1.30244228e+00,  1.34855266e+00,\n",
       "        1.40189638e+00,  1.51450968e+00,  1.43785551e+00,  1.44549317e+00,\n",
       "        1.71086341e+00,  1.28131644e+00,  1.67569113e+00,  1.46229820e+00,\n",
       "        1.56130970e+00,  1.41722994e+00,  1.57266605e+00,  1.65930958e+00,\n",
       "        1.55895008e+00,  1.60817126e+00,  1.72868053e+00,  1.51796731e+00,\n",
       "        1.57556558e+00,  1.67848233e+00,  1.60947754e+00,  1.83979429e+00,\n",
       "        1.82103315e+00,  1.89353078e+00,  1.88734585e+00,  1.73377910e+00,\n",
       "        1.75103749e+00,  2.02971767e+00,  1.78866316e+00,  1.98573100e+00,\n",
       "        1.86264693e+00,  2.08606915e+00,  2.12032856e+00,  2.10471584e+00,\n",
       "        2.13249253e+00,  2.35253980e+00,  2.27480842e+00,  2.33639466e+00,\n",
       "        2.44936541e+00,  2.17269957e+00,  2.40705524e+00,  2.41960427e+00,\n",
       "        2.32392264e+00,  2.48613683e+00,  2.46071334e+00,  2.78704353e+00,\n",
       "        2.54816110e+00,  2.54404450e+00,  2.76523599e+00,  2.74072373e+00,\n",
       "        2.71229200e+00,  2.70816707e+00,  2.74466428e+00,  2.81655503e+00,\n",
       "        2.69294799e+00,  2.82004280e+00,  2.88716233e+00,  2.73186180e+00,\n",
       "        2.94969299e+00,  3.06595642e+00,  2.95631167e+00,  3.15949260e+00,\n",
       "        3.26473415e+00,  3.09360695e+00,  3.29881819e+00,  3.06697971e+00,\n",
       "        3.20425200e+00,  3.12060397e+00,  3.31338258e+00,  3.40792533e+00,\n",
       "        3.25567782e+00,  3.47450670e+00,  3.47309226e+00,  3.57061551e+00,\n",
       "        3.50333383e+00,  3.58266341e+00,  3.64790581e+00,  3.69798455e+00,\n",
       "        3.69598985e+00,  3.69640641e+00,  3.81009850e+00,  3.85208377e+00,\n",
       "        3.85270482e+00,  3.79358303e+00,  3.88901231e+00,  4.03704585e+00,\n",
       "        4.11120040e+00])"
      ]
     },
     "execution_count": 6,
     "metadata": {},
     "output_type": "execute_result"
    }
   ],
   "source": [
    "Y"
   ]
  },
  {
   "cell_type": "markdown",
   "metadata": {},
   "source": [
    "## Section 4. Stepwise and Embedded Methods"
   ]
  },
  {
   "cell_type": "markdown",
   "metadata": {},
   "source": [
    "### Stepwise Model Selection\n",
    "\n",
    "#### Backward model selection"
   ]
  },
  {
   "cell_type": "code",
   "execution_count": 10,
   "metadata": {
    "scrolled": true
   },
   "outputs": [
    {
     "name": "stdout",
     "output_type": "stream",
     "text": [
      "[[0.5488135  0.71518937 0.60276338 0.54488318 0.4236548  0.64589411\n",
      "  0.43758721 0.891773   0.96366276 0.38344152]\n",
      " [0.79172504 0.52889492 0.56804456 0.92559664 0.07103606 0.0871293\n",
      "  0.0202184  0.83261985 0.77815675 0.87001215]\n",
      " [0.97861834 0.79915856 0.46147936 0.78052918 0.11827443 0.63992102\n",
      "  0.14335329 0.94466892 0.52184832 0.41466194]\n",
      " [0.26455561 0.77423369 0.45615033 0.56843395 0.0187898  0.6176355\n",
      "  0.61209572 0.616934   0.94374808 0.6818203 ]\n",
      " [0.3595079  0.43703195 0.6976312  0.06022547 0.66676672 0.67063787\n",
      "  0.21038256 0.1289263  0.31542835 0.36371077]\n",
      " [0.57019677 0.43860151 0.98837384 0.10204481 0.20887676 0.16130952\n",
      "  0.65310833 0.2532916  0.46631077 0.24442559]\n",
      " [0.15896958 0.11037514 0.65632959 0.13818295 0.19658236 0.36872517\n",
      "  0.82099323 0.09710128 0.83794491 0.09609841]\n",
      " [0.97645947 0.4686512  0.97676109 0.60484552 0.73926358 0.03918779\n",
      "  0.28280696 0.12019656 0.2961402  0.11872772]\n",
      " [0.31798318 0.41426299 0.0641475  0.69247212 0.56660145 0.26538949\n",
      "  0.52324805 0.09394051 0.5759465  0.9292962 ]\n",
      " [0.31856895 0.66741038 0.13179786 0.7163272  0.28940609 0.18319136\n",
      "  0.58651293 0.02010755 0.82894003 0.00469548]]\n",
      "[ True  True  True  True  True False False False False False]\n",
      "[1 1 1 1 1 2 3 6 5 4]\n"
     ]
    }
   ],
   "source": [
    "# Recursive Feature Elimination\n",
    "from sklearn.datasets import make_friedman1\n",
    "from sklearn.feature_selection import RFE #Recursive Feature Elimination\n",
    "from sklearn.linear_model import LinearRegression\n",
    "X, y = make_friedman1(n_samples=50, n_features=10, random_state=0)\n",
    "print(X[0:10,:]) # print out the first 10 rows\n",
    "estimator = LinearRegression()\n",
    "selector = RFE(estimator, 5, step=1)#select 5 features. Step=1 means each step only remove 1 variable from the model\n",
    "selector = selector.fit(X, y)\n",
    "print(selector.support_) # The mask of selected features.\n",
    "print(selector.ranking_) # selected features are ranked 1. The 6th is the one that is removed first,\n",
    "                         # 2nd is the one that is removed last"
   ]
  },
  {
   "cell_type": "markdown",
   "metadata": {},
   "source": [
    "### Install Machine Learning Extensions\n",
    "See <a href=\"http://rasbt.github.io/mlxtend/\">mlxtend's documentation</a>"
   ]
  },
  {
   "cell_type": "code",
   "execution_count": 13,
   "metadata": {},
   "outputs": [
    {
     "name": "stdout",
     "output_type": "stream",
     "text": [
      "Collecting mlxtend\n",
      "\u001b[?25l  Downloading https://files.pythonhosted.org/packages/52/04/c362f34f666f0ddc7cf593805e64d64fa670ed96fd9302e68549dd48287d/mlxtend-0.17.0-py2.py3-none-any.whl (1.3MB)\n",
      "\u001b[K     |████████████████████████████████| 1.3MB 475kB/s eta 0:00:01\n",
      "\u001b[?25hRequirement already satisfied: setuptools in /anaconda3/lib/python3.6/site-packages (from mlxtend) (39.1.0)\n",
      "Collecting scipy>=1.2.1\n",
      "\u001b[?25l  Downloading https://files.pythonhosted.org/packages/96/94/cd76305a69fff844e83655ed7b254835df4eddd5fc0e2d0eb2914501b36e/scipy-1.4.1-cp36-cp36m-macosx_10_6_intel.whl (28.5MB)\n",
      "\u001b[K     |████████████████████████████████| 28.5MB 47kB/s eta 0:00:014\n",
      "\u001b[?25hRequirement already satisfied: joblib>=0.13.2 in /anaconda3/lib/python3.6/site-packages (from mlxtend) (0.14.0)\n",
      "Collecting pandas>=0.24.2\n",
      "\u001b[?25l  Downloading https://files.pythonhosted.org/packages/32/37/b0abb12e1e387ec63adfb5c7bb7bcbc05a7e1ae22a3604b03843d7b04e0b/pandas-0.25.3-cp36-cp36m-macosx_10_9_x86_64.whl (10.4MB)\n",
      "\u001b[K     |████████████████████████████████| 10.4MB 189kB/s eta 0:00:01\n",
      "\u001b[?25hRequirement already satisfied: scikit-learn>=0.20.3 in /anaconda3/lib/python3.6/site-packages (from mlxtend) (0.21.3)\n",
      "Collecting matplotlib>=3.0.0\n",
      "\u001b[?25l  Downloading https://files.pythonhosted.org/packages/23/38/cb55064c883dfa6f49ccbf635ca725e862736c86de99984bd556ac144002/matplotlib-3.1.2-cp36-cp36m-macosx_10_9_x86_64.whl (13.2MB)\n",
      "\u001b[K     |████████████████████████████████| 13.2MB 173kB/s eta 0:00:01\n",
      "\u001b[?25hCollecting numpy>=1.16.2\n",
      "\u001b[?25l  Downloading https://files.pythonhosted.org/packages/7c/cd/5243645399c09bb5081e8d2847583f7a6b7cca55eb096a880eda0b602d4d/numpy-1.18.0-cp36-cp36m-macosx_10_9_x86_64.whl (15.2MB)\n",
      "\u001b[K     |████████████████████████████████| 15.2MB 392kB/s eta 0:00:01\n",
      "\u001b[?25hRequirement already satisfied: python-dateutil>=2.6.1 in /anaconda3/lib/python3.6/site-packages (from pandas>=0.24.2->mlxtend) (2.7.3)\n",
      "Requirement already satisfied: pytz>=2017.2 in /anaconda3/lib/python3.6/site-packages (from pandas>=0.24.2->mlxtend) (2018.4)\n",
      "Requirement already satisfied: pyparsing!=2.0.4,!=2.1.2,!=2.1.6,>=2.0.1 in /anaconda3/lib/python3.6/site-packages (from matplotlib>=3.0.0->mlxtend) (2.2.0)\n",
      "Requirement already satisfied: cycler>=0.10 in /anaconda3/lib/python3.6/site-packages (from matplotlib>=3.0.0->mlxtend) (0.10.0)\n",
      "Requirement already satisfied: kiwisolver>=1.0.1 in /anaconda3/lib/python3.6/site-packages (from matplotlib>=3.0.0->mlxtend) (1.0.1)\n",
      "Requirement already satisfied: six>=1.5 in /anaconda3/lib/python3.6/site-packages (from python-dateutil>=2.6.1->pandas>=0.24.2->mlxtend) (1.11.0)\n",
      "\u001b[31mERROR: keras 2.2.0 has requirement keras-applications==1.0.2, but you'll have keras-applications 1.0.7 which is incompatible.\u001b[0m\n",
      "\u001b[31mERROR: keras 2.2.0 has requirement keras-preprocessing==1.0.1, but you'll have keras-preprocessing 1.0.9 which is incompatible.\u001b[0m\n",
      "\u001b[31mERROR: ds 0.0.1 has requirement numpy==1.15.0, but you'll have numpy 1.18.0 which is incompatible.\u001b[0m\n",
      "\u001b[31mERROR: ds 0.0.1 has requirement pandas==0.23.3, but you'll have pandas 0.25.3 which is incompatible.\u001b[0m\n",
      "\u001b[31mERROR: ds 0.0.1 has requirement protobuf==3.6.0, but you'll have protobuf 3.7.1 which is incompatible.\u001b[0m\n",
      "\u001b[31mERROR: ds 0.0.1 has requirement scikit-learn==0.19.1, but you'll have scikit-learn 0.21.3 which is incompatible.\u001b[0m\n",
      "Installing collected packages: numpy, scipy, pandas, matplotlib, mlxtend\n",
      "  Found existing installation: numpy 1.15.0\n",
      "    Uninstalling numpy-1.15.0:\n",
      "      Successfully uninstalled numpy-1.15.0\n",
      "  Found existing installation: scipy 1.1.0\n",
      "    Uninstalling scipy-1.1.0:\n",
      "      Successfully uninstalled scipy-1.1.0\n",
      "  Found existing installation: pandas 0.23.3\n",
      "    Uninstalling pandas-0.23.3:\n",
      "      Successfully uninstalled pandas-0.23.3\n",
      "  Found existing installation: matplotlib 2.2.2\n",
      "    Uninstalling matplotlib-2.2.2:\n",
      "      Successfully uninstalled matplotlib-2.2.2\n",
      "Successfully installed matplotlib-3.1.2 mlxtend-0.17.0 numpy-1.18.0 pandas-0.25.3 scipy-1.4.1\n"
     ]
    }
   ],
   "source": [
    "# Uncomment the following line to run\n",
    "!pip install mlxtend"
   ]
  },
  {
   "cell_type": "markdown",
   "metadata": {},
   "source": [
    "#### Forward Feature Selection"
   ]
  },
  {
   "cell_type": "code",
   "execution_count": 14,
   "metadata": {
    "scrolled": true
   },
   "outputs": [
    {
     "name": "stdout",
     "output_type": "stream",
     "text": [
      "[[6.3200e-03 1.8000e+01 2.3100e+00 0.0000e+00 5.3800e-01 6.5750e+00\n",
      "  6.5200e+01 4.0900e+00 1.0000e+00 2.9600e+02 1.5300e+01 3.9690e+02\n",
      "  4.9800e+00]\n",
      " [2.7310e-02 0.0000e+00 7.0700e+00 0.0000e+00 4.6900e-01 6.4210e+00\n",
      "  7.8900e+01 4.9671e+00 2.0000e+00 2.4200e+02 1.7800e+01 3.9690e+02\n",
      "  9.1400e+00]\n",
      " [2.7290e-02 0.0000e+00 7.0700e+00 0.0000e+00 4.6900e-01 7.1850e+00\n",
      "  6.1100e+01 4.9671e+00 2.0000e+00 2.4200e+02 1.7800e+01 3.9283e+02\n",
      "  4.0300e+00]\n",
      " [3.2370e-02 0.0000e+00 2.1800e+00 0.0000e+00 4.5800e-01 6.9980e+00\n",
      "  4.5800e+01 6.0622e+00 3.0000e+00 2.2200e+02 1.8700e+01 3.9463e+02\n",
      "  2.9400e+00]\n",
      " [6.9050e-02 0.0000e+00 2.1800e+00 0.0000e+00 4.5800e-01 7.1470e+00\n",
      "  5.4200e+01 6.0622e+00 3.0000e+00 2.2200e+02 1.8700e+01 3.9690e+02\n",
      "  5.3300e+00]\n",
      " [2.9850e-02 0.0000e+00 2.1800e+00 0.0000e+00 4.5800e-01 6.4300e+00\n",
      "  5.8700e+01 6.0622e+00 3.0000e+00 2.2200e+02 1.8700e+01 3.9412e+02\n",
      "  5.2100e+00]\n",
      " [8.8290e-02 1.2500e+01 7.8700e+00 0.0000e+00 5.2400e-01 6.0120e+00\n",
      "  6.6600e+01 5.5605e+00 5.0000e+00 3.1100e+02 1.5200e+01 3.9560e+02\n",
      "  1.2430e+01]\n",
      " [1.4455e-01 1.2500e+01 7.8700e+00 0.0000e+00 5.2400e-01 6.1720e+00\n",
      "  9.6100e+01 5.9505e+00 5.0000e+00 3.1100e+02 1.5200e+01 3.9690e+02\n",
      "  1.9150e+01]\n",
      " [2.1124e-01 1.2500e+01 7.8700e+00 0.0000e+00 5.2400e-01 5.6310e+00\n",
      "  1.0000e+02 6.0821e+00 5.0000e+00 3.1100e+02 1.5200e+01 3.8663e+02\n",
      "  2.9930e+01]\n",
      " [1.7004e-01 1.2500e+01 7.8700e+00 0.0000e+00 5.2400e-01 6.0040e+00\n",
      "  8.5900e+01 6.5921e+00 5.0000e+00 3.1100e+02 1.5200e+01 3.8671e+02\n",
      "  1.7100e+01]]\n"
     ]
    },
    {
     "data": {
      "image/png": "[encoded data removed]",
      "text/plain": [
       "<Figure size 432x288 with 1 Axes>"
      ]
     },
     "metadata": {},
     "output_type": "display_data"
    }
   ],
   "source": [
    "# Forward Stepwise Feature Selection\n",
    "from sklearn.linear_model import LinearRegression\n",
    "from sklearn.datasets import load_boston\n",
    "from mlxtend.feature_selection import SequentialFeatureSelector as SFS\n",
    "import matplotlib.pyplot as plt\n",
    "from mlxtend.plotting import plot_sequential_feature_selection as plot_sfs\n",
    "\n",
    "boston = load_boston()\n",
    "X, y = boston.data, boston.target\n",
    "\n",
    "print(X[0:10, :])\n",
    "lr = LinearRegression()\n",
    "\n",
    "sfs = SFS(lr, \n",
    "          k_features=13, # k_features has to be smaller or equal to the number of features. If equal to, it starts from\n",
    "                         # intercept to the full model\n",
    "          forward=True,  # forward\n",
    "          floating=False, \n",
    "          scoring='neg_mean_squared_error',\n",
    "          cv=10)\n",
    "\n",
    "sfs = sfs.fit(X, y)\n",
    "fig = plot_sfs(sfs.get_metric_dict(), kind='std_err')\n",
    "\n",
    "plt.title('Sequential Forward Selection (w. StdErr)')\n",
    "plt.grid()\n",
    "plt.show()"
   ]
  },
  {
   "cell_type": "markdown",
   "metadata": {},
   "source": [
    "### Get the Best Model"
   ]
  },
  {
   "cell_type": "code",
   "execution_count": null,
   "metadata": {},
   "outputs": [],
   "source": [
    "sfs.get_metric_dict()[8]"
   ]
  },
  {
   "cell_type": "markdown",
   "metadata": {},
   "source": [
    "### LASSO and Ridge Regression"
   ]
  },
  {
   "cell_type": "code",
   "execution_count": 17,
   "metadata": {},
   "outputs": [
    {
     "name": "stdout",
     "output_type": "stream",
     "text": [
      "[-0.0832894   0.04954355 -0.0052532   0.         -0.          2.49821246\n",
      "  0.00360438 -0.93660469  0.27745115 -0.01544219 -0.75875211  0.00946855\n",
      " -0.6562895 ]\n",
      "32.52086096257654\n"
     ]
    }
   ],
   "source": [
    "# LASSO\n",
    "from sklearn import linear_model\n",
    "\n",
    "alpha = 0.5 # Increasing alpha can shrink more variable coefficients to 0\n",
    "clf = linear_model.Lasso(alpha=alpha)\n",
    "clf.fit(X, y)\n",
    "\n",
    "print(clf.coef_)\n",
    "\n",
    "print(clf.intercept_)\n",
    "\n"
   ]
  },
  {
   "cell_type": "code",
   "execution_count": 18,
   "metadata": {},
   "outputs": [
    {
     "name": "stdout",
     "output_type": "stream",
     "text": [
      "[-0.10143535  0.0495791  -0.0429624   1.95202082 -2.37161896  3.70227207\n",
      " -0.01070735 -1.24880821  0.2795956  -0.01399313 -0.79794498  0.01003684\n",
      " -0.55936642]\n",
      "27.4678849641412\n",
      "Sum of square of coefficients = 25.74\n"
     ]
    }
   ],
   "source": [
    "# Ridge Regression\n",
    "from sklearn import linear_model\n",
    "alpha = 10 \n",
    "clf = linear_model.Ridge(alpha=alpha)\n",
    "clf.fit(X, y)\n",
    "\n",
    "print(clf.coef_)\n",
    "\n",
    "print(clf.intercept_)\n",
    "\n",
    "import numpy as np\n",
    "# Increasing alpha can compress the L2 norm of the coefficients to 0 (but not selecting variables)\n",
    "print(\"Sum of square of coefficients = %.2f\"%np.sum(clf.coef_**2)) "
   ]
  },
  {
   "cell_type": "markdown",
   "metadata": {},
   "source": [
    "<div id=\"reminder\" style=\"border-radius: 5px; background-color:#f5f5f5; padding: 15px 5px; \" >\n",
    "<p>For additional practice, please see the Workshop notebooks.</p>\n",
    "</div>"
   ]
  }
 ],
 "metadata": {
  "anaconda-cloud": {},
  "kernelspec": {
   "display_name": "Python 3",
   "language": "python",
   "name": "python3"
  },
  "language_info": {
   "codemirror_mode": {
    "name": "ipython",
    "version": 3
   },
   "file_extension": ".py",
   "mimetype": "text/x-python",
   "name": "python",
   "nbconvert_exporter": "python",
   "pygments_lexer": "ipython3",
   "version": "3.6.5"
  }
 },
 "nbformat": 4,
 "nbformat_minor": 1
}
