{
 "cells": [
  {
   "cell_type": "markdown",
   "metadata": {},
   "source": [
    "Workplace Scenario\n",
    "A certain casino has contracted your team to determine if there are any patterns among their tables and patron attendance. They are not asking for prediction, just for a description of what is already there.\n",
    "\n",
    "Now that we have studied different plot types and their usefulness in determining what is available in the data. Use the Jitter Head Count data set to find and report on interesting relationships in the data.\n",
    "\n",
    "Jittered Head Count information:\n",
    "GameCode: 2 digit game code. \n",
    "BA: Baccarat\n",
    "C4: Blackjack variant\n",
    "CR: Craps\n",
    "DH: Blackjack variant\n",
    "FP: Four Card Poker\n",
    "LI: Let it Ride\n",
    "MI: Omaha Hi-Low\n",
    "MQ:  Blackjack variant\n",
    "MR: Mini-Baccarat\n",
    "MS: Mississippi Stud\n",
    "ND: Blackjack variant\n",
    "PA: Pai Gow Tiles\n",
    "PG: Pai Gow\n",
    "RO: Roulette\n",
    "RR: Electronic Roulette\n",
    "S6: Big Six\n",
    "SH: Blackjack variant\n",
    "TH: Blackjack variant\n",
    "TL: Blackjack variant\n",
    "TP: Texas Hold'em Poker\n",
    "UT: Ultimate Texas Hold'em\n",
    "WR: Casino War\n",
    "DateFormat: Date\n",
    "Hour: 0-23 of the day\n",
    "TabelsOcc:  Number of Tables Occupied in the casino\n",
    "TablesOpen: Number of tables open in the casino. This number can be different than occupied because the pit boss can open a table and no one can be sitting at it.\n",
    "Tables Closed: Number of tables closed in the casino.\n",
    "HeadCount: Total Count of people at the hour, day, and table type\n",
    "DayOfWeek: 1-7.  1 = Sunday, 7 = Saturday.\n",
    "DayNumber 1-366:  Day of year.  Not really needed, but note that the dates start in September.\n",
    " \n",
    "\n",
    "Instructions\n",
    "Using the Jitter Head Count data set, create a new notebook or use Studentname-M01-Vizualization.ipynb to find and report on interesting relationships in the data as follows:\n",
    "\n",
    "Create different complementary views of data by applying multiple chart types and aesthetics.\n",
    "Project multiple dimensions using conditioning or faceting (e.g. small multiples) on both categorical and numeric variables."
   ]
  },
  {
   "cell_type": "code",
   "execution_count": 2,
   "metadata": {},
   "outputs": [],
   "source": [
    "import pandas as pd\n",
    "import numpy as np\n",
    "import matplotlib.pyplot as plt\n",
    "import seaborn as sns\n",
    "%matplotlib inline"
   ]
  },
  {
   "cell_type": "code",
   "execution_count": 3,
   "metadata": {},
   "outputs": [],
   "source": [
    "#import csv\n",
    "casino = pd.read_csv('JitteredHeadCount.csv')\n",
    "casino.loc[:, 'date'] = pd.to_datetime(casino.loc[:, 'DateFormat'])\n",
    "casino.set_index('DateFormat', inplace = True)"
   ]
  },
  {
   "cell_type": "code",
   "execution_count": 5,
   "metadata": {},
   "outputs": [
    {
     "data": {
      "text/html": [
       "<div>\n",
       "<style scoped>\n",
       "    .dataframe tbody tr th:only-of-type {\n",
       "        vertical-align: middle;\n",
       "    }\n",
       "\n",
       "    .dataframe tbody tr th {\n",
       "        vertical-align: top;\n",
       "    }\n",
       "\n",
       "    .dataframe thead th {\n",
       "        text-align: right;\n",
       "    }\n",
       "</style>\n",
       "<table border=\"1\" class=\"dataframe\">\n",
       "  <thead>\n",
       "    <tr style=\"text-align: right;\">\n",
       "      <th></th>\n",
       "      <th>GameCode</th>\n",
       "      <th>Hour</th>\n",
       "      <th>TablesOcc</th>\n",
       "      <th>TablesOpen</th>\n",
       "      <th>TablesClosed</th>\n",
       "      <th>HeadCount</th>\n",
       "      <th>DayOfWeek</th>\n",
       "      <th>DayNumber</th>\n",
       "      <th>date</th>\n",
       "    </tr>\n",
       "    <tr>\n",
       "      <th>DateFormat</th>\n",
       "      <th></th>\n",
       "      <th></th>\n",
       "      <th></th>\n",
       "      <th></th>\n",
       "      <th></th>\n",
       "      <th></th>\n",
       "      <th></th>\n",
       "      <th></th>\n",
       "      <th></th>\n",
       "    </tr>\n",
       "  </thead>\n",
       "  <tbody>\n",
       "    <tr>\n",
       "      <th>9/16/2011</th>\n",
       "      <td>BA</td>\n",
       "      <td>6</td>\n",
       "      <td>0</td>\n",
       "      <td>0</td>\n",
       "      <td>1</td>\n",
       "      <td>0</td>\n",
       "      <td>6</td>\n",
       "      <td>47</td>\n",
       "      <td>2011-09-16</td>\n",
       "    </tr>\n",
       "    <tr>\n",
       "      <th>9/16/2011</th>\n",
       "      <td>BA</td>\n",
       "      <td>7</td>\n",
       "      <td>0</td>\n",
       "      <td>0</td>\n",
       "      <td>1</td>\n",
       "      <td>0</td>\n",
       "      <td>6</td>\n",
       "      <td>47</td>\n",
       "      <td>2011-09-16</td>\n",
       "    </tr>\n",
       "    <tr>\n",
       "      <th>9/16/2011</th>\n",
       "      <td>BA</td>\n",
       "      <td>8</td>\n",
       "      <td>0</td>\n",
       "      <td>0</td>\n",
       "      <td>1</td>\n",
       "      <td>0</td>\n",
       "      <td>6</td>\n",
       "      <td>47</td>\n",
       "      <td>2011-09-16</td>\n",
       "    </tr>\n",
       "    <tr>\n",
       "      <th>9/16/2011</th>\n",
       "      <td>BA</td>\n",
       "      <td>9</td>\n",
       "      <td>0</td>\n",
       "      <td>0</td>\n",
       "      <td>1</td>\n",
       "      <td>0</td>\n",
       "      <td>6</td>\n",
       "      <td>47</td>\n",
       "      <td>2011-09-16</td>\n",
       "    </tr>\n",
       "    <tr>\n",
       "      <th>9/16/2011</th>\n",
       "      <td>BA</td>\n",
       "      <td>10</td>\n",
       "      <td>0</td>\n",
       "      <td>1</td>\n",
       "      <td>0</td>\n",
       "      <td>0</td>\n",
       "      <td>6</td>\n",
       "      <td>47</td>\n",
       "      <td>2011-09-16</td>\n",
       "    </tr>\n",
       "  </tbody>\n",
       "</table>\n",
       "</div>"
      ],
      "text/plain": [
       "           GameCode  Hour  TablesOcc  TablesOpen  TablesClosed  HeadCount  \\\n",
       "DateFormat                                                                  \n",
       "9/16/2011        BA     6          0           0             1          0   \n",
       "9/16/2011        BA     7          0           0             1          0   \n",
       "9/16/2011        BA     8          0           0             1          0   \n",
       "9/16/2011        BA     9          0           0             1          0   \n",
       "9/16/2011        BA    10          0           1             0          0   \n",
       "\n",
       "            DayOfWeek  DayNumber       date  \n",
       "DateFormat                                   \n",
       "9/16/2011           6         47 2011-09-16  \n",
       "9/16/2011           6         47 2011-09-16  \n",
       "9/16/2011           6         47 2011-09-16  \n",
       "9/16/2011           6         47 2011-09-16  \n",
       "9/16/2011           6         47 2011-09-16  "
      ]
     },
     "execution_count": 5,
     "metadata": {},
     "output_type": "execute_result"
    }
   ],
   "source": [
    "casino.head()"
   ]
  },
  {
   "cell_type": "code",
   "execution_count": 6,
   "metadata": {},
   "outputs": [
    {
     "data": {
      "text/html": [
       "<div>\n",
       "<style scoped>\n",
       "    .dataframe tbody tr th:only-of-type {\n",
       "        vertical-align: middle;\n",
       "    }\n",
       "\n",
       "    .dataframe tbody tr th {\n",
       "        vertical-align: top;\n",
       "    }\n",
       "\n",
       "    .dataframe thead th {\n",
       "        text-align: right;\n",
       "    }\n",
       "</style>\n",
       "<table border=\"1\" class=\"dataframe\">\n",
       "  <thead>\n",
       "    <tr style=\"text-align: right;\">\n",
       "      <th></th>\n",
       "      <th>Hour</th>\n",
       "      <th>TablesOcc</th>\n",
       "      <th>TablesOpen</th>\n",
       "      <th>TablesClosed</th>\n",
       "      <th>HeadCount</th>\n",
       "      <th>DayOfWeek</th>\n",
       "      <th>DayNumber</th>\n",
       "    </tr>\n",
       "  </thead>\n",
       "  <tbody>\n",
       "    <tr>\n",
       "      <th>count</th>\n",
       "      <td>175677.000000</td>\n",
       "      <td>175677.000000</td>\n",
       "      <td>175677.000000</td>\n",
       "      <td>175677.000000</td>\n",
       "      <td>175677.000000</td>\n",
       "      <td>175677.000000</td>\n",
       "      <td>175677.000000</td>\n",
       "    </tr>\n",
       "    <tr>\n",
       "      <th>mean</th>\n",
       "      <td>11.504431</td>\n",
       "      <td>2.074591</td>\n",
       "      <td>2.555804</td>\n",
       "      <td>1.853430</td>\n",
       "      <td>7.390228</td>\n",
       "      <td>3.992953</td>\n",
       "      <td>183.434303</td>\n",
       "    </tr>\n",
       "    <tr>\n",
       "      <th>std</th>\n",
       "      <td>6.922330</td>\n",
       "      <td>3.307518</td>\n",
       "      <td>3.673229</td>\n",
       "      <td>2.993767</td>\n",
       "      <td>12.458613</td>\n",
       "      <td>1.997989</td>\n",
       "      <td>105.702167</td>\n",
       "    </tr>\n",
       "    <tr>\n",
       "      <th>min</th>\n",
       "      <td>0.000000</td>\n",
       "      <td>0.000000</td>\n",
       "      <td>0.000000</td>\n",
       "      <td>0.000000</td>\n",
       "      <td>0.000000</td>\n",
       "      <td>1.000000</td>\n",
       "      <td>1.000000</td>\n",
       "    </tr>\n",
       "    <tr>\n",
       "      <th>25%</th>\n",
       "      <td>6.000000</td>\n",
       "      <td>0.000000</td>\n",
       "      <td>1.000000</td>\n",
       "      <td>0.000000</td>\n",
       "      <td>0.000000</td>\n",
       "      <td>2.000000</td>\n",
       "      <td>92.000000</td>\n",
       "    </tr>\n",
       "    <tr>\n",
       "      <th>50%</th>\n",
       "      <td>12.000000</td>\n",
       "      <td>1.000000</td>\n",
       "      <td>1.000000</td>\n",
       "      <td>1.000000</td>\n",
       "      <td>3.000000</td>\n",
       "      <td>4.000000</td>\n",
       "      <td>183.000000</td>\n",
       "    </tr>\n",
       "    <tr>\n",
       "      <th>75%</th>\n",
       "      <td>18.000000</td>\n",
       "      <td>2.000000</td>\n",
       "      <td>3.000000</td>\n",
       "      <td>3.000000</td>\n",
       "      <td>8.000000</td>\n",
       "      <td>6.000000</td>\n",
       "      <td>275.000000</td>\n",
       "    </tr>\n",
       "    <tr>\n",
       "      <th>max</th>\n",
       "      <td>23.000000</td>\n",
       "      <td>24.000000</td>\n",
       "      <td>24.000000</td>\n",
       "      <td>23.000000</td>\n",
       "      <td>109.000000</td>\n",
       "      <td>7.000000</td>\n",
       "      <td>366.000000</td>\n",
       "    </tr>\n",
       "  </tbody>\n",
       "</table>\n",
       "</div>"
      ],
      "text/plain": [
       "                Hour      TablesOcc     TablesOpen   TablesClosed  \\\n",
       "count  175677.000000  175677.000000  175677.000000  175677.000000   \n",
       "mean       11.504431       2.074591       2.555804       1.853430   \n",
       "std         6.922330       3.307518       3.673229       2.993767   \n",
       "min         0.000000       0.000000       0.000000       0.000000   \n",
       "25%         6.000000       0.000000       1.000000       0.000000   \n",
       "50%        12.000000       1.000000       1.000000       1.000000   \n",
       "75%        18.000000       2.000000       3.000000       3.000000   \n",
       "max        23.000000      24.000000      24.000000      23.000000   \n",
       "\n",
       "           HeadCount      DayOfWeek      DayNumber  \n",
       "count  175677.000000  175677.000000  175677.000000  \n",
       "mean        7.390228       3.992953     183.434303  \n",
       "std        12.458613       1.997989     105.702167  \n",
       "min         0.000000       1.000000       1.000000  \n",
       "25%         0.000000       2.000000      92.000000  \n",
       "50%         3.000000       4.000000     183.000000  \n",
       "75%         8.000000       6.000000     275.000000  \n",
       "max       109.000000       7.000000     366.000000  "
      ]
     },
     "execution_count": 6,
     "metadata": {},
     "output_type": "execute_result"
    }
   ],
   "source": [
    "#understand the data\n",
    "casino.describe()"
   ]
  },
  {
   "cell_type": "code",
   "execution_count": 7,
   "metadata": {},
   "outputs": [
    {
     "name": "stdout",
     "output_type": "stream",
     "text": [
      "(175677, 9)\n",
      "GameCode                object\n",
      "Hour                     int64\n",
      "TablesOcc                int64\n",
      "TablesOpen               int64\n",
      "TablesClosed             int64\n",
      "HeadCount                int64\n",
      "DayOfWeek                int64\n",
      "DayNumber                int64\n",
      "date            datetime64[ns]\n",
      "dtype: object\n"
     ]
    }
   ],
   "source": [
    "#check data shape and types\n",
    "print(casino.shape)\n",
    "print(casino.dtypes)"
   ]
  },
  {
   "cell_type": "code",
   "execution_count": 8,
   "metadata": {},
   "outputs": [
    {
     "data": {
      "text/plain": [
       "Index(['GameCode', 'Hour', 'TablesOcc', 'TablesOpen', 'TablesClosed',\n",
       "       'HeadCount', 'DayOfWeek', 'DayNumber', 'date'],\n",
       "      dtype='object')"
      ]
     },
     "execution_count": 8,
     "metadata": {},
     "output_type": "execute_result"
    }
   ],
   "source": [
    "#print name of columns. This is helpful to quickly use column names\n",
    "casino.columns"
   ]
  },
  {
   "cell_type": "code",
   "execution_count": 9,
   "metadata": {},
   "outputs": [
    {
     "data": {
      "text/html": [
       "<div>\n",
       "<style scoped>\n",
       "    .dataframe tbody tr th:only-of-type {\n",
       "        vertical-align: middle;\n",
       "    }\n",
       "\n",
       "    .dataframe tbody tr th {\n",
       "        vertical-align: top;\n",
       "    }\n",
       "\n",
       "    .dataframe thead th {\n",
       "        text-align: right;\n",
       "    }\n",
       "</style>\n",
       "<table border=\"1\" class=\"dataframe\">\n",
       "  <thead>\n",
       "    <tr style=\"text-align: right;\">\n",
       "      <th></th>\n",
       "      <th>GameCode</th>\n",
       "      <th>Hour</th>\n",
       "      <th>TablesOcc</th>\n",
       "      <th>TablesOpen</th>\n",
       "      <th>TablesClosed</th>\n",
       "      <th>HeadCount</th>\n",
       "      <th>DayOfWeek</th>\n",
       "      <th>DayNumber</th>\n",
       "      <th>date</th>\n",
       "    </tr>\n",
       "    <tr>\n",
       "      <th>DateFormat</th>\n",
       "      <th></th>\n",
       "      <th></th>\n",
       "      <th></th>\n",
       "      <th></th>\n",
       "      <th></th>\n",
       "      <th></th>\n",
       "      <th></th>\n",
       "      <th></th>\n",
       "      <th></th>\n",
       "    </tr>\n",
       "  </thead>\n",
       "  <tbody>\n",
       "    <tr>\n",
       "      <th>9/16/2011</th>\n",
       "      <td>BA</td>\n",
       "      <td>6</td>\n",
       "      <td>0</td>\n",
       "      <td>0</td>\n",
       "      <td>1</td>\n",
       "      <td>0</td>\n",
       "      <td>6</td>\n",
       "      <td>47</td>\n",
       "      <td>2011-09-16</td>\n",
       "    </tr>\n",
       "    <tr>\n",
       "      <th>9/16/2011</th>\n",
       "      <td>BA</td>\n",
       "      <td>7</td>\n",
       "      <td>0</td>\n",
       "      <td>0</td>\n",
       "      <td>1</td>\n",
       "      <td>0</td>\n",
       "      <td>6</td>\n",
       "      <td>47</td>\n",
       "      <td>2011-09-16</td>\n",
       "    </tr>\n",
       "    <tr>\n",
       "      <th>9/16/2011</th>\n",
       "      <td>BA</td>\n",
       "      <td>8</td>\n",
       "      <td>0</td>\n",
       "      <td>0</td>\n",
       "      <td>1</td>\n",
       "      <td>0</td>\n",
       "      <td>6</td>\n",
       "      <td>47</td>\n",
       "      <td>2011-09-16</td>\n",
       "    </tr>\n",
       "    <tr>\n",
       "      <th>9/16/2011</th>\n",
       "      <td>BA</td>\n",
       "      <td>9</td>\n",
       "      <td>0</td>\n",
       "      <td>0</td>\n",
       "      <td>1</td>\n",
       "      <td>0</td>\n",
       "      <td>6</td>\n",
       "      <td>47</td>\n",
       "      <td>2011-09-16</td>\n",
       "    </tr>\n",
       "    <tr>\n",
       "      <th>9/16/2011</th>\n",
       "      <td>BA</td>\n",
       "      <td>10</td>\n",
       "      <td>0</td>\n",
       "      <td>1</td>\n",
       "      <td>0</td>\n",
       "      <td>0</td>\n",
       "      <td>6</td>\n",
       "      <td>47</td>\n",
       "      <td>2011-09-16</td>\n",
       "    </tr>\n",
       "    <tr>\n",
       "      <th>9/16/2011</th>\n",
       "      <td>BA</td>\n",
       "      <td>11</td>\n",
       "      <td>0</td>\n",
       "      <td>1</td>\n",
       "      <td>0</td>\n",
       "      <td>0</td>\n",
       "      <td>6</td>\n",
       "      <td>47</td>\n",
       "      <td>2011-09-16</td>\n",
       "    </tr>\n",
       "    <tr>\n",
       "      <th>9/16/2011</th>\n",
       "      <td>BA</td>\n",
       "      <td>12</td>\n",
       "      <td>0</td>\n",
       "      <td>1</td>\n",
       "      <td>0</td>\n",
       "      <td>0</td>\n",
       "      <td>6</td>\n",
       "      <td>47</td>\n",
       "      <td>2011-09-16</td>\n",
       "    </tr>\n",
       "    <tr>\n",
       "      <th>9/16/2011</th>\n",
       "      <td>BA</td>\n",
       "      <td>13</td>\n",
       "      <td>0</td>\n",
       "      <td>1</td>\n",
       "      <td>0</td>\n",
       "      <td>0</td>\n",
       "      <td>6</td>\n",
       "      <td>47</td>\n",
       "      <td>2011-09-16</td>\n",
       "    </tr>\n",
       "    <tr>\n",
       "      <th>9/16/2011</th>\n",
       "      <td>BA</td>\n",
       "      <td>14</td>\n",
       "      <td>0</td>\n",
       "      <td>1</td>\n",
       "      <td>0</td>\n",
       "      <td>0</td>\n",
       "      <td>6</td>\n",
       "      <td>47</td>\n",
       "      <td>2011-09-16</td>\n",
       "    </tr>\n",
       "    <tr>\n",
       "      <th>9/16/2011</th>\n",
       "      <td>BA</td>\n",
       "      <td>15</td>\n",
       "      <td>0</td>\n",
       "      <td>1</td>\n",
       "      <td>0</td>\n",
       "      <td>0</td>\n",
       "      <td>6</td>\n",
       "      <td>47</td>\n",
       "      <td>2011-09-16</td>\n",
       "    </tr>\n",
       "  </tbody>\n",
       "</table>\n",
       "</div>"
      ],
      "text/plain": [
       "           GameCode  Hour  TablesOcc  TablesOpen  TablesClosed  HeadCount  \\\n",
       "DateFormat                                                                  \n",
       "9/16/2011        BA     6          0           0             1          0   \n",
       "9/16/2011        BA     7          0           0             1          0   \n",
       "9/16/2011        BA     8          0           0             1          0   \n",
       "9/16/2011        BA     9          0           0             1          0   \n",
       "9/16/2011        BA    10          0           1             0          0   \n",
       "9/16/2011        BA    11          0           1             0          0   \n",
       "9/16/2011        BA    12          0           1             0          0   \n",
       "9/16/2011        BA    13          0           1             0          0   \n",
       "9/16/2011        BA    14          0           1             0          0   \n",
       "9/16/2011        BA    15          0           1             0          0   \n",
       "\n",
       "            DayOfWeek  DayNumber       date  \n",
       "DateFormat                                   \n",
       "9/16/2011           6         47 2011-09-16  \n",
       "9/16/2011           6         47 2011-09-16  \n",
       "9/16/2011           6         47 2011-09-16  \n",
       "9/16/2011           6         47 2011-09-16  \n",
       "9/16/2011           6         47 2011-09-16  \n",
       "9/16/2011           6         47 2011-09-16  \n",
       "9/16/2011           6         47 2011-09-16  \n",
       "9/16/2011           6         47 2011-09-16  \n",
       "9/16/2011           6         47 2011-09-16  \n",
       "9/16/2011           6         47 2011-09-16  "
      ]
     },
     "execution_count": 9,
     "metadata": {},
     "output_type": "execute_result"
    }
   ],
   "source": [
    "#understand first 10 rows of data\n",
    "casino.head(10)"
   ]
  },
  {
   "cell_type": "code",
   "execution_count": 10,
   "metadata": {},
   "outputs": [],
   "source": [
    "# pd.plotting.scatter_matrix(casino, figsize=(15, 15))\n",
    "# plt.show()"
   ]
  },
  {
   "cell_type": "markdown",
   "metadata": {},
   "source": [
    "**Time series**"
   ]
  },
  {
   "cell_type": "code",
   "execution_count": 11,
   "metadata": {},
   "outputs": [],
   "source": [
    "# ax = plt.figure(figsize=(8, 6)).gca() # define axis\n",
    "# casino.plot(ax = ax)\n",
    "# ax.set_xlabel('DateFormat')\n",
    "# ax.set_ylabel('Number of sunspots')\n",
    "# ax.set_title('Time series of sunspots')"
   ]
  },
  {
   "cell_type": "markdown",
   "metadata": {},
   "source": [
    "**Open vs. Occupied** - consider size "
   ]
  },
  {
   "cell_type": "code",
   "execution_count": 23,
   "metadata": {},
   "outputs": [
    {
     "data": {
      "text/plain": [
       "Text(0,0.5,'Tables Occupied')"
      ]
     },
     "execution_count": 23,
     "metadata": {},
     "output_type": "execute_result"
    },
    {
     "data": {
      "image/png": "[encoded data removed]",
      "text/plain": [
       "<Figure size 432x432 with 1 Axes>"
      ]
     },
     "metadata": {},
     "output_type": "display_data"
    }
   ],
   "source": [
    "#KEEP\n",
    "ax = plt.figure(figsize=(6,6)).gca()\n",
    "casino.plot.scatter(x = 'TablesOpen', y = 'TablesOcc', ax = ax, alpha = 0.003)\n",
    "ax.set_title('Tables Open vs. Tables Occupied')\n",
    "ax.set_xlabel('Tables Open')\n",
    "ax.set_ylabel('Tables Occupied')"
   ]
  },
  {
   "cell_type": "code",
   "execution_count": null,
   "metadata": {},
   "outputs": [],
   "source": []
  },
  {
   "cell_type": "code",
   "execution_count": 13,
   "metadata": {},
   "outputs": [],
   "source": [
    "#DROP\n",
    "# ax = plt.figure(figsize=(7, 7)).gca() # define axis\n",
    "# casino.plot.hexbin(x = 'TablesOcc', y = 'HeadCount', ax = ax)\n",
    "# ax.set_xlabel('Date')\n",
    "# ax.set_ylabel('Number of sunspots')\n",
    "# ax.set_title('Time series of sunspots')"
   ]
  },
  {
   "cell_type": "markdown",
   "metadata": {},
   "source": [
    "**Tables open, occupied over time**"
   ]
  },
  {
   "cell_type": "markdown",
   "metadata": {},
   "source": [
    "**Tables Occ vs. Headcount**"
   ]
  },
  {
   "cell_type": "code",
   "execution_count": 14,
   "metadata": {},
   "outputs": [],
   "source": [
    "#Keep\n",
    "# ax = plt.figure(figsize=(6,6)).gca()\n",
    "# casino.plot.scatter(x = 'TablesOcc', y = 'HeadCount', ax = ax, alpha = 0.002)\n",
    "# ax.set_title('Headcount vs. Tables Occupied')\n",
    "# ax.set_xlabel('Tables Occupied')\n",
    "# ax.set_ylabel('Headcount')"
   ]
  },
  {
   "cell_type": "code",
   "execution_count": 15,
   "metadata": {},
   "outputs": [],
   "source": [
    "# import seaborn as sns\n",
    "# ax = sns.kdeplot(auto_price.loc[:, ['city-mpg', 'price']], shade = True, cmap = 'PuBu')\n",
    "# auto_price.plot.scatter(x = 'city-mpg', y = 'price', ax = ax)\n",
    "# ax.set_title('Auto price vs city MPG') # Give the plot a main title\n",
    "# ax.set_ylabel('Auto Price')# Set text for y axis\n",
    "# ax.set_xlabel('City MPG')"
   ]
  },
  {
   "cell_type": "markdown",
   "metadata": {},
   "source": [
    "**Headcount vs. Hour**"
   ]
  },
  {
   "cell_type": "code",
   "execution_count": 41,
   "metadata": {},
   "outputs": [],
   "source": [
    "#casino['counts'] = 1"
   ]
  },
  {
   "cell_type": "code",
   "execution_count": 24,
   "metadata": {},
   "outputs": [
    {
     "data": {
      "text/plain": [
       "Text(0,0.5,'Headcount')"
      ]
     },
     "execution_count": 24,
     "metadata": {},
     "output_type": "execute_result"
    },
    {
     "data": {
      "image/png": "[encoded data removed]",
      "text/plain": [
       "<Figure size 432x432 with 1 Axes>"
      ]
     },
     "metadata": {},
     "output_type": "display_data"
    }
   ],
   "source": [
    "#Keep\n",
    "ax = plt.figure(figsize=(6,6)).gca()\n",
    "casino.plot.scatter(x = 'Hour', y = 'HeadCount', ax = ax, alpha = .1)\n",
    "ax.set_title('Headcount vs. Hour')\n",
    "ax.set_xlabel('Hour')\n",
    "ax.set_ylabel('Headcount')"
   ]
  },
  {
   "cell_type": "code",
   "execution_count": 47,
   "metadata": {},
   "outputs": [
    {
     "data": {
      "text/plain": [
       "Text(0,0.5,'Headcount')"
      ]
     },
     "execution_count": 47,
     "metadata": {},
     "output_type": "execute_result"
    },
    {
     "data": {
      "image/png": "[encoded data removed]",
      "text/plain": [
       "<Figure size 432x432 with 1 Axes>"
      ]
     },
     "metadata": {},
     "output_type": "display_data"
    }
   ],
   "source": [
    "#NEEDS Work\n",
    "ax = plt.figure(figsize=(6,6)).gca()\n",
    "casino.plot.scatter(x = 'DayOfWeek', y = 'HeadCount', ax = ax, alpha = .01)\n",
    "ax.set_title('Headcount vs. DayOfWeek')\n",
    "ax.set_xlabel('Day')\n",
    "ax.set_ylabel('Headcount')"
   ]
  },
  {
   "cell_type": "markdown",
   "metadata": {},
   "source": [
    "**headcount by day of week**"
   ]
  },
  {
   "cell_type": "code",
   "execution_count": null,
   "metadata": {},
   "outputs": [],
   "source": [
    "sns.lmplot(x = 'TablesOccu', y = 'HeadCount', \n",
    "           data = auto_price, \n",
    "           hue = \"fuel-type\", \n",
    "           palette=\"seismic\", \n",
    "           scatter_kws={'alpha':0.3, \n",
    "                        's': auto_price.loc[:, 'engine-size']},\n",
    "           fit_reg = False)\n",
    "plt.xlabel('City MPG')\n",
    "plt.ylabel('Auto Price')\n",
    "plt.title('Auto Price vs. City MPG \\n with fuel type by color \\n with engine size as marker size')"
   ]
  },
  {
   "cell_type": "markdown",
   "metadata": {},
   "source": [
    "**headcount, tablesopen, game** - where are people playing? - consider add shape, size"
   ]
  },
  {
   "cell_type": "code",
   "execution_count": 21,
   "metadata": {},
   "outputs": [],
   "source": [
    "#Drop - too many colors\n",
    "# sns.lmplot(x = 'TablesOpen', y = 'HeadCount', \n",
    "#        data = casino, \n",
    "#        hue = \"GameCode\", \n",
    "#        palette=\"seismic\", \n",
    "#        scatter_kws={'alpha':0.003},\n",
    "#        fit_reg = False)\n",
    "# plt.xlabel('TablesOpen')\n",
    "# plt.ylabel('HeadCount')\n",
    "# plt.title('Auto Price vs. City MPG \\n with fuel type by color')"
   ]
  },
  {
   "cell_type": "markdown",
   "metadata": {},
   "source": [
    "**Tables open by hour** - does this align to headcount?"
   ]
  },
  {
   "cell_type": "code",
   "execution_count": 49,
   "metadata": {},
   "outputs": [
    {
     "ename": "IndexError",
     "evalue": "index -1 is out of bounds for axis 0 with size 0",
     "output_type": "error",
     "traceback": [
      "\u001b[0;31m---------------------------------------------------------------------------\u001b[0m",
      "\u001b[0;31mIndexError\u001b[0m                                Traceback (most recent call last)",
      "\u001b[0;32m<ipython-input-49-ad5ae287279d>\u001b[0m in \u001b[0;36m<module>\u001b[0;34m()\u001b[0m\n\u001b[1;32m      2\u001b[0m sns.pairplot(casino.loc[:, num_cols], hue='GameCode', \n\u001b[1;32m      3\u001b[0m              \u001b[0mpalette\u001b[0m\u001b[0;34m=\u001b[0m\u001b[0;34m\"seismic\"\u001b[0m\u001b[0;34m,\u001b[0m \u001b[0mdiag_kind\u001b[0m\u001b[0;34m=\u001b[0m\u001b[0;34m\"kde\"\u001b[0m\u001b[0;34m,\u001b[0m\u001b[0;34m\u001b[0m\u001b[0m\n\u001b[0;32m----> 4\u001b[0;31m              size=2).map_upper(sns.kdeplot, cmap=\"Blues\")\n\u001b[0m",
      "\u001b[0;32m/anaconda3/lib/python3.6/site-packages/seaborn/axisgrid.py\u001b[0m in \u001b[0;36mpairplot\u001b[0;34m(data, hue, hue_order, palette, vars, x_vars, y_vars, kind, diag_kind, markers, size, aspect, dropna, plot_kws, diag_kws, grid_kws)\u001b[0m\n\u001b[1;32m   2039\u001b[0m                     \u001b[0mhue_order\u001b[0m\u001b[0;34m=\u001b[0m\u001b[0mhue_order\u001b[0m\u001b[0;34m,\u001b[0m \u001b[0mpalette\u001b[0m\u001b[0;34m=\u001b[0m\u001b[0mpalette\u001b[0m\u001b[0;34m,\u001b[0m\u001b[0;34m\u001b[0m\u001b[0m\n\u001b[1;32m   2040\u001b[0m                     \u001b[0mdiag_sharey\u001b[0m\u001b[0;34m=\u001b[0m\u001b[0mdiag_sharey\u001b[0m\u001b[0;34m,\u001b[0m\u001b[0;34m\u001b[0m\u001b[0m\n\u001b[0;32m-> 2041\u001b[0;31m                     size=size, aspect=aspect, dropna=dropna, **grid_kws)\n\u001b[0m\u001b[1;32m   2042\u001b[0m \u001b[0;34m\u001b[0m\u001b[0m\n\u001b[1;32m   2043\u001b[0m     \u001b[0;31m# Add the markers here as PairGrid has figured out how many levels of the\u001b[0m\u001b[0;34m\u001b[0m\u001b[0;34m\u001b[0m\u001b[0m\n",
      "\u001b[0;32m/anaconda3/lib/python3.6/site-packages/seaborn/axisgrid.py\u001b[0m in \u001b[0;36m__init__\u001b[0;34m(self, data, hue, hue_order, palette, hue_kws, vars, x_vars, y_vars, diag_sharey, size, aspect, despine, dropna)\u001b[0m\n\u001b[1;32m   1243\u001b[0m \u001b[0;34m\u001b[0m\u001b[0m\n\u001b[1;32m   1244\u001b[0m         \u001b[0;31m# Label the axes\u001b[0m\u001b[0;34m\u001b[0m\u001b[0;34m\u001b[0m\u001b[0m\n\u001b[0;32m-> 1245\u001b[0;31m         \u001b[0mself\u001b[0m\u001b[0;34m.\u001b[0m\u001b[0m_add_axis_labels\u001b[0m\u001b[0;34m(\u001b[0m\u001b[0;34m)\u001b[0m\u001b[0;34m\u001b[0m\u001b[0m\n\u001b[0m\u001b[1;32m   1246\u001b[0m \u001b[0;34m\u001b[0m\u001b[0m\n\u001b[1;32m   1247\u001b[0m         \u001b[0;31m# Sort out the hue variable\u001b[0m\u001b[0;34m\u001b[0m\u001b[0;34m\u001b[0m\u001b[0m\n",
      "\u001b[0;32m/anaconda3/lib/python3.6/site-packages/seaborn/axisgrid.py\u001b[0m in \u001b[0;36m_add_axis_labels\u001b[0;34m(self)\u001b[0m\n\u001b[1;32m   1497\u001b[0m     \u001b[0;32mdef\u001b[0m \u001b[0m_add_axis_labels\u001b[0m\u001b[0;34m(\u001b[0m\u001b[0mself\u001b[0m\u001b[0;34m)\u001b[0m\u001b[0;34m:\u001b[0m\u001b[0;34m\u001b[0m\u001b[0m\n\u001b[1;32m   1498\u001b[0m         \u001b[0;34m\"\"\"Add labels to the left and bottom Axes.\"\"\"\u001b[0m\u001b[0;34m\u001b[0m\u001b[0m\n\u001b[0;32m-> 1499\u001b[0;31m         \u001b[0;32mfor\u001b[0m \u001b[0max\u001b[0m\u001b[0;34m,\u001b[0m \u001b[0mlabel\u001b[0m \u001b[0;32min\u001b[0m \u001b[0mzip\u001b[0m\u001b[0;34m(\u001b[0m\u001b[0mself\u001b[0m\u001b[0;34m.\u001b[0m\u001b[0maxes\u001b[0m\u001b[0;34m[\u001b[0m\u001b[0;34m-\u001b[0m\u001b[0;36m1\u001b[0m\u001b[0;34m,\u001b[0m \u001b[0;34m:\u001b[0m\u001b[0;34m]\u001b[0m\u001b[0;34m,\u001b[0m \u001b[0mself\u001b[0m\u001b[0;34m.\u001b[0m\u001b[0mx_vars\u001b[0m\u001b[0;34m)\u001b[0m\u001b[0;34m:\u001b[0m\u001b[0;34m\u001b[0m\u001b[0m\n\u001b[0m\u001b[1;32m   1500\u001b[0m             \u001b[0max\u001b[0m\u001b[0;34m.\u001b[0m\u001b[0mset_xlabel\u001b[0m\u001b[0;34m(\u001b[0m\u001b[0mlabel\u001b[0m\u001b[0;34m)\u001b[0m\u001b[0;34m\u001b[0m\u001b[0m\n\u001b[1;32m   1501\u001b[0m         \u001b[0;32mfor\u001b[0m \u001b[0max\u001b[0m\u001b[0;34m,\u001b[0m \u001b[0mlabel\u001b[0m \u001b[0;32min\u001b[0m \u001b[0mzip\u001b[0m\u001b[0;34m(\u001b[0m\u001b[0mself\u001b[0m\u001b[0;34m.\u001b[0m\u001b[0maxes\u001b[0m\u001b[0;34m[\u001b[0m\u001b[0;34m:\u001b[0m\u001b[0;34m,\u001b[0m \u001b[0;36m0\u001b[0m\u001b[0;34m]\u001b[0m\u001b[0;34m,\u001b[0m \u001b[0mself\u001b[0m\u001b[0;34m.\u001b[0m\u001b[0my_vars\u001b[0m\u001b[0;34m)\u001b[0m\u001b[0;34m:\u001b[0m\u001b[0;34m\u001b[0m\u001b[0m\n",
      "\u001b[0;31mIndexError\u001b[0m: index -1 is out of bounds for axis 0 with size 0"
     ]
    },
    {
     "data": {
      "text/plain": [
       "<Figure size 0x0 with 0 Axes>"
      ]
     },
     "metadata": {},
     "output_type": "display_data"
    }
   ],
   "source": [
    "num_cols = [\"GameCode\"] \n",
    "sns.pairplot(casino.loc[:, num_cols], hue='GameCode', \n",
    "             palette=\"seismic\", diag_kind=\"kde\", \n",
    "             size=2).map_upper(sns.kdeplot, cmap=\"Blues\")"
   ]
  },
  {
   "cell_type": "code",
   "execution_count": null,
   "metadata": {},
   "outputs": [],
   "source": [
    "#Table Occupany by table type and time - Usage"
   ]
  },
  {
   "cell_type": "code",
   "execution_count": null,
   "metadata": {},
   "outputs": [],
   "source": [
    "#If tables are open, are they occupied - "
   ]
  },
  {
   "cell_type": "markdown",
   "metadata": {},
   "source": [
    "### FACET GRID"
   ]
  },
  {
   "cell_type": "code",
   "execution_count": null,
   "metadata": {},
   "outputs": [],
   "source": [
    "#Busiest table types - count - facet plot?"
   ]
  },
  {
   "cell_type": "code",
   "execution_count": 22,
   "metadata": {},
   "outputs": [
    {
     "data": {
      "text/plain": [
       "DateFormat\n",
       "9/16/2011    0\n",
       "9/16/2011    0\n",
       "9/16/2011    0\n",
       "9/16/2011    0\n",
       "9/16/2011    0\n",
       "9/16/2011    0\n",
       "9/16/2011    0\n",
       "9/16/2011    0\n",
       "9/16/2011    0\n",
       "9/16/2011    0\n",
       "Name: HeadCount_bin, dtype: category\n",
       "Categories (20, int64): [0 < 1 < 2 < 3 ... 16 < 17 < 18 < 19]"
      ]
     },
     "execution_count": 22,
     "metadata": {},
     "output_type": "execute_result"
    }
   ],
   "source": [
    "casino.loc[:, 'HeadCount_bin'] = pd.cut(casino.loc[:, 'HeadCount'], bins = 20, labels = range(20))\n",
    "casino.loc[:, 'HeadCount_bin'].head(10)"
   ]
  },
  {
   "cell_type": "code",
   "execution_count": 23,
   "metadata": {},
   "outputs": [
    {
     "name": "stdout",
     "output_type": "stream",
     "text": [
      "GameCode             BA        C4        CR        DH        FP        LI  \\\n",
      "HeadCount_bin                                                               \n",
      "0              0.940678  0.837434  0.172818  0.458761  0.256778  0.413990   \n",
      "2              0.033898  0.158237  0.126111  0.349168  0.226361  0.255981   \n",
      "1              0.025424  0.004329  0.137275  0.160287  0.248234  0.232171   \n",
      "9              0.000000  0.000000  0.110617  0.029620  0.163363  0.091707   \n",
      "11             0.000000  0.000000  0.128161  0.002165  0.096263  0.006152   \n",
      "8              0.000000  0.000000  0.088631  0.000000  0.009000  0.000000   \n",
      "4              0.000000  0.000000  0.078947  0.000000  0.000000  0.000000   \n",
      "3              0.000000  0.000000  0.051378  0.000000  0.000000  0.000000   \n",
      "7              0.000000  0.000000  0.040898  0.000000  0.000000  0.000000   \n",
      "5              0.000000  0.000000  0.026088  0.000000  0.000000  0.000000   \n",
      "\n",
      "GameCode             MI        MQ        MR        MS    ...           PG  \\\n",
      "HeadCount_bin                                            ...                \n",
      "0              0.836964  0.995785  0.675439  0.714286    ...     0.980519   \n",
      "2              0.157010  0.004215  0.263728  0.272109    ...     0.017316   \n",
      "1              0.006025  0.000000  0.056961  0.013605    ...     0.002165   \n",
      "9              0.000000  0.000000  0.003759  0.000000    ...     0.000000   \n",
      "11             0.000000  0.000000  0.000114  0.000000    ...     0.000000   \n",
      "8              0.000000  0.000000  0.000000  0.000000    ...     0.000000   \n",
      "4              0.000000  0.000000  0.000000  0.000000    ...     0.000000   \n",
      "3              0.000000  0.000000  0.000000  0.000000    ...     0.000000   \n",
      "7              0.000000  0.000000  0.000000  0.000000    ...     0.000000   \n",
      "5              0.000000  0.000000  0.000000  0.000000    ...     0.000000   \n",
      "\n",
      "GameCode             RO        RR        S6        SH        TH       TL  \\\n",
      "HeadCount_bin                                                              \n",
      "0              0.349966  0.811119  0.159945  0.385737  0.801549  0.98576   \n",
      "2              0.230576  0.170426  0.064707  0.259626  0.185805  0.01424   \n",
      "1              0.180337  0.018455  0.059125  0.183641  0.012645  0.00000   \n",
      "9              0.123832  0.000000  0.046480  0.099339  0.000000  0.00000   \n",
      "11             0.091023  0.000000  0.046936  0.050809  0.000000  0.00000   \n",
      "8              0.022898  0.000000  0.048872  0.014924  0.000000  0.00000   \n",
      "4              0.001367  0.000000  0.074960  0.005013  0.000000  0.00000   \n",
      "3              0.000000  0.000000  0.069834  0.000797  0.000000  0.00000   \n",
      "7              0.000000  0.000000  0.078833  0.000114  0.000000  0.00000   \n",
      "5              0.000000  0.000000  0.059695  0.000000  0.000000  0.00000   \n",
      "\n",
      "GameCode             TP        UT        WR  \n",
      "HeadCount_bin                                \n",
      "0              0.259512  0.787993  0.997835  \n",
      "2              0.112896  0.201754  0.002165  \n",
      "1              0.138300  0.010253  0.000000  \n",
      "9              0.119389  0.000000  0.000000  \n",
      "11             0.130668  0.000000  0.000000  \n",
      "8              0.079631  0.000000  0.000000  \n",
      "4              0.069036  0.000000  0.000000  \n",
      "3              0.041126  0.000000  0.000000  \n",
      "7              0.032581  0.000000  0.000000  \n",
      "5              0.010936  0.000000  0.000000  \n",
      "\n",
      "[10 rows x 22 columns]\n"
     ]
    }
   ],
   "source": [
    "gamecode_headcount = pd.crosstab(casino.loc[:, 'HeadCount_bin'], casino.loc[:, 'GameCode'])\n",
    "num_cars = gamecode_headcount.apply(sum, axis = 0)\n",
    "gamecode_headcount = gamecode_headcount.div(num_cars, axis = 1)\n",
    "print(gamecode_headcount.head(10))"
   ]
  },
  {
   "cell_type": "code",
   "execution_count": 24,
   "metadata": {},
   "outputs": [
    {
     "data": {
      "text/plain": [
       "Text(0.5,1,'HeadCount ranges of Gamecode')"
      ]
     },
     "execution_count": 24,
     "metadata": {},
     "output_type": "execute_result"
    },
    {
     "data": {
      "image/png": "[encoded data removed]",
      "text/plain": [
       "<Figure size 504x504 with 1 Axes>"
      ]
     },
     "metadata": {},
     "output_type": "display_data"
    }
   ],
   "source": [
    "ax = plt.figure(figsize=(7, 7)).gca() # define axis\n",
    "ax.pcolor(gamecode_headcount, cmap = 'Blues')\n",
    "ax.set_xticks(range(gamecode_headcount.shape[1]))\n",
    "ax.set_xticklabels(gamecode_headcount.columns, rotation=90)\n",
    "ax.set_xlabel('GameCode')\n",
    "ax.set_ylabel('HeadCount')\n",
    "ax.set_title('HeadCount ranges of Gamecode')"
   ]
  },
  {
   "cell_type": "code",
   "execution_count": 35,
   "metadata": {},
   "outputs": [],
   "source": [
    "games = ['CR', 'FP', 'LI', 'RO','S6','SH', 'TP']"
   ]
  },
  {
   "cell_type": "code",
   "execution_count": 37,
   "metadata": {},
   "outputs": [],
   "source": [
    "hc_gamecode = casino.loc[casino['GameCode'].isin(games)]"
   ]
  },
  {
   "cell_type": "code",
   "execution_count": 40,
   "metadata": {},
   "outputs": [
    {
     "data": {
      "image/png": "[encoded data removed]",
      "text/plain": [
       "<Figure size 1512x216 with 7 Axes>"
      ]
     },
     "metadata": {},
     "output_type": "display_data"
    }
   ],
   "source": [
    "gr = sns.FacetGrid(hc_gamecode, col='GameCode') \n",
    "gr = gr.map(plt.hist, \"HeadCount\")"
   ]
  },
  {
   "cell_type": "code",
   "execution_count": null,
   "metadata": {},
   "outputs": [],
   "source": [
    "In [76]: df['col2'] = df['col2'].astype('category')"
   ]
  }
 ],
 "metadata": {
  "kernelspec": {
   "display_name": "Python 3",
   "language": "python",
   "name": "python3"
  },
  "language_info": {
   "codemirror_mode": {
    "name": "ipython",
    "version": 3
   },
   "file_extension": ".py",
   "mimetype": "text/x-python",
   "name": "python",
   "nbconvert_exporter": "python",
   "pygments_lexer": "ipython3",
   "version": "3.6.5"
  }
 },
 "nbformat": 4,
 "nbformat_minor": 2
}
