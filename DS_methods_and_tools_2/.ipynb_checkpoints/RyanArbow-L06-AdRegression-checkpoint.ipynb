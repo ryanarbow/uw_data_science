{
 "cells": [
  {
   "cell_type": "code",
   "execution_count": 23,
   "metadata": {},
   "outputs": [],
   "source": [
    "import numpy as np\n",
    "import pandas as pd\n",
    "import matplotlib.pyplot as plt\n",
    "%matplotlib inline\n",
    "from sklearn import linear_model\n",
    "import statsmodels.formula.api as sm"
   ]
  },
  {
   "cell_type": "code",
   "execution_count": 24,
   "metadata": {},
   "outputs": [],
   "source": [
    "ad_data = pd.read_csv(\"Advertising.csv\", index_col=0)"
   ]
  },
  {
   "cell_type": "code",
   "execution_count": 25,
   "metadata": {},
   "outputs": [
    {
     "data": {
      "text/html": [
       "<div>\n",
       "<style scoped>\n",
       "    .dataframe tbody tr th:only-of-type {\n",
       "        vertical-align: middle;\n",
       "    }\n",
       "\n",
       "    .dataframe tbody tr th {\n",
       "        vertical-align: top;\n",
       "    }\n",
       "\n",
       "    .dataframe thead th {\n",
       "        text-align: right;\n",
       "    }\n",
       "</style>\n",
       "<table border=\"1\" class=\"dataframe\">\n",
       "  <thead>\n",
       "    <tr style=\"text-align: right;\">\n",
       "      <th></th>\n",
       "      <th>TV</th>\n",
       "      <th>radio</th>\n",
       "      <th>newspaper</th>\n",
       "      <th>sales</th>\n",
       "    </tr>\n",
       "  </thead>\n",
       "  <tbody>\n",
       "    <tr>\n",
       "      <th>1</th>\n",
       "      <td>230.1</td>\n",
       "      <td>37.8</td>\n",
       "      <td>69.2</td>\n",
       "      <td>22.1</td>\n",
       "    </tr>\n",
       "    <tr>\n",
       "      <th>2</th>\n",
       "      <td>44.5</td>\n",
       "      <td>39.3</td>\n",
       "      <td>45.1</td>\n",
       "      <td>10.4</td>\n",
       "    </tr>\n",
       "    <tr>\n",
       "      <th>3</th>\n",
       "      <td>17.2</td>\n",
       "      <td>45.9</td>\n",
       "      <td>69.3</td>\n",
       "      <td>9.3</td>\n",
       "    </tr>\n",
       "    <tr>\n",
       "      <th>4</th>\n",
       "      <td>151.5</td>\n",
       "      <td>41.3</td>\n",
       "      <td>58.5</td>\n",
       "      <td>18.5</td>\n",
       "    </tr>\n",
       "    <tr>\n",
       "      <th>5</th>\n",
       "      <td>180.8</td>\n",
       "      <td>10.8</td>\n",
       "      <td>58.4</td>\n",
       "      <td>12.9</td>\n",
       "    </tr>\n",
       "  </tbody>\n",
       "</table>\n",
       "</div>"
      ],
      "text/plain": [
       "      TV  radio  newspaper  sales\n",
       "1  230.1   37.8       69.2   22.1\n",
       "2   44.5   39.3       45.1   10.4\n",
       "3   17.2   45.9       69.3    9.3\n",
       "4  151.5   41.3       58.5   18.5\n",
       "5  180.8   10.8       58.4   12.9"
      ]
     },
     "execution_count": 25,
     "metadata": {},
     "output_type": "execute_result"
    }
   ],
   "source": [
    "ad_data.head()"
   ]
  },
  {
   "cell_type": "markdown",
   "metadata": {},
   "source": [
    "### 'TV': advertising dollars spent on TV ads for a single product in a given market."
   ]
  },
  {
   "cell_type": "code",
   "execution_count": 26,
   "metadata": {},
   "outputs": [
    {
     "data": {
      "text/plain": [
       "Text(0.5,1,'x vs y')"
      ]
     },
     "execution_count": 26,
     "metadata": {},
     "output_type": "execute_result"
    },
    {
     "data": {
      "image/png": "[encoded data removed]",
      "text/plain": [
       "<Figure size 432x288 with 1 Axes>"
      ]
     },
     "metadata": {},
     "output_type": "display_data"
    }
   ],
   "source": [
    "#Visualize data\n",
    "plt.plot(ad_data['TV'], ad_data['sales'], 'ko')\n",
    "plt.grid(True)\n",
    "plt.xlabel('x')\n",
    "plt.ylabel('y')\n",
    "plt.title('x vs y')"
   ]
  },
  {
   "cell_type": "code",
   "execution_count": 27,
   "metadata": {},
   "outputs": [
    {
     "name": "stdout",
     "output_type": "stream",
     "text": [
      "Intercept: 7.03259\n",
      "Slope : 0.04754\n"
     ]
    },
    {
     "data": {
      "image/png": "[encoded data removed]",
      "text/plain": [
       "<Figure size 432x288 with 1 Axes>"
      ]
     },
     "metadata": {},
     "output_type": "display_data"
    }
   ],
   "source": [
    "#Build model\n",
    "from sklearn import linear_model\n",
    "\n",
    "# get len of data for n_points\n",
    "n_points = len(ad_data['TV'])\n",
    "\n",
    "# First initialize the model.\n",
    "linear_model = linear_model.LinearRegression()\n",
    "\n",
    "# Fit the model to the data\n",
    "x_input = ad_data['TV'].values.reshape(n_points, 1)\n",
    "y_output = ad_data['sales'].values.reshape(n_points, 1)\n",
    "linear_model.fit(x_input, y_output)\n",
    "\n",
    "# Get predictions\n",
    "y_pred = linear_model.predict(x_input)\n",
    "\n",
    "# # Plot output\n",
    "plt.scatter(x_input, y_output)\n",
    "plt.plot(x_input, y_pred, linewidth=2)\n",
    "plt.grid(True)\n",
    "plt.xlabel('x')\n",
    "plt.ylabel('y')\n",
    "plt.title('x vs y')\n",
    "\n",
    "# # Print model parameters\n",
    "# # Get slope (m) and y-intercept (b)\n",
    "print('Intercept: {0:.5f}'.format(linear_model.intercept_[0]))\n",
    "print('Slope : {0:.5f}'.format(linear_model.coef_[0][0]))"
   ]
  },
  {
   "cell_type": "code",
   "execution_count": 28,
   "metadata": {},
   "outputs": [
    {
     "name": "stdout",
     "output_type": "stream",
     "text": [
      "Intercept: 7.03259\n",
      "Slope : 0.04754\n"
     ]
    }
   ],
   "source": [
    "#Compare with Stats Models package\n",
    "import statsmodels.formula.api as sm\n",
    "\n",
    "# Fit the model and get the linear model summaries/plots.\n",
    "x = ad_data['TV']\n",
    "y = ad_data['sales']\n",
    "ols5_model = sm.ols(formula='y ~ x', data = ad_data) # Use a simple formula and the data generated above\n",
    "\n",
    "\n",
    "tv_sales = ols5_model.fit()\n",
    "\n",
    "# Get slope (m) and y-intercept (b)\n",
    "print('Intercept: {0:.5f}'.format(tv_sales.params.Intercept))\n",
    "print('Slope : {0:.5f}'.format(tv_sales.params.x))"
   ]
  },
  {
   "cell_type": "markdown",
   "metadata": {},
   "source": [
    "### 'radio': advertising dollars spent radio ads"
   ]
  },
  {
   "cell_type": "code",
   "execution_count": 29,
   "metadata": {},
   "outputs": [
    {
     "data": {
      "text/plain": [
       "Text(0.5,1,'x vs y')"
      ]
     },
     "execution_count": 29,
     "metadata": {},
     "output_type": "execute_result"
    },
    {
     "data": {
      "image/png": "[encoded data removed]",
      "text/plain": [
       "<Figure size 432x288 with 1 Axes>"
      ]
     },
     "metadata": {},
     "output_type": "display_data"
    }
   ],
   "source": [
    "#Visualize data\n",
    "plt.plot(ad_data['radio'], ad_data['sales'], 'ko')\n",
    "plt.grid(True)\n",
    "plt.xlabel('x')\n",
    "plt.ylabel('y')\n",
    "plt.title('x vs y')"
   ]
  },
  {
   "cell_type": "code",
   "execution_count": 30,
   "metadata": {},
   "outputs": [
    {
     "name": "stdout",
     "output_type": "stream",
     "text": [
      "Intercept: 9.31164\n",
      "Slope : 0.20250\n"
     ]
    },
    {
     "data": {
      "image/png": "[encoded data removed]",
      "text/plain": [
       "<Figure size 432x288 with 1 Axes>"
      ]
     },
     "metadata": {},
     "output_type": "display_data"
    }
   ],
   "source": [
    "#Build model\n",
    "from sklearn import linear_model\n",
    "\n",
    "# get len of data for n_points\n",
    "n_points = len(ad_data['radio'])\n",
    "\n",
    "# First initialize the model.\n",
    "linear_model = linear_model.LinearRegression()\n",
    "\n",
    "# Fit the model to the data\n",
    "x_input = ad_data['radio'].values.reshape(n_points, 1)\n",
    "y_output = ad_data['sales'].values.reshape(n_points, 1)\n",
    "linear_model.fit(x_input, y_output)\n",
    "\n",
    "# Get predictions\n",
    "y_pred = linear_model.predict(x_input)\n",
    "\n",
    "# # Plot output\n",
    "plt.scatter(x_input, y_output)\n",
    "plt.plot(x_input, y_pred, linewidth=2)\n",
    "plt.grid(True)\n",
    "plt.xlabel('x')\n",
    "plt.ylabel('y')\n",
    "plt.title('x vs y')\n",
    "\n",
    "# # Print model parameters\n",
    "# # Get slope (m) and y-intercept (b)\n",
    "print('Intercept: {0:.5f}'.format(linear_model.intercept_[0]))\n",
    "print('Slope : {0:.5f}'.format(linear_model.coef_[0][0]))"
   ]
  },
  {
   "cell_type": "code",
   "execution_count": 31,
   "metadata": {},
   "outputs": [
    {
     "name": "stdout",
     "output_type": "stream",
     "text": [
      "Intercept: 9.31164\n",
      "Slope : 0.20250\n"
     ]
    }
   ],
   "source": [
    "#Compare with Stats Models package\n",
    "import statsmodels.formula.api as sm\n",
    "\n",
    "# Fit the model and get the linear model summaries/plots.\n",
    "x = ad_data['radio']\n",
    "y = ad_data['sales']\n",
    "ols5_model = sm.ols(formula='y ~ x', data = ad_data) # Use a simple formula and the data generated above\n",
    "\n",
    "\n",
    "tv_sales = ols5_model.fit()\n",
    "\n",
    "# Get slope (m) and y-intercept (b)\n",
    "print('Intercept: {0:.5f}'.format(tv_sales.params.Intercept))\n",
    "print('Slope : {0:.5f}'.format(tv_sales.params.x))"
   ]
  },
  {
   "cell_type": "markdown",
   "metadata": {},
   "source": [
    "### 'newspaper': advertising dollars spent on newspaper ads."
   ]
  },
  {
   "cell_type": "code",
   "execution_count": 32,
   "metadata": {},
   "outputs": [
    {
     "data": {
      "text/plain": [
       "Text(0.5,1,'x vs y')"
      ]
     },
     "execution_count": 32,
     "metadata": {},
     "output_type": "execute_result"
    },
    {
     "data": {
      "image/png": "[encoded data removed]",
      "text/plain": [
       "<Figure size 432x288 with 1 Axes>"
      ]
     },
     "metadata": {},
     "output_type": "display_data"
    }
   ],
   "source": [
    "#Visualize data\n",
    "plt.plot(ad_data['newspaper'], ad_data['sales'], 'ko')\n",
    "plt.grid(True)\n",
    "plt.xlabel('x')\n",
    "plt.ylabel('y')\n",
    "plt.title('x vs y')"
   ]
  },
  {
   "cell_type": "code",
   "execution_count": 33,
   "metadata": {},
   "outputs": [
    {
     "name": "stdout",
     "output_type": "stream",
     "text": [
      "Intercept: 12.35141\n",
      "Slope : 0.05469\n"
     ]
    },
    {
     "data": {
      "image/png": "[encoded data removed]",
      "text/plain": [
       "<Figure size 432x288 with 1 Axes>"
      ]
     },
     "metadata": {},
     "output_type": "display_data"
    }
   ],
   "source": [
    "#Build model\n",
    "\n",
    "from sklearn import linear_model\n",
    "# get len of data for n_points\n",
    "n_points = len(ad_data['newspaper'])\n",
    "\n",
    "# First initialize the model.\n",
    "linear_model = linear_model.LinearRegression()\n",
    "\n",
    "# Fit the model to the data\n",
    "x_input = ad_data['newspaper'].values.reshape(n_points, 1)\n",
    "y_output = ad_data['sales'].values.reshape(n_points, 1)\n",
    "linear_model.fit(x_input, y_output)\n",
    "\n",
    "# Get predictions\n",
    "y_pred = linear_model.predict(x_input)\n",
    "\n",
    "# # Plot output\n",
    "plt.scatter(x_input, y_output)\n",
    "plt.plot(x_input, y_pred, linewidth=2)\n",
    "plt.grid(True)\n",
    "plt.xlabel('x')\n",
    "plt.ylabel('y')\n",
    "plt.title('x vs y')\n",
    "\n",
    "# # Print model parameters\n",
    "# # Get slope (m) and y-intercept (b)\n",
    "print('Intercept: {0:.5f}'.format(linear_model.intercept_[0]))\n",
    "print('Slope : {0:.5f}'.format(linear_model.coef_[0][0]))"
   ]
  },
  {
   "cell_type": "code",
   "execution_count": 34,
   "metadata": {},
   "outputs": [
    {
     "name": "stdout",
     "output_type": "stream",
     "text": [
      "Intercept: 12.35141\n",
      "Slope : 0.05469\n"
     ]
    }
   ],
   "source": [
    "#Compare with Stats Models package\n",
    "import statsmodels.formula.api as sm\n",
    "\n",
    "# Fit the model and get the linear model summaries/plots.\n",
    "x = ad_data['newspaper']\n",
    "y = ad_data['sales']\n",
    "ols5_model = sm.ols(formula='y ~ x', data = ad_data) # Use a simple formula and the data generated above\n",
    "\n",
    "\n",
    "tv_sales = ols5_model.fit()\n",
    "\n",
    "# Get slope (m) and y-intercept (b)\n",
    "print('Intercept: {0:.5f}'.format(tv_sales.params.Intercept))\n",
    "print('Slope : {0:.5f}'.format(tv_sales.params.x))"
   ]
  },
  {
   "cell_type": "markdown",
   "metadata": {},
   "source": [
    "### The final regression(#4) includes all 3 features: (a) TV, (b) radio, and (c) newspaper.\n"
   ]
  },
  {
   "cell_type": "code",
   "execution_count": 35,
   "metadata": {},
   "outputs": [],
   "source": [
    "#combine media - tv, radio, newspaper\n",
    "ad_data['multi_med'] = ad_data['TV']+ad_data['newspaper']+ad_data['radio']"
   ]
  },
  {
   "cell_type": "code",
   "execution_count": 36,
   "metadata": {},
   "outputs": [
    {
     "data": {
      "text/html": [
       "<div>\n",
       "<style scoped>\n",
       "    .dataframe tbody tr th:only-of-type {\n",
       "        vertical-align: middle;\n",
       "    }\n",
       "\n",
       "    .dataframe tbody tr th {\n",
       "        vertical-align: top;\n",
       "    }\n",
       "\n",
       "    .dataframe thead th {\n",
       "        text-align: right;\n",
       "    }\n",
       "</style>\n",
       "<table border=\"1\" class=\"dataframe\">\n",
       "  <thead>\n",
       "    <tr style=\"text-align: right;\">\n",
       "      <th></th>\n",
       "      <th>TV</th>\n",
       "      <th>radio</th>\n",
       "      <th>newspaper</th>\n",
       "      <th>sales</th>\n",
       "      <th>multi_med</th>\n",
       "    </tr>\n",
       "  </thead>\n",
       "  <tbody>\n",
       "    <tr>\n",
       "      <th>1</th>\n",
       "      <td>230.1</td>\n",
       "      <td>37.8</td>\n",
       "      <td>69.2</td>\n",
       "      <td>22.1</td>\n",
       "      <td>337.1</td>\n",
       "    </tr>\n",
       "    <tr>\n",
       "      <th>2</th>\n",
       "      <td>44.5</td>\n",
       "      <td>39.3</td>\n",
       "      <td>45.1</td>\n",
       "      <td>10.4</td>\n",
       "      <td>128.9</td>\n",
       "    </tr>\n",
       "    <tr>\n",
       "      <th>3</th>\n",
       "      <td>17.2</td>\n",
       "      <td>45.9</td>\n",
       "      <td>69.3</td>\n",
       "      <td>9.3</td>\n",
       "      <td>132.4</td>\n",
       "    </tr>\n",
       "    <tr>\n",
       "      <th>4</th>\n",
       "      <td>151.5</td>\n",
       "      <td>41.3</td>\n",
       "      <td>58.5</td>\n",
       "      <td>18.5</td>\n",
       "      <td>251.3</td>\n",
       "    </tr>\n",
       "    <tr>\n",
       "      <th>5</th>\n",
       "      <td>180.8</td>\n",
       "      <td>10.8</td>\n",
       "      <td>58.4</td>\n",
       "      <td>12.9</td>\n",
       "      <td>250.0</td>\n",
       "    </tr>\n",
       "  </tbody>\n",
       "</table>\n",
       "</div>"
      ],
      "text/plain": [
       "      TV  radio  newspaper  sales  multi_med\n",
       "1  230.1   37.8       69.2   22.1      337.1\n",
       "2   44.5   39.3       45.1   10.4      128.9\n",
       "3   17.2   45.9       69.3    9.3      132.4\n",
       "4  151.5   41.3       58.5   18.5      251.3\n",
       "5  180.8   10.8       58.4   12.9      250.0"
      ]
     },
     "execution_count": 36,
     "metadata": {},
     "output_type": "execute_result"
    }
   ],
   "source": [
    "ad_data.head()"
   ]
  },
  {
   "cell_type": "code",
   "execution_count": 37,
   "metadata": {},
   "outputs": [
    {
     "data": {
      "text/plain": [
       "Text(0.5,1,'x vs y')"
      ]
     },
     "execution_count": 37,
     "metadata": {},
     "output_type": "execute_result"
    },
    {
     "data": {
      "image/png": "[encoded data removed]",
      "text/plain": [
       "<Figure size 432x288 with 1 Axes>"
      ]
     },
     "metadata": {},
     "output_type": "display_data"
    }
   ],
   "source": [
    "#Visualize data\n",
    "plt.plot(ad_data['multi_med'], ad_data['sales'], 'ko')\n",
    "plt.grid(True)\n",
    "plt.xlabel('x')\n",
    "plt.ylabel('y')\n",
    "plt.title('x vs y')"
   ]
  },
  {
   "cell_type": "code",
   "execution_count": 38,
   "metadata": {},
   "outputs": [
    {
     "name": "stdout",
     "output_type": "stream",
     "text": [
      "Intercept: 4.24303\n",
      "Slope : 0.04869\n"
     ]
    },
    {
     "data": {
      "image/png": "[encoded data removed]",
      "text/plain": [
       "<Figure size 432x288 with 1 Axes>"
      ]
     },
     "metadata": {},
     "output_type": "display_data"
    }
   ],
   "source": [
    "#Build model\n",
    "from sklearn import linear_model\n",
    "# get len of data for n_points\n",
    "\n",
    "n_points = len(ad_data['multi_med'])\n",
    "\n",
    "# First initialize the model.\n",
    "linear_model = linear_model.LinearRegression()\n",
    "\n",
    "# Fit the model to the data\n",
    "x_input = ad_data['multi_med'].values.reshape(n_points, 1)\n",
    "y_output = ad_data['sales'].values.reshape(n_points, 1)\n",
    "linear_model.fit(x_input, y_output)\n",
    "\n",
    "# Get predictions\n",
    "y_pred = linear_model.predict(x_input)\n",
    "\n",
    "# # Plot output\n",
    "plt.scatter(x_input, y_output)\n",
    "plt.plot(x_input, y_pred, linewidth=2)\n",
    "plt.grid(True)\n",
    "plt.xlabel('x')\n",
    "plt.ylabel('y')\n",
    "plt.title('x vs y')\n",
    "\n",
    "# # Print model parameters\n",
    "# # Get slope (m) and y-intercept (b)\n",
    "print('Intercept: {0:.5f}'.format(linear_model.intercept_[0]))\n",
    "print('Slope : {0:.5f}'.format(linear_model.coef_[0][0]))"
   ]
  },
  {
   "cell_type": "code",
   "execution_count": 39,
   "metadata": {},
   "outputs": [
    {
     "name": "stdout",
     "output_type": "stream",
     "text": [
      "Intercept: 4.24303\n",
      "Slope : 0.04869\n"
     ]
    }
   ],
   "source": [
    "#Compare with Stats Models package\n",
    "import statsmodels.formula.api as sm\n",
    "\n",
    "# Fit the model and get the linear model summaries/plots.\n",
    "x = ad_data['multi_med']\n",
    "y = ad_data['sales']\n",
    "ols5_model = sm.ols(formula='y ~ x', data = ad_data) # Use a simple formula and the data generated above\n",
    "\n",
    "\n",
    "tv_sales = ols5_model.fit()\n",
    "\n",
    "# Get slope (m) and y-intercept (b)\n",
    "print('Intercept: {0:.5f}'.format(tv_sales.params.Intercept))\n",
    "print('Slope : {0:.5f}'.format(tv_sales.params.x))"
   ]
  },
  {
   "cell_type": "code",
   "execution_count": 40,
   "metadata": {},
   "outputs": [
    {
     "name": "stdout",
     "output_type": "stream",
     "text": [
      "Intercept, Slope : Intercept    4.243028\n",
      "x            0.048688\n",
      "dtype: float64\n",
      "\n",
      "SSE, SST, SSR, and RMSE:\n",
      "SSE: 4078.704773828441\n",
      "SST: 5417.14875\n",
      "SSR: 1338.4439761715594\n",
      "RMSE: 63.86473810976164\n",
      "                            OLS Regression Results                            \n",
      "==============================================================================\n",
      "Dep. Variable:                      y   R-squared:                       0.753\n",
      "Model:                            OLS   Adj. R-squared:                  0.752\n",
      "Method:                 Least Squares   F-statistic:                     603.4\n",
      "Date:                Wed, 13 Mar 2019   Prob (F-statistic):           5.06e-62\n",
      "Time:                        15:41:01   Log-Likelihood:                -473.88\n",
      "No. Observations:                 200   AIC:                             951.8\n",
      "Df Residuals:                     198   BIC:                             958.4\n",
      "Df Model:                           1                                         \n",
      "Covariance Type:            nonrobust                                         \n",
      "==============================================================================\n",
      "                 coef    std err          t      P>|t|      [0.025      0.975]\n",
      "------------------------------------------------------------------------------\n",
      "Intercept      4.2430      0.439      9.676      0.000       3.378       5.108\n",
      "x              0.0487      0.002     24.564      0.000       0.045       0.053\n",
      "==============================================================================\n",
      "Omnibus:                        6.851   Durbin-Watson:                   1.967\n",
      "Prob(Omnibus):                  0.033   Jarque-Bera (JB):                6.692\n",
      "Skew:                          -0.373   Prob(JB):                       0.0352\n",
      "Kurtosis:                       3.495   Cond. No.                         528.\n",
      "==============================================================================\n",
      "\n",
      "Warnings:\n",
      "[1] Standard Errors assume that the covariance matrix of the errors is correctly specified.\n"
     ]
    },
    {
     "name": "stderr",
     "output_type": "stream",
     "text": [
      "/anaconda3/lib/python3.6/site-packages/matplotlib/axes/_axes.py:6462: UserWarning: The 'normed' kwarg is deprecated, and has been replaced by the 'density' kwarg.\n",
      "  warnings.warn(\"The 'normed' kwarg is deprecated, and has been \"\n"
     ]
    },
    {
     "data": {
      "text/plain": [
       "Text(0.5,1,'Residual Histogram')"
      ]
     },
     "execution_count": 40,
     "metadata": {},
     "output_type": "execute_result"
    },
    {
     "data": {
      "image/png": "[encoded data removed]",
      "text/plain": [
       "<Figure size 432x288 with 1 Axes>"
      ]
     },
     "metadata": {},
     "output_type": "display_data"
    }
   ],
   "source": [
    "import statsmodels.formula.api as sm\n",
    "import seaborn as sns\n",
    "\n",
    "ols_model = sm.ols(formula = 'y ~ x', data=ad_data)\n",
    "# Alternatively:\n",
    "#ols_model = sm.OLS(y_output, sm.add_constant(x_input))\n",
    "\n",
    "results = ols_model.fit()\n",
    "\n",
    "# Get slope (m) and y-intercept (b)\n",
    "print('Intercept, Slope : {}'.format(results.params))\n",
    "\n",
    "print('\\nSSE, SST, SSR, and RMSE:')\n",
    "mean_y = np.mean(y_output)\n",
    "sst = np.sum((y_output - mean_y)**2)\n",
    "sse = sst - results.ssr\n",
    "print('SSE: {}'.format(sse))\n",
    "print('SST: {}'.format(sst))\n",
    "print('SSR: {}'.format(results.ssr))\n",
    "print('RMSE: {}'.format(np.sqrt(results.mse_model)))\n",
    "\n",
    "# Get most of the linear regression statistics we are interested in:\n",
    "print(results.summary())\n",
    "\n",
    "# Plot a histogram of the residuals\n",
    "sns.distplot(results.resid, hist=True)\n",
    "plt.xlabel('Residual')\n",
    "plt.ylabel('Frequency')\n",
    "plt.title('Residual Histogram')"
   ]
  },
  {
   "cell_type": "markdown",
   "metadata": {},
   "source": [
    "### Summary"
   ]
  },
  {
   "cell_type": "markdown",
   "metadata": {},
   "source": [
    "From the analysis above we find three data points:\n",
    "1. Partial slope and the intercept parameters - Y-intercept - when x is zero, y is 4.24. When we increase x by 1, we expect that y will go up by .048.\n",
    "2. Adjusted R-squared - .752 - tells us how close the data are to the fitted regression line. The higher the R-squared, the better the model fits the data. \n",
    "3. Mean-squared error - 63.8 - Which helps us understand the error in units of x - average squared difference between the estimated values and what is estimated. "
   ]
  },
  {
   "cell_type": "code",
   "execution_count": null,
   "metadata": {},
   "outputs": [],
   "source": []
  }
 ],
 "metadata": {
  "kernelspec": {
   "display_name": "Python 3",
   "language": "python",
   "name": "python3"
  },
  "language_info": {
   "codemirror_mode": {
    "name": "ipython",
    "version": 3
   },
   "file_extension": ".py",
   "mimetype": "text/x-python",
   "name": "python",
   "nbconvert_exporter": "python",
   "pygments_lexer": "ipython3",
   "version": "3.6.5"
  }
 },
 "nbformat": 4,
 "nbformat_minor": 2
}
