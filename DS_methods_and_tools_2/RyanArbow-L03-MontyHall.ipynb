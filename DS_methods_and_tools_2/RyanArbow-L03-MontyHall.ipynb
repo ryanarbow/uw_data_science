{
 "cells": [
  {
   "cell_type": "markdown",
   "metadata": {},
   "source": [
    "# Lesson 3 Assignment - Monty Hall Simulation\n",
    "## Author - Ryan Arbow"
   ]
  },
  {
   "cell_type": "markdown",
   "metadata": {},
   "source": [
    "### Instructions\n",
    "Simulate the conditional probabilities of the distributions for winning a car vs. a goat for the Monty Hall Problem that includes the following:\n",
    "1. the cases for switching or not switching\n",
    "2. histograms and summary statistics (at least mean and variance) of the results for winning the car or a goat for both strategies: switching or not switching\n",
    "3. comparison of the cases to determine the best strategy\n",
    "4. recommended strategy\n",
    "\n"
   ]
  },
  {
   "cell_type": "markdown",
   "metadata": {},
   "source": [
    "#### Note: \n",
    "Please clearly outline the results and your recommendation with markdown text. Be sure your discussion includes narrative for your figures and tables so it is clear to the reader the importance of each bit of evidence."
   ]
  },
  {
   "cell_type": "code",
   "execution_count": 55,
   "metadata": {},
   "outputs": [],
   "source": [
    "# Import libraries\n",
    "import pandas as pd\n",
    "import numpy as np"
   ]
  },
  {
   "cell_type": "code",
   "execution_count": 56,
   "metadata": {},
   "outputs": [],
   "source": [
    "#define monty hall function\n",
    "def monty_hall_game(num_games, door_pick, stay_switch): \n",
    "    #set wins to zero\n",
    "    wins = 0   \n",
    "    #door options\n",
    "    door_set = ['1', '2', '3']\n",
    "    #for loop through provided range\n",
    "    for n in range(0, num_games):\n",
    "        open_door_set = ['1', '2', '3'] \n",
    "        unchosen_door_set = ['1', '2', '3'] \n",
    "        unchosen_door_set.remove(door_pick) \n",
    "        win_door = np.random.choice(door_set, 1) \n",
    "        #if random door is winning door\n",
    "        if door_pick == win_door: \n",
    "            open_door_set.remove(win_door)\n",
    "        else:\n",
    "            open_door_set.remove(win_door) \n",
    "            open_door_set.remove(door_pick)\n",
    "        open_door = np.random.choice(open_door_set, 1) \n",
    "        unchosen_door_set.remove(open_door)\n",
    "        #options to switch or stay\n",
    "        if stay_switch == 'stay': \n",
    "            if door_pick == win_door: \n",
    "                wins += 1 \n",
    "        if stay_switch == 'switch': \n",
    "            if unchosen_door_set[0] == win_door: \n",
    "                wins += 1\n",
    "    return (wins)/(num_games)"
   ]
  },
  {
   "cell_type": "code",
   "execution_count": 57,
   "metadata": {},
   "outputs": [
    {
     "data": {
      "text/plain": [
       "0.3375"
      ]
     },
     "execution_count": 57,
     "metadata": {},
     "output_type": "execute_result"
    }
   ],
   "source": [
    "#chances of winning if you stay with the door first chosen\n",
    "monty_hall_game(10000, \"1\", \"stay\")"
   ]
  },
  {
   "cell_type": "code",
   "execution_count": 58,
   "metadata": {},
   "outputs": [
    {
     "data": {
      "text/plain": [
       "0.662"
      ]
     },
     "execution_count": 58,
     "metadata": {},
     "output_type": "execute_result"
    }
   ],
   "source": [
    "#chances of winning if you switch from the door first chosen\n",
    "monty_hall_game(10000, \"3\", \"switch\")"
   ]
  },
  {
   "cell_type": "markdown",
   "metadata": {},
   "source": [
    "#### The contestant should also switch after opening the first door. The chances of winning the car are double (2/3) that of winning by staying with the first choice. "
   ]
  }
 ],
 "metadata": {
  "kernelspec": {
   "display_name": "Python 3",
   "language": "python",
   "name": "python3"
  },
  "language_info": {
   "codemirror_mode": {
    "name": "ipython",
    "version": 3
   },
   "file_extension": ".py",
   "mimetype": "text/x-python",
   "name": "python",
   "nbconvert_exporter": "python",
   "pygments_lexer": "ipython3",
   "version": "3.6.5"
  }
 },
 "nbformat": 4,
 "nbformat_minor": 2
}
