{
 "cells": [
  {
   "cell_type": "code",
   "execution_count": 60,
   "metadata": {},
   "outputs": [],
   "source": [
    "import numpy as np\n",
    "import pandas as pd\n",
    "import matplotlib.pyplot as plt\n",
    "from pandas.tools.plotting import scatter_matrix\n",
    "import requests\n",
    "from bs4 import BeautifulSoup\n",
    "from sklearn.preprocessing import *\n",
    "from sklearn.metrics import *\n",
    "from sklearn.linear_model import LogisticRegression"
   ]
  },
  {
   "cell_type": "code",
   "execution_count": 61,
   "metadata": {},
   "outputs": [],
   "source": [
    "%matplotlib inline"
   ]
  },
  {
   "cell_type": "markdown",
   "metadata": {},
   "source": [
    "### Assemble data ###"
   ]
  },
  {
   "cell_type": "code",
   "execution_count": 62,
   "metadata": {},
   "outputs": [
    {
     "name": "stderr",
     "output_type": "stream",
     "text": [
      "/anaconda3/lib/python3.6/site-packages/IPython/core/interactiveshell.py:2728: DtypeWarning: Columns (3) have mixed types. Specify dtype option on import or set low_memory=False.\n",
      "  interactivity=interactivity, compiler=compiler, result=result)\n"
     ]
    }
   ],
   "source": [
    "#assign url variable where we will pull data from\n",
    "url = \"https://archive.ics.uci.edu/ml/machine-learning-databases/internet_ads/ad.data\"\n",
    "#pull down the csv info into a pandas dataframe\n",
    "ad_df = pd.read_csv(url, header=None, dtype=None)"
   ]
  },
  {
   "cell_type": "code",
   "execution_count": 63,
   "metadata": {},
   "outputs": [],
   "source": [
    "#ad_df.shape"
   ]
  },
  {
   "cell_type": "code",
   "execution_count": 64,
   "metadata": {},
   "outputs": [],
   "source": [
    "#Get column names\n",
    "#assign url variable where we will pull data from for column names\n",
    "url = \"https://archive.ics.uci.edu/ml/machine-learning-databases/internet_ads/ad.names\"\n",
    "response = requests.get(url)\n",
    "soup = BeautifulSoup(response.content, \"lxml\").text.split('\\n')"
   ]
  },
  {
   "cell_type": "code",
   "execution_count": 65,
   "metadata": {},
   "outputs": [
    {
     "name": "stdout",
     "output_type": "stream",
     "text": [
      "                                             attributes\n",
      "0     | \"w:\\c4.5\\alladA\" names file -- automatically...\n",
      "1                                                      \n",
      "2                                  ad, nonad | classes.\n",
      "3                                                      \n",
      "4                                   height: continuous.\n",
      "5                                    width: continuous.\n",
      "6                                   aratio: continuous.\n",
      "7                                           local: 0,1.\n",
      "8                         | 457 features from url terms\n",
      "9                              url*images+buttons: 0,1.\n",
      "10                             url*likesbooks.com: 0,1.\n",
      "11                              url*www.slake.com: 0,1.\n",
      "12                             url*hydrogeologist: 0,1.\n",
      "13                                        url*oso: 0,1.\n",
      "14                                      url*media: 0,1.\n",
      "15                               url*peace+images: 0,1.\n",
      "16                                  url*blipverts: 0,1.\n",
      "17                                url*tkaine+kats: 0,1.\n",
      "18                                  url*labyrinth: 0,1.\n",
      "19                      url*advertising+blipverts: 0,1.\n",
      "20                                 url*images+oso: 0,1.\n",
      "21                            url*area51+corridor: 0,1.\n",
      "22                                   url*ran+gifs: 0,1.\n",
      "23                        url*express-scripts.com: 0,1.\n",
      "24                                        url*off: 0,1.\n",
      "25                                       url*cnet: 0,1.\n",
      "26                                  url*time+1998: 0,1.\n",
      "27                                  url*josefina3: 0,1.\n",
      "28                                url*truluck.com: 0,1.\n",
      "29                               url*clawnext+gif: 0,1.\n",
      "...                                                 ...\n",
      "1538                                 alt*services: 0,1.\n",
      "1539                                    alt*about: 0,1.\n",
      "1540                                      alt*for: 0,1.\n",
      "1541                                  alt*here+to: 0,1.\n",
      "1542                                  alt*network: 0,1.\n",
      "1543                                      alt*you: 0,1.\n",
      "1544                                     alt*logo: 0,1.\n",
      "1545                                     alt*home: 0,1.\n",
      "1546                                      alt*kat: 0,1.\n",
      "1547                   | 19 features from caption terms\n",
      "1548                                  caption*and: 0,1.\n",
      "1549                            caption*home+page: 0,1.\n",
      "1550                           caption*click+here: 0,1.\n",
      "1551                                  caption*the: 0,1.\n",
      "1552                            caption*pratchett: 0,1.\n",
      "1553                             caption*here+for: 0,1.\n",
      "1554                                 caption*site: 0,1.\n",
      "1555                                 caption*page: 0,1.\n",
      "1556                                   caption*to: 0,1.\n",
      "1557                                   caption*of: 0,1.\n",
      "1558                                 caption*home: 0,1.\n",
      "1559                                   caption*my: 0,1.\n",
      "1560                                 caption*your: 0,1.\n",
      "1561                                   caption*in: 0,1.\n",
      "1562                                caption*bytes: 0,1.\n",
      "1563                                 caption*here: 0,1.\n",
      "1564                                caption*click: 0,1.\n",
      "1565                                  caption*for: 0,1.\n",
      "1566                                  caption*you: 0,1.\n",
      "1567                                                   \n",
      "\n",
      "[1568 rows x 1 columns]\n"
     ]
    }
   ],
   "source": [
    "ad_names = pd.DataFrame({'attributes':soup})\n",
    "print (ad_names)"
   ]
  },
  {
   "cell_type": "markdown",
   "metadata": {},
   "source": [
    "### Data Prep"
   ]
  },
  {
   "cell_type": "code",
   "execution_count": 66,
   "metadata": {},
   "outputs": [],
   "source": [
    "#clean up the values in the column\n",
    "def clean_attr(row):\n",
    "    return str(row.replace(\"*\",\"_\").replace(\".\",\"\").replace(\"0\",\"\").replace(\"1\",\"\").replace(\",\",\"\").replace(\":\",\"\").strip())\n",
    "ad_names['attributes'] = ad_names['attributes'].apply(clean_attr)"
   ]
  },
  {
   "cell_type": "code",
   "execution_count": 67,
   "metadata": {},
   "outputs": [
    {
     "name": "stderr",
     "output_type": "stream",
     "text": [
      "/anaconda3/lib/python3.6/site-packages/ipykernel_launcher.py:1: FutureWarning: set_value is deprecated and will be removed in a future release. Please use .at[] or .iat[] accessors instead\n",
      "  \"\"\"Entry point for launching an IPython kernel.\n"
     ]
    },
    {
     "data": {
      "text/html": [
       "<div>\n",
       "<style scoped>\n",
       "    .dataframe tbody tr th:only-of-type {\n",
       "        vertical-align: middle;\n",
       "    }\n",
       "\n",
       "    .dataframe tbody tr th {\n",
       "        vertical-align: top;\n",
       "    }\n",
       "\n",
       "    .dataframe thead th {\n",
       "        text-align: right;\n",
       "    }\n",
       "</style>\n",
       "<table border=\"1\" class=\"dataframe\">\n",
       "  <thead>\n",
       "    <tr style=\"text-align: right;\">\n",
       "      <th></th>\n",
       "      <th>attributes</th>\n",
       "    </tr>\n",
       "  </thead>\n",
       "  <tbody>\n",
       "    <tr>\n",
       "      <th>0</th>\n",
       "      <td>| \"w\\c45\\alladA\" names file -- automatically g...</td>\n",
       "    </tr>\n",
       "    <tr>\n",
       "      <th>1</th>\n",
       "      <td></td>\n",
       "    </tr>\n",
       "    <tr>\n",
       "      <th>2</th>\n",
       "      <td>ad nonad | classes</td>\n",
       "    </tr>\n",
       "    <tr>\n",
       "      <th>3</th>\n",
       "      <td></td>\n",
       "    </tr>\n",
       "    <tr>\n",
       "      <th>4</th>\n",
       "      <td>height continuous</td>\n",
       "    </tr>\n",
       "    <tr>\n",
       "      <th>5</th>\n",
       "      <td>width continuous</td>\n",
       "    </tr>\n",
       "    <tr>\n",
       "      <th>6</th>\n",
       "      <td>aratio continuous</td>\n",
       "    </tr>\n",
       "    <tr>\n",
       "      <th>7</th>\n",
       "      <td>local</td>\n",
       "    </tr>\n",
       "    <tr>\n",
       "      <th>8</th>\n",
       "      <td>| 457 features from url terms</td>\n",
       "    </tr>\n",
       "    <tr>\n",
       "      <th>9</th>\n",
       "      <td>url_images+buttons</td>\n",
       "    </tr>\n",
       "    <tr>\n",
       "      <th>10</th>\n",
       "      <td>url_likesbookscom</td>\n",
       "    </tr>\n",
       "    <tr>\n",
       "      <th>11</th>\n",
       "      <td>url_wwwslakecom</td>\n",
       "    </tr>\n",
       "    <tr>\n",
       "      <th>12</th>\n",
       "      <td>url_hydrogeologist</td>\n",
       "    </tr>\n",
       "    <tr>\n",
       "      <th>13</th>\n",
       "      <td>url_oso</td>\n",
       "    </tr>\n",
       "    <tr>\n",
       "      <th>14</th>\n",
       "      <td>url_media</td>\n",
       "    </tr>\n",
       "    <tr>\n",
       "      <th>15</th>\n",
       "      <td>url_peace+images</td>\n",
       "    </tr>\n",
       "    <tr>\n",
       "      <th>16</th>\n",
       "      <td>url_blipverts</td>\n",
       "    </tr>\n",
       "    <tr>\n",
       "      <th>17</th>\n",
       "      <td>url_tkaine+kats</td>\n",
       "    </tr>\n",
       "    <tr>\n",
       "      <th>18</th>\n",
       "      <td>url_labyrinth</td>\n",
       "    </tr>\n",
       "    <tr>\n",
       "      <th>19</th>\n",
       "      <td>url_advertising+blipverts</td>\n",
       "    </tr>\n",
       "    <tr>\n",
       "      <th>20</th>\n",
       "      <td>url_images+oso</td>\n",
       "    </tr>\n",
       "    <tr>\n",
       "      <th>21</th>\n",
       "      <td>url_area5+corridor</td>\n",
       "    </tr>\n",
       "    <tr>\n",
       "      <th>22</th>\n",
       "      <td>url_ran+gifs</td>\n",
       "    </tr>\n",
       "    <tr>\n",
       "      <th>23</th>\n",
       "      <td>url_express-scriptscom</td>\n",
       "    </tr>\n",
       "    <tr>\n",
       "      <th>24</th>\n",
       "      <td>url_off</td>\n",
       "    </tr>\n",
       "    <tr>\n",
       "      <th>25</th>\n",
       "      <td>url_cnet</td>\n",
       "    </tr>\n",
       "    <tr>\n",
       "      <th>26</th>\n",
       "      <td>url_time+998</td>\n",
       "    </tr>\n",
       "    <tr>\n",
       "      <th>27</th>\n",
       "      <td>url_josefina3</td>\n",
       "    </tr>\n",
       "    <tr>\n",
       "      <th>28</th>\n",
       "      <td>url_truluckcom</td>\n",
       "    </tr>\n",
       "    <tr>\n",
       "      <th>29</th>\n",
       "      <td>url_clawnext+gif</td>\n",
       "    </tr>\n",
       "    <tr>\n",
       "      <th>...</th>\n",
       "      <td>...</td>\n",
       "    </tr>\n",
       "    <tr>\n",
       "      <th>1538</th>\n",
       "      <td>alt_services</td>\n",
       "    </tr>\n",
       "    <tr>\n",
       "      <th>1539</th>\n",
       "      <td>alt_about</td>\n",
       "    </tr>\n",
       "    <tr>\n",
       "      <th>1540</th>\n",
       "      <td>alt_for</td>\n",
       "    </tr>\n",
       "    <tr>\n",
       "      <th>1541</th>\n",
       "      <td>alt_here+to</td>\n",
       "    </tr>\n",
       "    <tr>\n",
       "      <th>1542</th>\n",
       "      <td>alt_network</td>\n",
       "    </tr>\n",
       "    <tr>\n",
       "      <th>1543</th>\n",
       "      <td>alt_you</td>\n",
       "    </tr>\n",
       "    <tr>\n",
       "      <th>1544</th>\n",
       "      <td>alt_logo</td>\n",
       "    </tr>\n",
       "    <tr>\n",
       "      <th>1545</th>\n",
       "      <td>alt_home</td>\n",
       "    </tr>\n",
       "    <tr>\n",
       "      <th>1546</th>\n",
       "      <td>alt_kat</td>\n",
       "    </tr>\n",
       "    <tr>\n",
       "      <th>1547</th>\n",
       "      <td>| 9 features from caption terms</td>\n",
       "    </tr>\n",
       "    <tr>\n",
       "      <th>1548</th>\n",
       "      <td>caption_and</td>\n",
       "    </tr>\n",
       "    <tr>\n",
       "      <th>1549</th>\n",
       "      <td>caption_home+page</td>\n",
       "    </tr>\n",
       "    <tr>\n",
       "      <th>1550</th>\n",
       "      <td>caption_click+here</td>\n",
       "    </tr>\n",
       "    <tr>\n",
       "      <th>1551</th>\n",
       "      <td>caption_the</td>\n",
       "    </tr>\n",
       "    <tr>\n",
       "      <th>1552</th>\n",
       "      <td>caption_pratchett</td>\n",
       "    </tr>\n",
       "    <tr>\n",
       "      <th>1553</th>\n",
       "      <td>caption_here+for</td>\n",
       "    </tr>\n",
       "    <tr>\n",
       "      <th>1554</th>\n",
       "      <td>caption_site</td>\n",
       "    </tr>\n",
       "    <tr>\n",
       "      <th>1555</th>\n",
       "      <td>caption_page</td>\n",
       "    </tr>\n",
       "    <tr>\n",
       "      <th>1556</th>\n",
       "      <td>caption_to</td>\n",
       "    </tr>\n",
       "    <tr>\n",
       "      <th>1557</th>\n",
       "      <td>caption_of</td>\n",
       "    </tr>\n",
       "    <tr>\n",
       "      <th>1558</th>\n",
       "      <td>caption_home</td>\n",
       "    </tr>\n",
       "    <tr>\n",
       "      <th>1559</th>\n",
       "      <td>caption_my</td>\n",
       "    </tr>\n",
       "    <tr>\n",
       "      <th>1560</th>\n",
       "      <td>caption_your</td>\n",
       "    </tr>\n",
       "    <tr>\n",
       "      <th>1561</th>\n",
       "      <td>caption_in</td>\n",
       "    </tr>\n",
       "    <tr>\n",
       "      <th>1562</th>\n",
       "      <td>caption_bytes</td>\n",
       "    </tr>\n",
       "    <tr>\n",
       "      <th>1563</th>\n",
       "      <td>caption_here</td>\n",
       "    </tr>\n",
       "    <tr>\n",
       "      <th>1564</th>\n",
       "      <td>caption_click</td>\n",
       "    </tr>\n",
       "    <tr>\n",
       "      <th>1565</th>\n",
       "      <td>caption_for</td>\n",
       "    </tr>\n",
       "    <tr>\n",
       "      <th>1566</th>\n",
       "      <td>caption_you</td>\n",
       "    </tr>\n",
       "    <tr>\n",
       "      <th>1567</th>\n",
       "      <td>ad nonad</td>\n",
       "    </tr>\n",
       "  </tbody>\n",
       "</table>\n",
       "<p>1568 rows × 1 columns</p>\n",
       "</div>"
      ],
      "text/plain": [
       "                                             attributes\n",
       "0     | \"w\\c45\\alladA\" names file -- automatically g...\n",
       "1                                                      \n",
       "2                                    ad nonad | classes\n",
       "3                                                      \n",
       "4                                     height continuous\n",
       "5                                      width continuous\n",
       "6                                     aratio continuous\n",
       "7                                                 local\n",
       "8                         | 457 features from url terms\n",
       "9                                    url_images+buttons\n",
       "10                                    url_likesbookscom\n",
       "11                                      url_wwwslakecom\n",
       "12                                   url_hydrogeologist\n",
       "13                                              url_oso\n",
       "14                                            url_media\n",
       "15                                     url_peace+images\n",
       "16                                        url_blipverts\n",
       "17                                      url_tkaine+kats\n",
       "18                                        url_labyrinth\n",
       "19                            url_advertising+blipverts\n",
       "20                                       url_images+oso\n",
       "21                                   url_area5+corridor\n",
       "22                                         url_ran+gifs\n",
       "23                               url_express-scriptscom\n",
       "24                                              url_off\n",
       "25                                             url_cnet\n",
       "26                                         url_time+998\n",
       "27                                        url_josefina3\n",
       "28                                       url_truluckcom\n",
       "29                                     url_clawnext+gif\n",
       "...                                                 ...\n",
       "1538                                       alt_services\n",
       "1539                                          alt_about\n",
       "1540                                            alt_for\n",
       "1541                                        alt_here+to\n",
       "1542                                        alt_network\n",
       "1543                                            alt_you\n",
       "1544                                           alt_logo\n",
       "1545                                           alt_home\n",
       "1546                                            alt_kat\n",
       "1547                    | 9 features from caption terms\n",
       "1548                                        caption_and\n",
       "1549                                  caption_home+page\n",
       "1550                                 caption_click+here\n",
       "1551                                        caption_the\n",
       "1552                                  caption_pratchett\n",
       "1553                                   caption_here+for\n",
       "1554                                       caption_site\n",
       "1555                                       caption_page\n",
       "1556                                         caption_to\n",
       "1557                                         caption_of\n",
       "1558                                       caption_home\n",
       "1559                                         caption_my\n",
       "1560                                       caption_your\n",
       "1561                                         caption_in\n",
       "1562                                      caption_bytes\n",
       "1563                                       caption_here\n",
       "1564                                      caption_click\n",
       "1565                                        caption_for\n",
       "1566                                        caption_you\n",
       "1567                                           ad nonad\n",
       "\n",
       "[1568 rows x 1 columns]"
      ]
     },
     "execution_count": 67,
     "metadata": {},
     "output_type": "execute_result"
    }
   ],
   "source": [
    "ad_names.set_value(1567,'attributes','ad nonad')"
   ]
  },
  {
   "cell_type": "code",
   "execution_count": 68,
   "metadata": {},
   "outputs": [],
   "source": [
    "ad_names = ad_names.drop(ad_names.index[[0,1,2,3,8,466,962,1435,1547]])"
   ]
  },
  {
   "cell_type": "code",
   "execution_count": 69,
   "metadata": {},
   "outputs": [],
   "source": [
    "#Add column names to ad dataframe\n",
    "#create a column name list\n",
    "ad_columns = ad_names[\"attributes\"].tolist()\n",
    "ad_df.columns = ad_columns #add column to dataframe"
   ]
  },
  {
   "cell_type": "code",
   "execution_count": 70,
   "metadata": {},
   "outputs": [],
   "source": [
    "#remove . from \"ad nonad\" column\n",
    "ad_df[\"ad nonad\"] = ad_df[\"ad nonad\"].map(lambda x: str(x)[:-1])"
   ]
  },
  {
   "cell_type": "code",
   "execution_count": 71,
   "metadata": {},
   "outputs": [
    {
     "data": {
      "text/plain": [
       "height continuous            object\n",
       "width continuous             object\n",
       "aratio continuous            object\n",
       "local                        object\n",
       "url_images+buttons            int64\n",
       "url_likesbookscom             int64\n",
       "url_wwwslakecom               int64\n",
       "url_hydrogeologist            int64\n",
       "url_oso                       int64\n",
       "url_media                     int64\n",
       "url_peace+images              int64\n",
       "url_blipverts                 int64\n",
       "url_tkaine+kats               int64\n",
       "url_labyrinth                 int64\n",
       "url_advertising+blipverts     int64\n",
       "url_images+oso                int64\n",
       "url_area5+corridor            int64\n",
       "url_ran+gifs                  int64\n",
       "url_express-scriptscom        int64\n",
       "url_off                       int64\n",
       "url_cnet                      int64\n",
       "url_time+998                  int64\n",
       "url_josefina3                 int64\n",
       "url_truluckcom                int64\n",
       "url_clawnext+gif              int64\n",
       "url_autopencom                int64\n",
       "url_tvgencom                  int64\n",
       "url_pixs                      int64\n",
       "url_heartland+539             int64\n",
       "url_meadows+996               int64\n",
       "                              ...  \n",
       "alt_award                     int64\n",
       "alt_services                  int64\n",
       "alt_about                     int64\n",
       "alt_for                       int64\n",
       "alt_here+to                   int64\n",
       "alt_network                   int64\n",
       "alt_you                       int64\n",
       "alt_logo                      int64\n",
       "alt_home                      int64\n",
       "alt_kat                       int64\n",
       "caption_and                   int64\n",
       "caption_home+page             int64\n",
       "caption_click+here            int64\n",
       "caption_the                   int64\n",
       "caption_pratchett             int64\n",
       "caption_here+for              int64\n",
       "caption_site                  int64\n",
       "caption_page                  int64\n",
       "caption_to                    int64\n",
       "caption_of                    int64\n",
       "caption_home                  int64\n",
       "caption_my                    int64\n",
       "caption_your                  int64\n",
       "caption_in                    int64\n",
       "caption_bytes                 int64\n",
       "caption_here                  int64\n",
       "caption_click                 int64\n",
       "caption_for                   int64\n",
       "caption_you                   int64\n",
       "ad nonad                     object\n",
       "Length: 1559, dtype: object"
      ]
     },
     "execution_count": 71,
     "metadata": {},
     "output_type": "execute_result"
    }
   ],
   "source": [
    "#check data types\n",
    "ad_df.dtypes"
   ]
  },
  {
   "cell_type": "code",
   "execution_count": 72,
   "metadata": {},
   "outputs": [
    {
     "data": {
      "text/plain": [
       "int64     1554\n",
       "object       5\n",
       "dtype: int64"
      ]
     },
     "execution_count": 72,
     "metadata": {},
     "output_type": "execute_result"
    }
   ],
   "source": [
    "#count data types\n",
    "ad_df.dtypes.value_counts()"
   ]
  },
  {
   "cell_type": "code",
   "execution_count": 73,
   "metadata": {},
   "outputs": [
    {
     "name": "stdout",
     "output_type": "stream",
     "text": [
      "['1' '0' '?' 1 0]\n"
     ]
    }
   ],
   "source": [
    "#check why \"local\" is an object data type as it is supposed to be binary and does not contain any \"?\" in the expanded view above\n",
    "print(ad_df.loc[:,\"local\"].unique()) "
   ]
  },
  {
   "cell_type": "code",
   "execution_count": 74,
   "metadata": {},
   "outputs": [],
   "source": [
    "# Coerce to numeric and impute medians for height continuous column\n",
    "ad_df.loc[:, \"height continuous\"] = pd.to_numeric(ad_df.loc[:, \"height continuous\"], errors='coerce')\n",
    "HasNan = np.isnan(ad_df.loc[:,\"height continuous\"])\n",
    "ad_df.loc[HasNan, \"height continuous\"] = np.nanmedian(ad_df.loc[:,\"height continuous\"])"
   ]
  },
  {
   "cell_type": "code",
   "execution_count": 75,
   "metadata": {},
   "outputs": [
    {
     "data": {
      "text/plain": [
       "(array([2.496e+03, 5.100e+02, 2.020e+02, 4.700e+01, 1.100e+01, 9.000e+00,\n",
       "        0.000e+00, 3.000e+00, 0.000e+00, 1.000e+00]),\n",
       " array([  1. ,  64.9, 128.8, 192.7, 256.6, 320.5, 384.4, 448.3, 512.2,\n",
       "        576.1, 640. ]),\n",
       " <a list of 10 Patch objects>)"
      ]
     },
     "execution_count": 75,
     "metadata": {},
     "output_type": "execute_result"
    },
    {
     "data": {
      "image/png": "[encoded data removed]",
      "text/plain": [
       "<matplotlib.figure.Figure at 0x10f740780>"
      ]
     },
     "metadata": {},
     "output_type": "display_data"
    }
   ],
   "source": [
    "plt.hist(ad_df.loc[:, \"height continuous\"])"
   ]
  },
  {
   "cell_type": "code",
   "execution_count": 76,
   "metadata": {},
   "outputs": [
    {
     "name": "stdout",
     "output_type": "stream",
     "text": [
      "154.56514120646216\n"
     ]
    }
   ],
   "source": [
    "## The high limit for acceptable values is the mean plus 2 standard deviations\n",
    "LimitHi = ad_df.loc[:, \"height continuous\"].mean() + 2*(ad_df.loc[:, \"height continuous\"].std())\n",
    "print(LimitHi)"
   ]
  },
  {
   "cell_type": "code",
   "execution_count": 77,
   "metadata": {},
   "outputs": [],
   "source": [
    "#Replace outliers\n",
    "TooHigh = ad_df.loc[:, \"height continuous\"] > LimitHi\n",
    "ad_df.loc[TooHigh, \"height continuous\"] = LimitHi"
   ]
  },
  {
   "cell_type": "code",
   "execution_count": 78,
   "metadata": {},
   "outputs": [
    {
     "data": {
      "text/plain": [
       "(array([ 369.,  424.,  324., 1359.,  137.,  140.,  130.,   84.,   84.,\n",
       "         228.]), array([  1.        ,  16.35651412,  31.71302824,  47.06954236,\n",
       "         62.42605648,  77.7825706 ,  93.13908472, 108.49559884,\n",
       "        123.85211297, 139.20862709, 154.56514121]), <a list of 10 Patch objects>)"
      ]
     },
     "execution_count": 78,
     "metadata": {},
     "output_type": "execute_result"
    },
    {
     "data": {
      "image/png": "[encoded data removed]",
      "text/plain": [
       "<matplotlib.figure.Figure at 0x1a29963588>"
      ]
     },
     "metadata": {},
     "output_type": "display_data"
    }
   ],
   "source": [
    "plt.hist(ad_df.loc[:, \"height continuous\"])"
   ]
  },
  {
   "cell_type": "code",
   "execution_count": 79,
   "metadata": {},
   "outputs": [],
   "source": [
    "# Coerce to numeric and impute medians for width continuous column\n",
    "ad_df.loc[:, \"width continuous\"] = pd.to_numeric(ad_df.loc[:, \"width continuous\"], errors='coerce')\n",
    "HasNan = np.isnan(ad_df.loc[:,\"width continuous\"])\n",
    "ad_df.loc[HasNan, \"width continuous\"] = np.nanmedian(ad_df.loc[:,\"width continuous\"])"
   ]
  },
  {
   "cell_type": "code",
   "execution_count": 80,
   "metadata": {},
   "outputs": [
    {
     "data": {
      "text/plain": [
       "(array([4.640e+02, 1.849e+03, 3.890e+02, 2.540e+02, 3.500e+01, 1.800e+01,\n",
       "        3.900e+01, 2.040e+02, 1.000e+00, 2.600e+01]),\n",
       " array([  1. ,  64.9, 128.8, 192.7, 256.6, 320.5, 384.4, 448.3, 512.2,\n",
       "        576.1, 640. ]),\n",
       " <a list of 10 Patch objects>)"
      ]
     },
     "execution_count": 80,
     "metadata": {},
     "output_type": "execute_result"
    },
    {
     "data": {
      "image/png": "[encoded data removed]",
      "text/plain": [
       "<matplotlib.figure.Figure at 0x1a2979eb00>"
      ]
     },
     "metadata": {},
     "output_type": "display_data"
    }
   ],
   "source": [
    "plt.hist(ad_df.loc[:, \"width continuous\"])"
   ]
  },
  {
   "cell_type": "code",
   "execution_count": 81,
   "metadata": {},
   "outputs": [],
   "source": [
    "# Coerce to numeric and impute medians for aratio continuous column\n",
    "ad_df.loc[:, \"aratio continuous\"] = pd.to_numeric(ad_df.loc[:, \"aratio continuous\"], errors='coerce')\n",
    "HasNan = np.isnan(ad_df.loc[:,\"aratio continuous\"])\n",
    "ad_df.loc[HasNan, \"aratio continuous\"] = np.nanmedian(ad_df.loc[:,\"aratio continuous\"])"
   ]
  },
  {
   "cell_type": "code",
   "execution_count": 82,
   "metadata": {},
   "outputs": [
    {
     "data": {
      "text/plain": [
       "(array([2.765e+03, 4.810e+02, 4.000e+00, 5.000e+00, 1.000e+00, 2.000e+00,\n",
       "        1.000e+00, 0.000e+00, 0.000e+00, 2.000e+01]),\n",
       " array([1.500000e-03, 6.001350e+00, 1.200120e+01, 1.800105e+01,\n",
       "        2.400090e+01, 3.000075e+01, 3.600060e+01, 4.200045e+01,\n",
       "        4.800030e+01, 5.400015e+01, 6.000000e+01]),\n",
       " <a list of 10 Patch objects>)"
      ]
     },
     "execution_count": 82,
     "metadata": {},
     "output_type": "execute_result"
    },
    {
     "data": {
      "image/png": "[encoded data removed]",
      "text/plain": [
       "<matplotlib.figure.Figure at 0x1a2a43e4e0>"
      ]
     },
     "metadata": {},
     "output_type": "display_data"
    }
   ],
   "source": [
    "plt.hist(ad_df.loc[:, \"aratio continuous\"])"
   ]
  },
  {
   "cell_type": "code",
   "execution_count": 83,
   "metadata": {},
   "outputs": [
    {
     "name": "stdout",
     "output_type": "stream",
     "text": [
      "13.809091493987335\n"
     ]
    }
   ],
   "source": [
    "## The high limit for acceptable values is the mean plus 2 standard deviations\n",
    "LimitHi = ad_df.loc[:, \"aratio continuous\"].mean() + 2*(ad_df.loc[:, \"aratio continuous\"].std())\n",
    "print(LimitHi)"
   ]
  },
  {
   "cell_type": "code",
   "execution_count": 84,
   "metadata": {},
   "outputs": [],
   "source": [
    "#Replace outliers\n",
    "TooHigh = ad_df.loc[:, \"aratio continuous\"] > LimitHi\n",
    "ad_df.loc[TooHigh, \"aratio continuous\"] = LimitHi"
   ]
  },
  {
   "cell_type": "code",
   "execution_count": 85,
   "metadata": {},
   "outputs": [
    {
     "data": {
      "text/plain": [
       "(array([9.08e+02, 1.32e+03, 2.87e+02, 2.13e+02, 8.70e+01, 2.84e+02,\n",
       "        1.21e+02, 2.50e+01, 1.00e+00, 3.30e+01]),\n",
       " array([1.50000000e-03, 1.38225915e+00, 2.76301830e+00, 4.14377745e+00,\n",
       "        5.52453660e+00, 6.90529575e+00, 8.28605490e+00, 9.66681405e+00,\n",
       "        1.10475732e+01, 1.24283323e+01, 1.38090915e+01]),\n",
       " <a list of 10 Patch objects>)"
      ]
     },
     "execution_count": 85,
     "metadata": {},
     "output_type": "execute_result"
    },
    {
     "data": {
      "image/png": "[encoded data removed]",
      "text/plain": [
       "<matplotlib.figure.Figure at 0x1a294cba58>"
      ]
     },
     "metadata": {},
     "output_type": "display_data"
    }
   ],
   "source": [
    "plt.hist(ad_df.loc[:, \"aratio continuous\"])"
   ]
  },
  {
   "cell_type": "code",
   "execution_count": 86,
   "metadata": {},
   "outputs": [],
   "source": [
    "# Coerce to numeric and impute medians for local column\n",
    "ad_df.loc[:, \"local\"] = pd.to_numeric(ad_df.loc[:, \"local\"], errors='coerce')\n",
    "HasNan = np.isnan(ad_df.loc[:,\"local\"])\n",
    "ad_df.loc[HasNan, \"local\"] = np.nanmedian(ad_df.loc[:,\"local\"])"
   ]
  },
  {
   "cell_type": "code",
   "execution_count": 87,
   "metadata": {},
   "outputs": [
    {
     "data": {
      "text/plain": [
       "int64      1554\n",
       "float64       4\n",
       "object        1\n",
       "dtype: int64"
      ]
     },
     "execution_count": 87,
     "metadata": {},
     "output_type": "execute_result"
    }
   ],
   "source": [
    "#check data type counts\n",
    "ad_df.dtypes.value_counts()"
   ]
  },
  {
   "cell_type": "code",
   "execution_count": 88,
   "metadata": {},
   "outputs": [
    {
     "data": {
      "text/html": [
       "<div>\n",
       "<style scoped>\n",
       "    .dataframe tbody tr th:only-of-type {\n",
       "        vertical-align: middle;\n",
       "    }\n",
       "\n",
       "    .dataframe tbody tr th {\n",
       "        vertical-align: top;\n",
       "    }\n",
       "\n",
       "    .dataframe thead th {\n",
       "        text-align: right;\n",
       "    }\n",
       "</style>\n",
       "<table border=\"1\" class=\"dataframe\">\n",
       "  <thead>\n",
       "    <tr style=\"text-align: right;\">\n",
       "      <th></th>\n",
       "      <th>height continuous</th>\n",
       "      <th>width continuous</th>\n",
       "      <th>aratio continuous</th>\n",
       "      <th>local</th>\n",
       "      <th>url_images+buttons</th>\n",
       "      <th>url_likesbookscom</th>\n",
       "      <th>url_wwwslakecom</th>\n",
       "      <th>url_hydrogeologist</th>\n",
       "      <th>url_oso</th>\n",
       "      <th>url_media</th>\n",
       "      <th>...</th>\n",
       "      <th>caption_home</th>\n",
       "      <th>caption_my</th>\n",
       "      <th>caption_your</th>\n",
       "      <th>caption_in</th>\n",
       "      <th>caption_bytes</th>\n",
       "      <th>caption_here</th>\n",
       "      <th>caption_click</th>\n",
       "      <th>caption_for</th>\n",
       "      <th>caption_you</th>\n",
       "      <th>ad nonad</th>\n",
       "    </tr>\n",
       "  </thead>\n",
       "  <tbody>\n",
       "    <tr>\n",
       "      <th>0</th>\n",
       "      <td>125.0</td>\n",
       "      <td>125.0</td>\n",
       "      <td>1.0000</td>\n",
       "      <td>1.0</td>\n",
       "      <td>0</td>\n",
       "      <td>0</td>\n",
       "      <td>0</td>\n",
       "      <td>0</td>\n",
       "      <td>0</td>\n",
       "      <td>0</td>\n",
       "      <td>...</td>\n",
       "      <td>0</td>\n",
       "      <td>0</td>\n",
       "      <td>0</td>\n",
       "      <td>0</td>\n",
       "      <td>0</td>\n",
       "      <td>0</td>\n",
       "      <td>0</td>\n",
       "      <td>0</td>\n",
       "      <td>0</td>\n",
       "      <td>ad</td>\n",
       "    </tr>\n",
       "    <tr>\n",
       "      <th>1</th>\n",
       "      <td>57.0</td>\n",
       "      <td>468.0</td>\n",
       "      <td>8.2105</td>\n",
       "      <td>1.0</td>\n",
       "      <td>0</td>\n",
       "      <td>0</td>\n",
       "      <td>0</td>\n",
       "      <td>0</td>\n",
       "      <td>0</td>\n",
       "      <td>0</td>\n",
       "      <td>...</td>\n",
       "      <td>0</td>\n",
       "      <td>0</td>\n",
       "      <td>0</td>\n",
       "      <td>0</td>\n",
       "      <td>0</td>\n",
       "      <td>0</td>\n",
       "      <td>0</td>\n",
       "      <td>0</td>\n",
       "      <td>0</td>\n",
       "      <td>ad</td>\n",
       "    </tr>\n",
       "    <tr>\n",
       "      <th>2</th>\n",
       "      <td>33.0</td>\n",
       "      <td>230.0</td>\n",
       "      <td>6.9696</td>\n",
       "      <td>1.0</td>\n",
       "      <td>0</td>\n",
       "      <td>0</td>\n",
       "      <td>0</td>\n",
       "      <td>0</td>\n",
       "      <td>0</td>\n",
       "      <td>0</td>\n",
       "      <td>...</td>\n",
       "      <td>0</td>\n",
       "      <td>0</td>\n",
       "      <td>0</td>\n",
       "      <td>0</td>\n",
       "      <td>0</td>\n",
       "      <td>0</td>\n",
       "      <td>0</td>\n",
       "      <td>0</td>\n",
       "      <td>0</td>\n",
       "      <td>ad</td>\n",
       "    </tr>\n",
       "    <tr>\n",
       "      <th>3</th>\n",
       "      <td>60.0</td>\n",
       "      <td>468.0</td>\n",
       "      <td>7.8000</td>\n",
       "      <td>1.0</td>\n",
       "      <td>0</td>\n",
       "      <td>0</td>\n",
       "      <td>0</td>\n",
       "      <td>0</td>\n",
       "      <td>0</td>\n",
       "      <td>0</td>\n",
       "      <td>...</td>\n",
       "      <td>0</td>\n",
       "      <td>0</td>\n",
       "      <td>0</td>\n",
       "      <td>0</td>\n",
       "      <td>0</td>\n",
       "      <td>0</td>\n",
       "      <td>0</td>\n",
       "      <td>0</td>\n",
       "      <td>0</td>\n",
       "      <td>ad</td>\n",
       "    </tr>\n",
       "    <tr>\n",
       "      <th>4</th>\n",
       "      <td>60.0</td>\n",
       "      <td>468.0</td>\n",
       "      <td>7.8000</td>\n",
       "      <td>1.0</td>\n",
       "      <td>0</td>\n",
       "      <td>0</td>\n",
       "      <td>0</td>\n",
       "      <td>0</td>\n",
       "      <td>0</td>\n",
       "      <td>0</td>\n",
       "      <td>...</td>\n",
       "      <td>0</td>\n",
       "      <td>0</td>\n",
       "      <td>0</td>\n",
       "      <td>0</td>\n",
       "      <td>0</td>\n",
       "      <td>0</td>\n",
       "      <td>0</td>\n",
       "      <td>0</td>\n",
       "      <td>0</td>\n",
       "      <td>ad</td>\n",
       "    </tr>\n",
       "  </tbody>\n",
       "</table>\n",
       "<p>5 rows × 1559 columns</p>\n",
       "</div>"
      ],
      "text/plain": [
       "   height continuous  width continuous  aratio continuous  local  \\\n",
       "0              125.0             125.0             1.0000    1.0   \n",
       "1               57.0             468.0             8.2105    1.0   \n",
       "2               33.0             230.0             6.9696    1.0   \n",
       "3               60.0             468.0             7.8000    1.0   \n",
       "4               60.0             468.0             7.8000    1.0   \n",
       "\n",
       "   url_images+buttons  url_likesbookscom  url_wwwslakecom  url_hydrogeologist  \\\n",
       "0                   0                  0                0                   0   \n",
       "1                   0                  0                0                   0   \n",
       "2                   0                  0                0                   0   \n",
       "3                   0                  0                0                   0   \n",
       "4                   0                  0                0                   0   \n",
       "\n",
       "   url_oso  url_media    ...     caption_home  caption_my  caption_your  \\\n",
       "0        0          0    ...                0           0             0   \n",
       "1        0          0    ...                0           0             0   \n",
       "2        0          0    ...                0           0             0   \n",
       "3        0          0    ...                0           0             0   \n",
       "4        0          0    ...                0           0             0   \n",
       "\n",
       "   caption_in  caption_bytes  caption_here  caption_click  caption_for  \\\n",
       "0           0              0             0              0            0   \n",
       "1           0              0             0              0            0   \n",
       "2           0              0             0              0            0   \n",
       "3           0              0             0              0            0   \n",
       "4           0              0             0              0            0   \n",
       "\n",
       "   caption_you  ad nonad  \n",
       "0            0        ad  \n",
       "1            0        ad  \n",
       "2            0        ad  \n",
       "3            0        ad  \n",
       "4            0        ad  \n",
       "\n",
       "[5 rows x 1559 columns]"
      ]
     },
     "execution_count": 88,
     "metadata": {},
     "output_type": "execute_result"
    }
   ],
   "source": [
    "ad_df.head()"
   ]
  },
  {
   "cell_type": "code",
   "execution_count": 89,
   "metadata": {},
   "outputs": [
    {
     "data": {
      "text/plain": [
       "<matplotlib.axes._subplots.AxesSubplot at 0x1a2a17e358>"
      ]
     },
     "execution_count": 89,
     "metadata": {},
     "output_type": "execute_result"
    },
    {
     "data": {
      "image/png": "[encoded data removed]",
      "text/plain": [
       "<matplotlib.figure.Figure at 0x1a2a5d4cc0>"
      ]
     },
     "metadata": {},
     "output_type": "display_data"
    }
   ],
   "source": [
    "# plot the counts for each category\n",
    "ad_df.loc[:,\"ad nonad\"].value_counts().plot(kind='bar')"
   ]
  },
  {
   "cell_type": "code",
   "execution_count": 90,
   "metadata": {},
   "outputs": [],
   "source": [
    "#create new numeric colmns\n",
    "ad_df.loc[:,\"ad\"] = (ad_df.loc[:,\"ad nonad\"] == \"ad\").astype(int)\n",
    "ad_df.loc[:,\"nonad\"] = (ad_df.loc[:,\"ad nonad\"] == \"nonad\").astype(int)"
   ]
  },
  {
   "cell_type": "code",
   "execution_count": 91,
   "metadata": {},
   "outputs": [],
   "source": [
    "# Remove obsolete column \"ad nonad\"\n",
    "ad_df = ad_df.drop(\"ad nonad\", axis=1)"
   ]
  },
  {
   "cell_type": "markdown",
   "metadata": {},
   "source": [
    "### Normalization"
   ]
  },
  {
   "cell_type": "code",
   "execution_count": 92,
   "metadata": {},
   "outputs": [],
   "source": [
    "#columns to apply z-normalization aka standardization\n",
    "p = ad_df[['height continuous','width continuous','aratio continuous']]"
   ]
  },
  {
   "cell_type": "code",
   "execution_count": 93,
   "metadata": {},
   "outputs": [],
   "source": [
    "#standardization - change the variable so that it’s mean is equal to 0.0 and its standard dev is equal to 1.0\n",
    "standardization_scale = StandardScaler().fit(p)"
   ]
  },
  {
   "cell_type": "code",
   "execution_count": 94,
   "metadata": {},
   "outputs": [],
   "source": [
    "z = standardization_scale.transform(p)"
   ]
  },
  {
   "cell_type": "code",
   "execution_count": 95,
   "metadata": {},
   "outputs": [],
   "source": [
    "hc_scaled = pd.DataFrame(z)"
   ]
  },
  {
   "cell_type": "code",
   "execution_count": 96,
   "metadata": {},
   "outputs": [],
   "source": [
    "ad_df[['height continuous','width continuous','aratio continuous']] = hc_scaled"
   ]
  },
  {
   "cell_type": "code",
   "execution_count": 97,
   "metadata": {},
   "outputs": [],
   "source": [
    "#Drop 'nonad' column. 'ad' will be the target\n",
    "ad_df = ad_df.drop(\"nonad\", axis=1)"
   ]
  },
  {
   "cell_type": "code",
   "execution_count": 98,
   "metadata": {},
   "outputs": [
    {
     "data": {
      "text/html": [
       "<div>\n",
       "<style scoped>\n",
       "    .dataframe tbody tr th:only-of-type {\n",
       "        vertical-align: middle;\n",
       "    }\n",
       "\n",
       "    .dataframe tbody tr th {\n",
       "        vertical-align: top;\n",
       "    }\n",
       "\n",
       "    .dataframe thead th {\n",
       "        text-align: right;\n",
       "    }\n",
       "</style>\n",
       "<table border=\"1\" class=\"dataframe\">\n",
       "  <thead>\n",
       "    <tr style=\"text-align: right;\">\n",
       "      <th></th>\n",
       "      <th>height continuous</th>\n",
       "      <th>width continuous</th>\n",
       "      <th>aratio continuous</th>\n",
       "      <th>local</th>\n",
       "      <th>url_images+buttons</th>\n",
       "      <th>url_likesbookscom</th>\n",
       "      <th>url_wwwslakecom</th>\n",
       "      <th>url_hydrogeologist</th>\n",
       "      <th>url_oso</th>\n",
       "      <th>url_media</th>\n",
       "      <th>...</th>\n",
       "      <th>caption_home</th>\n",
       "      <th>caption_my</th>\n",
       "      <th>caption_your</th>\n",
       "      <th>caption_in</th>\n",
       "      <th>caption_bytes</th>\n",
       "      <th>caption_here</th>\n",
       "      <th>caption_click</th>\n",
       "      <th>caption_for</th>\n",
       "      <th>caption_you</th>\n",
       "      <th>ad</th>\n",
       "    </tr>\n",
       "  </thead>\n",
       "  <tbody>\n",
       "    <tr>\n",
       "      <th>0</th>\n",
       "      <td>1.817265</td>\n",
       "      <td>-0.158911</td>\n",
       "      <td>-0.804119</td>\n",
       "      <td>1.0</td>\n",
       "      <td>0</td>\n",
       "      <td>0</td>\n",
       "      <td>0</td>\n",
       "      <td>0</td>\n",
       "      <td>0</td>\n",
       "      <td>0</td>\n",
       "      <td>...</td>\n",
       "      <td>0</td>\n",
       "      <td>0</td>\n",
       "      <td>0</td>\n",
       "      <td>0</td>\n",
       "      <td>0</td>\n",
       "      <td>0</td>\n",
       "      <td>0</td>\n",
       "      <td>0</td>\n",
       "      <td>0</td>\n",
       "      <td>1</td>\n",
       "    </tr>\n",
       "    <tr>\n",
       "      <th>1</th>\n",
       "      <td>-0.025925</td>\n",
       "      <td>2.888693</td>\n",
       "      <td>1.967350</td>\n",
       "      <td>1.0</td>\n",
       "      <td>0</td>\n",
       "      <td>0</td>\n",
       "      <td>0</td>\n",
       "      <td>0</td>\n",
       "      <td>0</td>\n",
       "      <td>0</td>\n",
       "      <td>...</td>\n",
       "      <td>0</td>\n",
       "      <td>0</td>\n",
       "      <td>0</td>\n",
       "      <td>0</td>\n",
       "      <td>0</td>\n",
       "      <td>0</td>\n",
       "      <td>0</td>\n",
       "      <td>0</td>\n",
       "      <td>0</td>\n",
       "      <td>1</td>\n",
       "    </tr>\n",
       "    <tr>\n",
       "      <th>2</th>\n",
       "      <td>-0.676463</td>\n",
       "      <td>0.774029</td>\n",
       "      <td>1.490390</td>\n",
       "      <td>1.0</td>\n",
       "      <td>0</td>\n",
       "      <td>0</td>\n",
       "      <td>0</td>\n",
       "      <td>0</td>\n",
       "      <td>0</td>\n",
       "      <td>0</td>\n",
       "      <td>...</td>\n",
       "      <td>0</td>\n",
       "      <td>0</td>\n",
       "      <td>0</td>\n",
       "      <td>0</td>\n",
       "      <td>0</td>\n",
       "      <td>0</td>\n",
       "      <td>0</td>\n",
       "      <td>0</td>\n",
       "      <td>0</td>\n",
       "      <td>1</td>\n",
       "    </tr>\n",
       "    <tr>\n",
       "      <th>3</th>\n",
       "      <td>0.055392</td>\n",
       "      <td>2.888693</td>\n",
       "      <td>1.809568</td>\n",
       "      <td>1.0</td>\n",
       "      <td>0</td>\n",
       "      <td>0</td>\n",
       "      <td>0</td>\n",
       "      <td>0</td>\n",
       "      <td>0</td>\n",
       "      <td>0</td>\n",
       "      <td>...</td>\n",
       "      <td>0</td>\n",
       "      <td>0</td>\n",
       "      <td>0</td>\n",
       "      <td>0</td>\n",
       "      <td>0</td>\n",
       "      <td>0</td>\n",
       "      <td>0</td>\n",
       "      <td>0</td>\n",
       "      <td>0</td>\n",
       "      <td>1</td>\n",
       "    </tr>\n",
       "    <tr>\n",
       "      <th>4</th>\n",
       "      <td>0.055392</td>\n",
       "      <td>2.888693</td>\n",
       "      <td>1.809568</td>\n",
       "      <td>1.0</td>\n",
       "      <td>0</td>\n",
       "      <td>0</td>\n",
       "      <td>0</td>\n",
       "      <td>0</td>\n",
       "      <td>0</td>\n",
       "      <td>0</td>\n",
       "      <td>...</td>\n",
       "      <td>0</td>\n",
       "      <td>0</td>\n",
       "      <td>0</td>\n",
       "      <td>0</td>\n",
       "      <td>0</td>\n",
       "      <td>0</td>\n",
       "      <td>0</td>\n",
       "      <td>0</td>\n",
       "      <td>0</td>\n",
       "      <td>1</td>\n",
       "    </tr>\n",
       "  </tbody>\n",
       "</table>\n",
       "<p>5 rows × 1559 columns</p>\n",
       "</div>"
      ],
      "text/plain": [
       "   height continuous  width continuous  aratio continuous  local  \\\n",
       "0           1.817265         -0.158911          -0.804119    1.0   \n",
       "1          -0.025925          2.888693           1.967350    1.0   \n",
       "2          -0.676463          0.774029           1.490390    1.0   \n",
       "3           0.055392          2.888693           1.809568    1.0   \n",
       "4           0.055392          2.888693           1.809568    1.0   \n",
       "\n",
       "   url_images+buttons  url_likesbookscom  url_wwwslakecom  url_hydrogeologist  \\\n",
       "0                   0                  0                0                   0   \n",
       "1                   0                  0                0                   0   \n",
       "2                   0                  0                0                   0   \n",
       "3                   0                  0                0                   0   \n",
       "4                   0                  0                0                   0   \n",
       "\n",
       "   url_oso  url_media ...  caption_home  caption_my  caption_your  caption_in  \\\n",
       "0        0          0 ...             0           0             0           0   \n",
       "1        0          0 ...             0           0             0           0   \n",
       "2        0          0 ...             0           0             0           0   \n",
       "3        0          0 ...             0           0             0           0   \n",
       "4        0          0 ...             0           0             0           0   \n",
       "\n",
       "   caption_bytes  caption_here  caption_click  caption_for  caption_you  ad  \n",
       "0              0             0              0            0            0   1  \n",
       "1              0             0              0            0            0   1  \n",
       "2              0             0              0            0            0   1  \n",
       "3              0             0              0            0            0   1  \n",
       "4              0             0              0            0            0   1  \n",
       "\n",
       "[5 rows x 1559 columns]"
      ]
     },
     "execution_count": 98,
     "metadata": {},
     "output_type": "execute_result"
    }
   ],
   "source": [
    "ad_df.head()"
   ]
  },
  {
   "cell_type": "markdown",
   "metadata": {},
   "source": [
    "### Export data"
   ]
  },
  {
   "cell_type": "code",
   "execution_count": 99,
   "metadata": {},
   "outputs": [],
   "source": [
    "#dataframe to csv\n",
    "ad_df.to_csv('InternetAd_Dataset.csv', index=None)"
   ]
  },
  {
   "cell_type": "markdown",
   "metadata": {},
   "source": [
    "### Data Modeling"
   ]
  },
  {
   "cell_type": "markdown",
   "metadata": {},
   "source": [
    "### Split dataset - training/test"
   ]
  },
  {
   "cell_type": "code",
   "execution_count": 100,
   "metadata": {},
   "outputs": [],
   "source": [
    "def split_dataset(data, r): # split a dataset\n",
    "\tN = len(data)\n",
    "\tX = []\n",
    "\tY = []\n",
    "\t\n",
    "\tif r >= 1: \n",
    "\t\tprint (\"Parameter r needs to be smaller than 1!\")\n",
    "\t\treturn\n",
    "\telif r <= 0:\n",
    "\t\tprint (\"Parameter r needs to be larger than 0!\")\n",
    "\t\treturn\n",
    "\n",
    "\tn = int(round(N*r)) # number of elements in testing sample\n",
    "\tnt = N - n # number of elements in training sample\n",
    "\tind = -np.ones(n,int) # indexes for testing sample\n",
    "\tR = np.random.randint(N) # some random index from the whole dataset\n",
    "\t\n",
    "\tfor i in range(n):\n",
    "\t\twhile R in ind: R = np.random.randint(N) # ensure that the random index hasn't been used before\n",
    "\t\tind[i] = R\n",
    "\n",
    "\tind_ = list(set(range(N)).difference(ind)) # remaining indexes\t\n",
    "\tX = data[ind_,:-1] # training features\n",
    "\tXX = data[ind,:-1] # testing features\n",
    "\tY = data[ind_,-1] # training targets\n",
    "\tYY = data[ind,-1] # testing targests\n",
    "\treturn X, XX, Y, YY"
   ]
  },
  {
   "cell_type": "code",
   "execution_count": 101,
   "metadata": {},
   "outputs": [],
   "source": [
    "r = 0.2 # ratio of test data over all data (this can be changed to any number between 0.0 and 1.0 (not inclusive)\n",
    "dataset = np.genfromtxt('InternetAd_Dataset.csv', delimiter=\",\", skip_header=1)\n",
    "X, XX, Y, YY = split_dataset(dataset, r)"
   ]
  },
  {
   "cell_type": "markdown",
   "metadata": {},
   "source": [
    "### Train model"
   ]
  },
  {
   "cell_type": "code",
   "execution_count": 102,
   "metadata": {},
   "outputs": [],
   "source": [
    "\"\"\" CLASSIFICATION MODELS \"\"\"\n",
    "# Logistic regression classifier\n",
    "C_parameter = 50. / len(X) # parameter for regularization of the model\n",
    "class_parameter = 'ovr' # parameter for dealing with multiple classes\n",
    "penalty_parameter = 'l1' # parameter for the optimizer (solver) in the function\n",
    "solver_parameter = 'saga' # optimization system used\n",
    "tolerance_parameter = 0.1 # termination parameter"
   ]
  },
  {
   "cell_type": "code",
   "execution_count": 103,
   "metadata": {},
   "outputs": [
    {
     "name": "stdout",
     "output_type": "stream",
     "text": [
      "coefficients:\n",
      "[[0.00814579 0.87244303 0.0077207  ... 0.         0.         0.        ]]\n",
      "intercept:\n",
      "[-2.38842587]\n",
      "predictions for test set:\n",
      "[0. 0. 0. 0. 0. 1. 1. 0. 0. 0. 1. 1. 0. 0. 0. 0. 0. 0. 0. 0. 0. 0. 0. 0.\n",
      " 1. 0. 0. 0. 0. 1. 0. 0. 0. 0. 0. 1. 0. 0. 0. 0. 0. 0. 0. 1. 1. 0. 0. 0.\n",
      " 0. 0. 0. 0. 0. 1. 0. 0. 0. 0. 0. 0. 0. 0. 0. 0. 0. 0. 0. 0. 0. 0. 0. 0.\n",
      " 0. 0. 0. 0. 0. 0. 0. 0. 0. 1. 0. 0. 0. 0. 0. 0. 0. 0. 0. 0. 0. 0. 0. 0.\n",
      " 0. 0. 0. 0. 0. 0. 0. 0. 0. 0. 0. 0. 0. 0. 0. 0. 0. 0. 0. 0. 0. 0. 0. 0.\n",
      " 0. 0. 0. 0. 0. 0. 0. 0. 0. 0. 0. 0. 0. 0. 0. 0. 0. 0. 0. 1. 1. 0. 0. 1.\n",
      " 0. 0. 0. 0. 0. 0. 0. 0. 0. 0. 0. 0. 0. 0. 0. 0. 0. 0. 0. 0. 0. 0. 1. 1.\n",
      " 0. 0. 1. 0. 0. 1. 0. 0. 0. 0. 0. 0. 0. 0. 1. 0. 0. 0. 0. 0. 0. 0. 0. 0.\n",
      " 0. 0. 0. 0. 0. 0. 0. 0. 0. 0. 0. 0. 1. 0. 0. 0. 0. 0. 0. 0. 0. 0. 0. 0.\n",
      " 0. 0. 0. 0. 0. 0. 0. 0. 0. 0. 0. 0. 0. 0. 1. 0. 0. 0. 0. 0. 0. 0. 0. 0.\n",
      " 0. 0. 0. 0. 0. 0. 0. 0. 0. 0. 0. 0. 1. 0. 0. 0. 0. 0. 0. 0. 0. 0. 0. 0.\n",
      " 0. 0. 0. 0. 0. 0. 0. 0. 0. 0. 0. 0. 0. 0. 0. 0. 0. 0. 0. 0. 0. 0. 0. 0.\n",
      " 0. 0. 0. 0. 1. 0. 0. 0. 0. 0. 0. 0. 0. 0. 0. 1. 0. 0. 0. 0. 0. 0. 0. 0.\n",
      " 0. 1. 0. 0. 0. 0. 0. 0. 0. 0. 0. 0. 0. 0. 0. 0. 0. 0. 0. 0. 0. 1. 0. 0.\n",
      " 0. 0. 0. 0. 0. 0. 1. 0. 0. 0. 0. 0. 0. 0. 1. 0. 0. 0. 0. 0. 0. 0. 0. 0.\n",
      " 0. 0. 0. 0. 0. 0. 0. 0. 0. 0. 0. 0. 1. 0. 0. 0. 0. 0. 0. 0. 0. 0. 1. 1.\n",
      " 0. 0. 0. 0. 1. 0. 1. 0. 0. 0. 0. 0. 0. 0. 1. 0. 0. 0. 0. 0. 0. 1. 0. 0.\n",
      " 0. 0. 0. 0. 0. 0. 0. 1. 0. 0. 0. 0. 0. 0. 0. 0. 0. 0. 0. 0. 0. 0. 0. 1.\n",
      " 0. 0. 0. 0. 0. 0. 0. 1. 0. 0. 0. 0. 0. 0. 0. 0. 0. 0. 0. 1. 0. 0. 1. 0.\n",
      " 0. 0. 0. 1. 0. 0. 0. 0. 0. 0. 0. 0. 0. 1. 0. 0. 0. 0. 0. 0. 0. 0. 0. 0.\n",
      " 0. 0. 0. 0. 0. 0. 0. 0. 0. 0. 0. 0. 0. 0. 0. 0. 0. 0. 0. 0. 0. 0. 0. 0.\n",
      " 0. 0. 0. 0. 0. 0. 0. 0. 0. 0. 0. 0. 0. 0. 0. 0. 0. 0. 0. 1. 0. 0. 0. 0.\n",
      " 0. 0. 0. 0. 0. 0. 0. 0. 0. 0. 0. 0. 0. 0. 1. 0. 0. 0. 0. 0. 0. 0. 1. 0.\n",
      " 0. 0. 0. 0. 0. 0. 0. 0. 0. 1. 0. 1. 0. 1. 0. 0. 0. 0. 0. 0. 0. 1. 1. 0.\n",
      " 0. 0. 0. 0. 1. 1. 0. 0. 0. 0. 0. 0. 1. 0. 0. 0. 0. 0. 0. 0. 0. 0. 0. 0.\n",
      " 1. 0. 0. 0. 0. 0. 0. 0. 0. 0. 0. 0. 0. 0. 0. 0. 1. 0. 0. 0. 0. 0. 0. 0.\n",
      " 0. 1. 0. 0. 0. 0. 0. 0. 1. 0. 0. 0. 0. 0. 0. 0. 0. 0. 0. 0. 0. 0. 0. 0.\n",
      " 0. 0. 0. 0. 0. 0. 0. 0.]\n",
      "actual class values:\n",
      "[0. 0. 0. 1. 0. 0. 1. 0. 1. 0. 1. 1. 0. 0. 0. 0. 0. 0. 0. 0. 0. 0. 1. 0.\n",
      " 1. 0. 0. 0. 0. 1. 0. 0. 0. 0. 0. 1. 0. 0. 0. 0. 0. 0. 1. 1. 1. 0. 0. 0.\n",
      " 0. 0. 0. 0. 0. 1. 1. 0. 0. 0. 0. 0. 1. 0. 0. 0. 0. 0. 0. 0. 0. 0. 0. 0.\n",
      " 0. 0. 0. 0. 0. 0. 0. 0. 0. 1. 1. 0. 1. 0. 0. 0. 0. 1. 0. 0. 0. 0. 0. 0.\n",
      " 0. 0. 1. 0. 0. 0. 0. 0. 0. 0. 0. 0. 0. 0. 0. 0. 0. 0. 0. 0. 0. 0. 0. 0.\n",
      " 0. 0. 0. 0. 0. 0. 0. 0. 0. 0. 0. 0. 0. 0. 0. 0. 0. 0. 0. 1. 1. 0. 0. 1.\n",
      " 0. 0. 0. 0. 1. 0. 1. 0. 0. 1. 1. 0. 0. 1. 0. 0. 0. 1. 0. 0. 0. 0. 1. 1.\n",
      " 0. 1. 1. 1. 0. 1. 0. 0. 0. 0. 0. 0. 0. 1. 1. 0. 1. 0. 0. 0. 0. 0. 0. 0.\n",
      " 0. 0. 0. 0. 0. 0. 1. 0. 0. 0. 0. 0. 0. 0. 0. 0. 1. 0. 0. 0. 0. 0. 0. 0.\n",
      " 0. 0. 0. 0. 0. 0. 0. 0. 0. 0. 0. 0. 0. 0. 1. 0. 0. 0. 0. 0. 0. 0. 0. 0.\n",
      " 0. 0. 0. 0. 0. 0. 0. 1. 0. 0. 0. 1. 1. 0. 0. 0. 0. 0. 1. 0. 0. 0. 0. 0.\n",
      " 0. 0. 0. 0. 0. 0. 0. 0. 0. 0. 0. 0. 0. 0. 0. 0. 0. 0. 0. 0. 0. 0. 0. 0.\n",
      " 0. 0. 0. 0. 1. 0. 0. 0. 0. 0. 0. 0. 0. 0. 0. 1. 1. 0. 0. 0. 0. 0. 0. 0.\n",
      " 0. 1. 0. 0. 0. 0. 0. 0. 0. 0. 0. 0. 0. 0. 0. 0. 0. 0. 0. 0. 0. 1. 0. 0.\n",
      " 0. 0. 0. 0. 0. 0. 1. 0. 0. 0. 0. 0. 0. 0. 1. 0. 0. 0. 0. 0. 1. 0. 0. 0.\n",
      " 0. 0. 0. 0. 0. 0. 0. 0. 0. 0. 0. 0. 1. 0. 0. 0. 0. 0. 0. 0. 0. 0. 0. 1.\n",
      " 0. 0. 0. 1. 1. 0. 1. 0. 0. 0. 0. 0. 0. 0. 1. 0. 0. 1. 0. 0. 0. 1. 0. 0.\n",
      " 0. 0. 0. 0. 0. 0. 0. 0. 0. 1. 0. 0. 0. 0. 0. 0. 0. 0. 0. 0. 0. 0. 0. 1.\n",
      " 0. 0. 0. 0. 0. 0. 0. 0. 0. 0. 0. 0. 0. 0. 0. 0. 1. 0. 0. 1. 0. 0. 1. 0.\n",
      " 0. 0. 0. 1. 0. 0. 1. 0. 0. 0. 0. 0. 0. 1. 0. 0. 1. 0. 0. 1. 0. 0. 0. 1.\n",
      " 0. 0. 0. 0. 0. 0. 1. 1. 0. 0. 0. 0. 0. 0. 0. 1. 0. 0. 0. 0. 0. 0. 0. 0.\n",
      " 0. 0. 0. 0. 0. 0. 0. 0. 0. 0. 1. 0. 0. 0. 0. 1. 0. 0. 0. 0. 0. 0. 0. 1.\n",
      " 0. 0. 0. 0. 1. 0. 0. 0. 0. 0. 0. 0. 1. 1. 1. 0. 0. 0. 0. 0. 0. 1. 1. 0.\n",
      " 0. 0. 0. 0. 0. 0. 1. 0. 0. 0. 0. 1. 0. 1. 1. 1. 0. 0. 0. 0. 0. 0. 1. 0.\n",
      " 0. 0. 0. 1. 1. 1. 0. 0. 0. 0. 0. 0. 1. 0. 0. 0. 0. 1. 0. 0. 0. 0. 0. 0.\n",
      " 1. 0. 1. 0. 0. 0. 0. 0. 0. 0. 0. 0. 0. 0. 0. 0. 1. 0. 0. 0. 0. 0. 0. 0.\n",
      " 0. 1. 0. 0. 1. 0. 0. 0. 1. 0. 0. 1. 0. 0. 0. 0. 0. 0. 0. 0. 0. 0. 0. 1.\n",
      " 0. 1. 0. 0. 0. 0. 0. 0.]\n"
     ]
    }
   ],
   "source": [
    "#Training the Model\n",
    "clf = LogisticRegression(C=C_parameter, multi_class=class_parameter, penalty=penalty_parameter, solver=solver_parameter, tol=tolerance_parameter)\n",
    "clf.fit(X, Y) \n",
    "print ('coefficients:')\n",
    "print (clf.coef_) # each row of this matrix corresponds to each one of the classes of the dataset\n",
    "print ('intercept:')\n",
    "print (clf.intercept_) # each element of this vector corresponds to each one of the classes of the dataset\n",
    "\n",
    "# Apply the Model\n",
    "print ('predictions for test set:')\n",
    "print (clf.predict(XX))\n",
    "print ('actual class values:')\n",
    "print (YY)"
   ]
  },
  {
   "cell_type": "markdown",
   "metadata": {},
   "source": [
    "### Assess model"
   ]
  },
  {
   "cell_type": "code",
   "execution_count": 104,
   "metadata": {},
   "outputs": [],
   "source": [
    "Y = (clf.predict(XX))\n",
    "T = (YY)"
   ]
  },
  {
   "cell_type": "code",
   "execution_count": 105,
   "metadata": {},
   "outputs": [
    {
     "name": "stdout",
     "output_type": "stream",
     "text": [
      "\n",
      "\n",
      "Confusion matrix:\n",
      " [[544   8]\n",
      " [ 55  49]]\n",
      "\n",
      "TP, TN, FP, FN: 49 , 544 , 8 , 55\n",
      "\n",
      "Accuracy rate: 0.9039634146341463\n",
      "\n",
      "Error rate: 0.09603658536585369\n",
      "\n",
      "Precision: 0.86\n",
      "\n",
      "Recall: 0.47\n",
      "\n",
      "F1 score: 0.61\n"
     ]
    }
   ],
   "source": [
    "# Confusion Matrix\n",
    "CM = confusion_matrix(T, Y)\n",
    "print (\"\\n\\nConfusion matrix:\\n\", CM)\n",
    "tn, fp, fn, tp = CM.ravel()\n",
    "print (\"\\nTP, TN, FP, FN:\", tp, \",\", tn, \",\", fp, \",\", fn)\n",
    "AR = accuracy_score(T, Y)\n",
    "print (\"\\nAccuracy rate:\", AR)\n",
    "ER = 1.0 - AR\n",
    "print (\"\\nError rate:\", ER)\n",
    "P = precision_score(T, Y)\n",
    "print (\"\\nPrecision:\", np.round(P, 2))\n",
    "R = recall_score(T, Y)\n",
    "print (\"\\nRecall:\", np.round(R, 2))\n",
    "F1 = f1_score(T, Y)\n",
    "print (\"\\nF1 score:\", np.round(F1, 2))"
   ]
  },
  {
   "cell_type": "code",
   "execution_count": 106,
   "metadata": {},
   "outputs": [],
   "source": [
    "# ROC analysis\n",
    "LW = 1.5 # line width for plots\n",
    "LL = \"lower right\" # legend location\n",
    "LC = 'green' # Line Color"
   ]
  },
  {
   "cell_type": "code",
   "execution_count": 107,
   "metadata": {},
   "outputs": [
    {
     "name": "stdout",
     "output_type": "stream",
     "text": [
      "\n",
      "TP rates: [0.01 0.03 0.06 0.07 0.1  0.14 0.15 0.18 0.21 0.21 0.21 0.21 0.27 0.33\n",
      " 0.45 0.47 0.47 0.49 0.49 0.5  0.55 0.55 0.56 0.56 0.57 0.57 0.58 0.58\n",
      " 0.6  0.6  0.61 0.61 0.62 0.62 0.64 0.64 0.64 0.64 0.64 0.66 0.66 0.67\n",
      " 0.67 0.68 0.68 0.69 0.69 0.7  0.7  0.72 0.72 0.73 0.73 0.74 0.74 0.75\n",
      " 0.75 0.75 0.75 0.75 0.75 0.75 0.75 0.75 0.75 0.75 0.75 0.77 0.77 0.8\n",
      " 0.8  0.82 0.82 0.84 0.85 0.85 0.85 0.85 0.85 0.85 0.85 0.85 0.85 0.85\n",
      " 0.85 0.85 0.85 0.85 0.86 0.86 0.86 0.86 0.9  0.9  0.9  0.94 0.94 0.94\n",
      " 0.94 0.94 0.94 0.94 0.94 0.94 0.94 0.94 0.94 0.94 0.94 0.94 0.94 0.94\n",
      " 0.94 0.94 0.94 0.94 0.94 0.94 0.95 0.95 0.95 0.95 0.95 0.95 0.97 0.97\n",
      " 0.97 0.97 0.99 0.99 0.99 0.99 0.99 0.99 1.   1.   1.   1.   1.   1.\n",
      " 1.   1.   1.   1.   1.   1.   1.   1.   1.  ]\n",
      "\n",
      "FP rates: [0.   0.   0.   0.   0.   0.   0.   0.   0.   0.   0.01 0.01 0.01 0.01\n",
      " 0.01 0.01 0.01 0.01 0.02 0.02 0.02 0.02 0.02 0.02 0.02 0.02 0.02 0.03\n",
      " 0.03 0.03 0.03 0.03 0.03 0.03 0.03 0.04 0.04 0.05 0.05 0.05 0.05 0.05\n",
      " 0.06 0.06 0.07 0.07 0.07 0.07 0.07 0.07 0.07 0.07 0.07 0.07 0.1  0.1\n",
      " 0.12 0.13 0.14 0.14 0.14 0.15 0.16 0.16 0.18 0.19 0.19 0.19 0.19 0.19\n",
      " 0.2  0.2  0.2  0.2  0.2  0.21 0.21 0.22 0.22 0.23 0.24 0.25 0.26 0.27\n",
      " 0.27 0.3  0.31 0.31 0.31 0.32 0.32 0.33 0.55 0.56 0.56 0.62 0.63 0.64\n",
      " 0.64 0.64 0.65 0.65 0.66 0.67 0.67 0.68 0.68 0.69 0.7  0.7  0.71 0.72\n",
      " 0.72 0.74 0.74 0.75 0.75 0.77 0.79 0.8  0.82 0.83 0.85 0.86 0.86 0.86\n",
      " 0.86 0.87 0.87 0.87 0.88 0.89 0.89 0.9  0.9  0.91 0.93 0.93 0.93 0.93\n",
      " 0.94 0.95 0.96 0.96 0.97 0.99 0.99 0.99 1.  ]\n",
      "\n",
      "Probability thresholds: [0.95 0.95 0.93 0.89 0.89 0.89 0.89 0.85 0.78 0.77 0.77 0.75 0.74 0.54\n",
      " 0.54 0.54 0.5  0.48 0.48 0.47 0.46 0.41 0.41 0.4  0.35 0.35 0.35 0.32\n",
      " 0.31 0.29 0.28 0.24 0.23 0.22 0.22 0.2  0.19 0.18 0.18 0.17 0.17 0.17\n",
      " 0.16 0.16 0.16 0.15 0.15 0.15 0.15 0.15 0.14 0.14 0.14 0.14 0.13 0.13\n",
      " 0.12 0.11 0.11 0.11 0.11 0.11 0.11 0.11 0.09 0.09 0.09 0.09 0.09 0.09\n",
      " 0.09 0.09 0.09 0.09 0.09 0.08 0.08 0.08 0.08 0.08 0.08 0.08 0.08 0.08\n",
      " 0.08 0.07 0.07 0.07 0.07 0.07 0.07 0.07 0.07 0.07 0.07 0.07 0.07 0.06\n",
      " 0.06 0.06 0.06 0.06 0.06 0.06 0.06 0.06 0.06 0.06 0.06 0.06 0.06 0.06\n",
      " 0.06 0.06 0.06 0.06 0.06 0.06 0.06 0.06 0.05 0.05 0.05 0.05 0.05 0.05\n",
      " 0.05 0.05 0.05 0.05 0.05 0.04 0.04 0.04 0.04 0.04 0.04 0.04 0.04 0.04\n",
      " 0.04 0.04 0.03 0.03 0.03 0.03 0.03 0.03 0.03]\n"
     ]
    }
   ],
   "source": [
    "preds = clf.predict_proba(XX)[:,1]\n",
    "fpr, tpr, th = roc_curve(T, preds) # False Positive Rate, True Posisive Rate, probability thresholds\n",
    "AUC = auc(fpr, tpr)\n",
    "print (\"\\nTP rates:\", np.round(tpr, 2))\n",
    "print (\"\\nFP rates:\", np.round(fpr, 2))\n",
    "print (\"\\nProbability thresholds:\", np.round(th, 2))"
   ]
  },
  {
   "cell_type": "code",
   "execution_count": 108,
   "metadata": {},
   "outputs": [
    {
     "data": {
      "image/png": "[encoded data removed]",
      "text/plain": [
       "<matplotlib.figure.Figure at 0x1a2920bf98>"
      ]
     },
     "metadata": {},
     "output_type": "display_data"
    }
   ],
   "source": [
    "plt.figure()\n",
    "plt.title('Receiver Operating Characteristic curve example')\n",
    "plt.xlim([0.0, 1.0])\n",
    "plt.ylim([0.0, 1.05])\n",
    "plt.xlabel('FALSE Positive Rate')\n",
    "plt.ylabel('TRUE Positive Rate')\n",
    "plt.plot(fpr, tpr, color=LC,lw=LW, label='ROC curve (area = %0.2f)' % AUC)\n",
    "plt.plot([0, 1], [0, 1], color='navy', lw=LW, linestyle='--') # reference line for random classifier\n",
    "plt.legend(loc=LL)\n",
    "plt.show()"
   ]
  },
  {
   "cell_type": "code",
   "execution_count": 109,
   "metadata": {},
   "outputs": [
    {
     "name": "stdout",
     "output_type": "stream",
     "text": [
      "\n",
      "AUC score (using auc function): 0.87\n",
      "\n",
      "AUC score (using roc_auc_score function): 0.87 \n",
      "\n"
     ]
    }
   ],
   "source": [
    "print (\"\\nAUC score (using auc function):\", np.round(AUC, 2))\n",
    "print (\"\\nAUC score (using roc_auc_score function):\", np.round(roc_auc_score(T, preds), 2), \"\\n\")"
   ]
  },
  {
   "cell_type": "code",
   "execution_count": null,
   "metadata": {},
   "outputs": [],
   "source": []
  }
 ],
 "metadata": {
  "kernelspec": {
   "display_name": "Python 3",
   "language": "python",
   "name": "python3"
  },
  "language_info": {
   "codemirror_mode": {
    "name": "ipython",
    "version": 3
   },
   "file_extension": ".py",
   "mimetype": "text/x-python",
   "name": "python",
   "nbconvert_exporter": "python",
   "pygments_lexer": "ipython3",
   "version": "3.6.4"
  }
 },
 "nbformat": 4,
 "nbformat_minor": 2
}
